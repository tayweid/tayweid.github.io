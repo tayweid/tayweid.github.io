{
 "cells": [
  {
   "cell_type": "code",
   "execution_count": 1,
   "metadata": {},
   "outputs": [
    {
     "ename": "ModuleNotFoundError",
     "evalue": "No module named 'Weidman_Figures'",
     "output_type": "error",
     "traceback": [
      "\u001b[0;31m---------------------------------------------------------------------------\u001b[0m",
      "\u001b[0;31mModuleNotFoundError\u001b[0m                       Traceback (most recent call last)",
      "Cell \u001b[0;32mIn[1], line 1\u001b[0m\n\u001b[0;32m----> 1\u001b[0m \u001b[38;5;28;01mfrom\u001b[39;00m \u001b[38;5;21;01mWeidman_Figures\u001b[39;00m \u001b[38;5;28;01mimport\u001b[39;00m \u001b[38;5;241m*\u001b[39m\n\u001b[1;32m      3\u001b[0m fig, ax \u001b[38;5;241m=\u001b[39m Weid_Fig(height\u001b[38;5;241m=\u001b[39m\u001b[38;5;241m6\u001b[39m, widths\u001b[38;5;241m=\u001b[39m\u001b[38;5;241m6\u001b[39m, fontsize\u001b[38;5;241m=\u001b[39m\u001b[38;5;241m24\u001b[39m)\n\u001b[1;32m      5\u001b[0m data \u001b[38;5;241m=\u001b[39m {\n\u001b[1;32m      6\u001b[0m     \u001b[38;5;124m'\u001b[39m\u001b[38;5;124mcountry\u001b[39m\u001b[38;5;124m'\u001b[39m: [\n\u001b[1;32m      7\u001b[0m         \u001b[38;5;124m'\u001b[39m\u001b[38;5;124mNiger\u001b[39m\u001b[38;5;124m'\u001b[39m, \u001b[38;5;124m'\u001b[39m\u001b[38;5;124mIndia\u001b[39m\u001b[38;5;124m'\u001b[39m, \u001b[38;5;124m'\u001b[39m\u001b[38;5;124mIndonesia\u001b[39m\u001b[38;5;124m'\u001b[39m, \u001b[38;5;124m'\u001b[39m\u001b[38;5;124mChina\u001b[39m\u001b[38;5;124m'\u001b[39m, \u001b[38;5;124m'\u001b[39m\u001b[38;5;124mBrazil\u001b[39m\u001b[38;5;124m'\u001b[39m, \n\u001b[0;32m   (...)\u001b[0m\n\u001b[1;32m     20\u001b[0m     ]\n\u001b[1;32m     21\u001b[0m }\n",
      "\u001b[0;31mModuleNotFoundError\u001b[0m: No module named 'Weidman_Figures'"
     ]
    }
   ],
   "source": [
    "from Weidman_Figures import *\n",
    "\n",
    "fig, ax = Weid_Fig(height=6, widths=6, fontsize=24)\n",
    "\n",
    "data = {\n",
    "    'country': [\n",
    "        'Niger', 'India', 'Indonesia', 'China', 'Brazil', \n",
    "        'Russia', 'Poland', 'Spain', 'Japan', 'Switzerland',\n",
    "        'United States', 'Luxembourg', 'Qatar', 'Singapore'\n",
    "    ],\n",
    "    'gdp_per_capita': [\n",
    "        550, 2500, 4500, 12000, 9000,\n",
    "        12200, 18000, 30000, 40000, 85000,\n",
    "        65000, 118000, 97000, 72000\n",
    "    ],\n",
    "    'life_expectancy': [\n",
    "        63, 69, 72, 77, 76,\n",
    "        73, 79, 84, 85, 84,\n",
    "        79, 83, 80, 84\n",
    "    ]\n",
    "}\n",
    "\n",
    "plt.scatter(data['gdp_per_capita'], data['life_expectancy'], color='white', edgecolors='grey', alpha=0.7, s=50)\n",
    "\n",
    "plt.xlabel('GDP (trillion $)', loc='right')\n",
    "plt.ylabel('Production (billion kg)')\n",
    "plt.tight_layout()\n",
    "plt.savefig('ME03_04_Q1.png')"
   ]
  },
  {
   "cell_type": "code",
   "execution_count": null,
   "metadata": {},
   "outputs": [
    {
     "name": "stderr",
     "output_type": "stream",
     "text": [
      "<>:18: SyntaxWarning: invalid escape sequence '\\h'\n",
      "<>:19: SyntaxWarning: invalid escape sequence '\\h'\n",
      "<>:29: SyntaxWarning: invalid escape sequence '\\h'\n",
      "<>:18: SyntaxWarning: invalid escape sequence '\\h'\n",
      "<>:19: SyntaxWarning: invalid escape sequence '\\h'\n",
      "<>:29: SyntaxWarning: invalid escape sequence '\\h'\n",
      "/var/folders/v7/n92bbkrn50x_rhkvsgm29llc0000gn/T/ipykernel_10861/461495788.py:18: SyntaxWarning: invalid escape sequence '\\h'\n",
      "  ax1.set_xlabel('Fitted Values ($\\hat{y}$)')\n",
      "/var/folders/v7/n92bbkrn50x_rhkvsgm29llc0000gn/T/ipykernel_10861/461495788.py:19: SyntaxWarning: invalid escape sequence '\\h'\n",
      "  ax1.set_ylabel('Residuals ($\\hat{\\\\varepsilon}$)')\n",
      "/var/folders/v7/n92bbkrn50x_rhkvsgm29llc0000gn/T/ipykernel_10861/461495788.py:29: SyntaxWarning: invalid escape sequence '\\h'\n",
      "  ax2.set_xlabel('Fitted Values ($\\hat{y}$)')\n"
     ]
    }
   ],
   "source": [
    "import numpy as np\n",
    "import matplotlib.pyplot as plt\n",
    "import seaborn as sns\n",
    "\n",
    "# Set seed for reproducibility\n",
    "np.random.seed(42)\n",
    "\n",
    "# Create figure with two subplots\n",
    "fig, (ax1, ax2) = plt.subplots(1, 2, figsize=(12, 5))\n",
    "\n",
    "# Plot A: Non-linear relationship (U-shaped residuals)\n",
    "x_a = np.linspace(0, 10, 50)\n",
    "predictions_a = np.linspace(1, 6, 50)\n",
    "residuals_a = 0.5 * (x_a - 5)**2 + np.random.normal(0, 0.5, 50)\n",
    "\n",
    "ax1.scatter(predictions_a, residuals_a, alpha=0.7)\n",
    "ax1.axhline(y=0, color='r', linestyle='-')\n",
    "ax1.set_xlabel('Fitted Values ($\\hat{y}$)')\n",
    "ax1.set_ylabel('Residuals ($\\hat{\\\\varepsilon}$)')\n",
    "ax1.set_title('Plot A')\n",
    "\n",
    "# Plot B: Heteroskedastic pattern (fan shape)\n",
    "x_b = np.linspace(0, 10, 50)\n",
    "predictions_b = np.linspace(1, 6, 50)\n",
    "residuals_b = np.random.normal(0, 0.2 + 0.3 * x_b/10, 50)\n",
    "\n",
    "ax2.scatter(predictions_b, residuals_b, alpha=0.7)\n",
    "ax2.axhline(y=0, color='r', linestyle='-')\n",
    "ax2.set_xlabel('Fitted Values ($\\hat{y}$)')\n",
    "ax2.set_title('Plot B')\n",
    "\n",
    "plt.tight_layout()\n",
    "plt.savefig('ME_07_residual_plots.png', dpi=300)\n",
    "plt.show()"
   ]
  }
 ],
 "metadata": {
  "kernelspec": {
   "display_name": "Python 3 (ipykernel)",
   "language": "python",
   "name": "python3"
  },
  "language_info": {
   "codemirror_mode": {
    "name": "ipython",
    "version": 3
   },
   "file_extension": ".py",
   "mimetype": "text/x-python",
   "name": "python",
   "nbconvert_exporter": "python",
   "pygments_lexer": "ipython3",
   "version": "3.12.2"
  }
 },
 "nbformat": 4,
 "nbformat_minor": 4
}
