{
 "cells": [
  {
   "cell_type": "markdown",
   "metadata": {
    "id": "13x-_nNXoWvY"
   },
   "source": [
    "# Homework 1.3"
   ]
  },
  {
   "cell_type": "code",
   "execution_count": 8,
   "metadata": {
    "id": "_KVc7I5q79B_"
   },
   "outputs": [],
   "source": [
    "# Imports\n",
    "import pandas as pd\n",
    "\n",
    "# Load Data\n",
    "file_path = 'https://tayweid.github.io/econ-0150/hw/hw-1-4/'"
   ]
  },
  {
   "cell_type": "markdown",
   "metadata": {
    "id": "-7kEagQpocL_"
   },
   "source": [
    "## Question 1"
   ]
  },
  {
   "cell_type": "code",
   "execution_count": 5,
   "metadata": {},
   "outputs": [],
   "source": [
    "receipts = pd.read_csv(file_path + 'Coffee_Sales_Reciepts_Simple.csv')"
   ]
  },
  {
   "cell_type": "markdown",
   "metadata": {
    "id": "-7kEagQpocL_"
   },
   "source": [
    "## Question 2"
   ]
  },
  {
   "cell_type": "code",
   "execution_count": 6,
   "metadata": {},
   "outputs": [],
   "source": [
    "hours = pd.read_csv(file_path + 'Starbucks_Location_Hours_Simple.csv')"
   ]
  },
  {
   "cell_type": "markdown",
   "metadata": {
    "id": "-7kEagQpocL_"
   },
   "source": [
    "## Question 3"
   ]
  },
  {
   "cell_type": "code",
   "execution_count": 7,
   "metadata": {},
   "outputs": [],
   "source": [
    "prices = pd.read_csv(file_path + 'Monthly_Coffee_Prices_Simple.csv')"
   ]
  }
 ],
 "metadata": {
  "colab": {
   "authorship_tag": "ABX9TyOtno6AybE3WJlHBiWl3DFx",
   "provenance": []
  },
  "kernelspec": {
   "display_name": "Python 3 (ipykernel)",
   "language": "python",
   "name": "python3"
  },
  "language_info": {
   "codemirror_mode": {
    "name": "ipython",
    "version": 3
   },
   "file_extension": ".py",
   "mimetype": "text/x-python",
   "name": "python",
   "nbconvert_exporter": "python",
   "pygments_lexer": "ipython3",
   "version": "3.11.8"
  }
 },
 "nbformat": 4,
 "nbformat_minor": 4
}
