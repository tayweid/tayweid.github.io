


# Imports
import pandas as pd

# Load Data
file_path = 'https://tayweid.github.io/econ-0150/hw/hw-1-4/'





receipts = pd.read_csv(file_path + 'Coffee_Sales_Reciepts_Simple.csv')





hours = pd.read_csv(file_path + 'Starbucks_Location_Hours_Simple.csv')





prices = pd.read_csv(file_path + 'Monthly_Coffee_Prices_Simple.csv')
