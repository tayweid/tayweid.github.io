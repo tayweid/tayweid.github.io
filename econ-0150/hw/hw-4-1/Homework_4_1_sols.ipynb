{
 "cells": [
  {
   "cell_type": "markdown",
   "metadata": {},
   "source": [
    "# ECON 0150 | Spring 2025 | Homework 4.1"
   ]
  },
  {
   "cell_type": "markdown",
   "metadata": {},
   "source": "### Due: \n\nHomework is designed to both test your knowledge and challenge you to apply familiar concepts in new applications. Answer clearly and completely. You are welcomed and encouraged to work in groups so long as your work is your own. Use the provided datasets to answer the following questions. Then submit your figures and answers to Gradescope."
  },
  {
   "cell_type": "code",
   "metadata": {},
   "source": [
    "# Imports\n",
    "import pandas as pd\n",
    "import numpy as np\n",
    "import matplotlib.pyplot as plt\n",
    "import seaborn as sns\n",
    "%matplotlib inline"
   ],
   "outputs": [],
   "execution_count": null
  },
  {
   "cell_type": "code",
   "metadata": {},
   "source": [
    "# Load Data\n",
    "pa_sample_30 = pd.read_csv('data/pa_sample_30.csv')\n"
   ],
   "outputs": [],
   "execution_count": null
  },
  {
   "cell_type": "markdown",
   "metadata": {},
   "source": [
    "#### Q1. Linear Regression and the t-Test"
   ]
  },
  {
   "cell_type": "markdown",
   "metadata": {},
   "source": [
    "Explain in your own words how a one-sample t-test can be represented as a linear regression model. What parameter in the regression corresponds to the mean being tested in a t-test? (1\u20132 sentences)"
   ]
  },
  {
   "cell_type": "markdown",
   "metadata": {},
   "source": [
    "#### Q2. True or False? Explain your reasoning."
   ]
  },
  {
   "cell_type": "markdown",
   "metadata": {},
   "source": [
    "a) The intercept in a regression model with no predictors equals the sample mean of the outcome variable."
   ]
  },
  {
   "cell_type": "markdown",
   "metadata": {},
   "source": [
    "b) The p-value for the intercept in a regression with no predictors tests whether the population mean equals zero."
   ]
  },
  {
   "cell_type": "markdown",
   "metadata": {},
   "source": [
    "c) The standard error of the intercept in a regression with no predictors equals the standard deviation of the dependent variable divided by the square root of the sample size."
   ]
  },
  {
   "cell_type": "markdown",
   "metadata": {},
   "source": [
    "#### Q3. Study Hours"
   ]
  },
  {
   "cell_type": "markdown",
   "metadata": {},
   "source": [
    "An economics professor claims that students spend 6 hours per week on average studying for their economics class. You survey 20 students and record the following number of hours they reported studying per week:\n\n```python\nstudy_hours = [5.2, 7.1, 4.8, 6.5, 8.0, 5.5, 7.3, 4.2, 6.7, 5.8, \n               7.5, 6.2, 5.0, 7.8, 6.3, 4.5, 6.9, 5.7, 7.2, 6.0]\n```"
   ]
  },
  {
   "cell_type": "markdown",
   "metadata": {},
   "source": [
    "a) Use a one-sample t-test to test whether the average study time differs from the claimed 6 hours per week. What is the p-value for this test?"
   ]
  },
  {
   "cell_type": "markdown",
   "metadata": {},
   "source": [
    "b) Use a regression model with only an intercept to perform a test of the default null hypothesis on the intercept coefficient. What is the p-value for this test?"
   ]
  },
  {
   "cell_type": "markdown",
   "metadata": {},
   "source": [
    "c) Explain why the p-values differ with these two approaches."
   ]
  },
  {
   "cell_type": "markdown",
   "metadata": {},
   "source": [
    "#### Q4. Real Data t-Test: Pennsylvania Household Income"
   ]
  },
  {
   "cell_type": "markdown",
   "metadata": {},
   "source": [
    "According to USAFacts, the median household income in Pennsylvania was reported to be $73,824 in 2023.\n\nYou are provided with a sample of median household incomes for a set of Pennsylvania counties. Use this sample to test whether the average median household income in these counties differs from the statewide benchmark."
   ]
  },
  {
   "cell_type": "markdown",
   "metadata": {},
   "source": [
    "a) Using the provided dataset, conduct a one-sample t-test to assess whether the average median household income in the sample differs from $73,824. Clearly report:\n- the sample mean and standard deviation,\n- the t-statistic and degrees of freedom,\n- the p-value and 95% confidence interval."
   ]
  },
  {
   "cell_type": "markdown",
   "metadata": {},
   "source": [
    "b) Based on your results, does the sample provide evidence that the average county income is significantly different from the statewide median? Briefly explain."
   ]
  }
 ],
 "metadata": {
  "kernelspec": {
   "display_name": "Python 3",
   "language": "python",
   "name": "python3"
  },
  "language_info": {
   "codemirror_mode": {
    "name": "ipython",
    "version": 3
   },
   "file_extension": ".py",
   "mimetype": "text/x-python",
   "name": "python",
   "nbconvert_exporter": "python",
   "pygments_lexer": "ipython3",
   "version": "3.8.0"
  }
 },
 "nbformat": 4,
 "nbformat_minor": 4
}