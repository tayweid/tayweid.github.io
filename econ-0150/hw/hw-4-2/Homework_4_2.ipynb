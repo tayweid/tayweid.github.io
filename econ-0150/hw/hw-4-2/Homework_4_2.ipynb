{
 "cells": [
  {
   "cell_type": "markdown",
   "metadata": {},
   "source": [
    "# ECON 0150 | Spring 2025 | Homework 4.2"
   ]
  },
  {
   "cell_type": "markdown",
   "metadata": {},
   "source": "### Due: \n\nHomework is designed to both test your knowledge and challenge you to apply familiar concepts in new applications. Answer clearly and completely. You are welcomed and encouraged to work in groups so long as your work is your own. Use the provided datasets to answer the following questions. Then submit your figures and answers to Gradescope."
  },
  {
   "cell_type": "code",
   "metadata": {},
   "source": [
    "# Imports\n",
    "import pandas as pd\n",
    "import numpy as np\n",
    "import matplotlib.pyplot as plt\n",
    "import seaborn as sns\n",
    "%matplotlib inline"
   ],
   "outputs": [],
   "execution_count": null
  },
  {
   "cell_type": "code",
   "metadata": {},
   "source": [
    "# Load Data\n",
    "BRFSS_cleaned = pd.read_csv('data/BRFSS_cleaned.csv')\n"
   ],
   "outputs": [],
   "execution_count": null
  },
  {
   "cell_type": "markdown",
   "metadata": {},
   "source": [
    "#### Q1. Working Hours and Weekly Income"
   ]
  },
  {
   "cell_type": "markdown",
   "metadata": {},
   "source": [
    "An economist is studying the relationship between time spent working (hours per week) and weekly income (in dollars) for part-time employees. The data for 15 randomly selected employees is:\n\n```python\nhours_worked = [15, 22, 12, 25, 18, 10, 20, 28, 14, 16, 24, 19, 21, 17, 23]\nweekly_income = [320, 465, 255, 510, 385, 210, 420, 570, 305, 340, \n                 490, 400, 445, 360, 475]\n```"
   ]
  },
  {
   "cell_type": "markdown",
   "metadata": {},
   "source": [
    "a) Create a scatter plot of weekly income versus hours worked. Does there appear to be a relationship?"
   ]
  },
  {
   "cell_type": "code",
   "metadata": {},
   "source": [
    "# "
   ],
   "outputs": [],
   "execution_count": null
  },
  {
   "cell_type": "markdown",
   "metadata": {},
   "source": [
    "b) Fit a linear regression model to predict weekly income based on hours worked. What is the interpretation of the intercept coefficient?"
   ]
  },
  {
   "cell_type": "markdown",
   "metadata": {},
   "source": [
    "c) What is the interpretation of the slope coefficient?"
   ]
  },
  {
   "cell_type": "markdown",
   "metadata": {},
   "source": [
    "d) What is the interpretation of the p-value of the slope coefficient?"
   ]
  },
  {
   "cell_type": "markdown",
   "metadata": {},
   "source": [
    "#### Q2. County Unemployment and BMI"
   ]
  },
  {
   "cell_type": "markdown",
   "metadata": {},
   "source": [
    "##### a)\n\nRead the article: Zhang, Q., Lamichhane, R., & Wang, Y. (2014). Associations between US adult obesity and state and county economic conditions in the recession. Journal of clinical medicine, 3(1), 153-166.\nhttps://pmc.ncbi.nlm.nih.gov/articles/PMC4449673/\n\nBased on your reading, answer the following questions:\n\n1. What is the primary research question the authors are trying to answer?\n2. What dataset(s) do the authors use for their analysis? Be specific about the years and key variables.\n3. What are the main outcome variables, and what are the key explanatory variables?\n4. Summarize the main findings in 2\u20133 sentences. What is the estimated effect of county unemployment on BMI and physical activity? Is it statistically significant?\n\n##### b)\n\nYou are provided with a sample of individual-level data from the 2011 Behavioral Risk Factor Surveillance System (BRFSS), which includes the following variables:\n\n- `bmi` \u2013 individual Body Mass Index (kg/m\u00b2)\n- `Mental Healt` \u2013 days of Poor Mental Health in the Past 30 Days\n- `county_unemp` \u2013 county-level unemployment rate (in percentage points)\n\nUsing this data, estimate the following linear regression model:\n\n$$\n\\texttt{bmi}_i = \\beta_0 + \\beta_1 \\cdot \\texttt{county\\_unemp}_i + \\varepsilon_i\n$$\n\n1. Report the estimated coefficients $\\hat\\beta_0$ and $\\hat\\beta_1$, along with their standard errors, $t$-statistics, and $p$-values. Also attach the code you run. \n    \n2. Interpret the coefficient $\\hat\\beta_1$. What does it suggest about the relationship between county unemployment and individual BMI?\n\n3. Identify the corresponding table and column in the Chen et al. (2014) paper where a similar regression is reported. How does your estimated coefficient compare in magnitude, sign, and statistical significance?\n\n##### c)\n\nThe 2011 BRFSS also includes information on mental health. The variable `menthlth` records the number of days in the past 30 days when the respondent's mental health was \"not good.\"\n\n1. Estimate the following regression model:\n   $$\n   \\texttt{menthlth}_i = \\beta_0 + \\beta_1 \\cdot \\texttt{county\\_unemp}_i + \\varepsilon_i\n   $$\n   Report and interpret the estimated coefficient $\\hat\\beta_1$."
   ]
  },
  {
   "cell_type": "code",
   "metadata": {},
   "source": [
    "# "
   ],
   "outputs": [],
   "execution_count": null
  }
 ],
 "metadata": {
  "kernelspec": {
   "display_name": "Python 3",
   "language": "python",
   "name": "python3"
  },
  "language_info": {
   "codemirror_mode": {
    "name": "ipython",
    "version": 3
   },
   "file_extension": ".py",
   "mimetype": "text/x-python",
   "name": "python",
   "nbconvert_exporter": "python",
   "pygments_lexer": "ipython3",
   "version": "3.8.0"
  }
 },
 "nbformat": 4,
 "nbformat_minor": 4
}