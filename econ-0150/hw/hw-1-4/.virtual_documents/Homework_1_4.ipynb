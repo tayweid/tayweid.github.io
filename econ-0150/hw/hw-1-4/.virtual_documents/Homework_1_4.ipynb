


# Imports
import pandas as pd
import seaborn as sns
import matplotlib.pyplot as plt

# File Path
file_path = 'data/'


# Load Data
data = pd.read_csv(file_path + 'amazon_book_sales.csv')








sns.histplot(data, x="Price", hue="Genre", element="poly", fill=False, bins=10)


sns.histplot(data, x='Price', hue='Genre', element='step', bins=25)


sns.histplot(data, x='Price', hue='Genre', cumulative=True, element='step')


sns.ecdfplot(data, x='Price', hue='Genre')








sns.histplot(data, x='User Rating', hue='Genre', element='step', bins=15)


sns.histplot(data, x='User Rating', hue='Genre', cumulative=True, element='step')


sns.ecdfplot(data=data, x='User Rating', hue='Genre')



