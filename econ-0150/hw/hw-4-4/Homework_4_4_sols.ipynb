{
 "cells": [
  {
   "cell_type": "markdown",
   "metadata": {},
   "source": [
    "# ECON 0150 | Spring 2025 | Homework 4.4"
   ]
  },
  {
   "cell_type": "markdown",
   "metadata": {},
   "source": "### Due: \n\nHomework is designed to both test your knowledge and challenge you to apply familiar concepts in new applications. Answer clearly and completely. You are welcomed and encouraged to work in groups so long as your work is your own. Use the provided datasets to answer the following questions. Then submit your figures and answers to Gradescope."
  },
  {
   "cell_type": "code",
   "metadata": {},
   "source": [
    "# Imports\n",
    "import pandas as pd\n",
    "import numpy as np\n",
    "import matplotlib.pyplot as plt\n",
    "import seaborn as sns\n",
    "%matplotlib inline"
   ],
   "outputs": [],
   "execution_count": null
  },
  {
   "cell_type": "code",
   "metadata": {},
   "source": [
    "# Load Data\n",
    "BRFSS_cleaned = pd.read_csv('data/BRFSS_cleaned.csv')\n"
   ],
   "outputs": [],
   "execution_count": null
  },
  {
   "cell_type": "markdown",
   "metadata": {},
   "source": [
    "#### Q1. Social Media and Mental Health"
   ]
  },
  {
   "cell_type": "markdown",
   "metadata": {},
   "source": [
    "A (fictional) economist studied the relationship between social media usage, mental health, and academic performance among college students. A regression using data from 150 students used `academic_score` as the outcome variable and produced the following (fictional) results:\n\n**Regression of Academic Score on Social Media, Mental Health, and First-Generation Status**\n\n| Variable | coef | std err | t | P>|t| | [0.025 | 0.975] |\n|----------|------|---------|---|-------|--------|---------|\n| const | 82.4516 | 2.631 | 31.338 | 0.000 | 77.256 | 87.647 |\n| social_media_hrs | -0.9237 | 0.192 | -4.810 | 0.031 | -1.303 | -0.544 |\n| mental_health_score | 0.6382 | 0.145 | 4.401 | 0.300 | 0.352 | 0.925 |\n| first_gen_student | -4.1265 | 1.754 | -2.353 | 0.020 | -7.592 | -0.661 |\n\nWhere:\n\n- `academic_score` is the student's overall GPA on a 0\u2013100 scale\n- `social_media_hrs` is the average daily hours spent on social media\n- `mental_health_score` is a validated mental wellness score (0\u201350, higher is better)\n- `first_gen_student` is a binary indicator (1 if first-generation college student, 0 otherwise)"
   ]
  },
  {
   "cell_type": "markdown",
   "metadata": {},
   "source": [
    "a) Interpret the coefficient on `social_media_hrs`. How is academic performance associated with each additional hour spent on social media?"
   ]
  },
  {
   "cell_type": "markdown",
   "metadata": {},
   "source": [
    "b) Use one sentence to interpret the p-value on `social_media_hrs`."
   ]
  },
  {
   "cell_type": "markdown",
   "metadata": {},
   "source": [
    "c) Use one sentence to interpret the coefficient on `mental_health_score`. What does the coefficient tell us about the relationship between mental health and academic performance?"
   ]
  },
  {
   "cell_type": "markdown",
   "metadata": {},
   "source": [
    "d) Use one sentence to interpret the p-value on `mental_health_score`."
   ]
  },
  {
   "cell_type": "markdown",
   "metadata": {},
   "source": [
    "#### Q2. Mental Health and County Unemployment"
   ]
  },
  {
   "cell_type": "markdown",
   "metadata": {},
   "source": [
    "In Homework 4.2, you estimated the relationship between county-level unemployment and self-reported mental health using 2011 BRFSS data. You now have an extended version of the dataset that includes additional individual-level control variables."
   ]
  },
  {
   "cell_type": "markdown",
   "metadata": {},
   "source": [
    "a) Estimate the following multiple regression model:\n   $$\n   \\texttt{menthlth}_i = \\beta_0 + \\beta_1 \\cdot \\texttt{county\\_unemp}_i + \\beta_2 \\cdot X_{i1} + \\beta_3 \\cdot X_{i2} + \\beta_4 \\cdot X_{i3} + \\varepsilon_i\n   $$\n   where the additional variables $X_{i1}, X_{i2}, X_{i3}$ are provided in the dataset.\n\n   Report the estimated coefficients, standard errors, $t$-statistics, and $p$-values. Attach your code and regression output."
   ]
  },
  {
   "cell_type": "code",
   "metadata": {},
   "source": [
    "# "
   ],
   "outputs": [],
   "execution_count": null
  },
  {
   "cell_type": "markdown",
   "metadata": {},
   "source": [
    "b) Interpret the coefficient on `county_unemp`. How does it compare to the simple regression you ran in Homework 4.2? Has the estimate changed in sign, magnitude, or significance?"
   ]
  }
 ],
 "metadata": {
  "kernelspec": {
   "display_name": "Python 3",
   "language": "python",
   "name": "python3"
  },
  "language_info": {
   "codemirror_mode": {
    "name": "ipython",
    "version": 3
   },
   "file_extension": ".py",
   "mimetype": "text/x-python",
   "name": "python",
   "nbconvert_exporter": "python",
   "pygments_lexer": "ipython3",
   "version": "3.8.0"
  }
 },
 "nbformat": 4,
 "nbformat_minor": 4
}