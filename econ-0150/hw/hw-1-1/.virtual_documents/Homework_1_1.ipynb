


# Imports
import pandas as pd


# Load Data
url = 'https://tayweid.github.io/econ-0150/hw/hw-1-0/ECON_0150_Survey.csv'
data = pd.read_csv(url)
data.head()





#
