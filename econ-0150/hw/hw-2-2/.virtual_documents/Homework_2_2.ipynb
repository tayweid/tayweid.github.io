





# Imports
import pandas as pd
import matplotlib.pyplot as plt
import seaborn as sns


# Load Data
url = 'https://tayweid.github.io/econ-0150/hw/hw-2-2/data/coffee_prod_in_years.csv'
data = pd.read_csv(url)
