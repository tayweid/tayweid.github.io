{
 "cells": [
  {
   "cell_type": "markdown",
   "metadata": {},
   "source": [
    "# ECON 0150 | Spring 2025 | Homework 2.1"
   ]
  },
  {
   "cell_type": "markdown",
   "metadata": {},
   "source": "### Due: \n\nHomework is designed to both test your knowledge and challenge you to apply familiar concepts in new applications. Answer clearly and completely. You are welcomed and encouraged to work in groups so long as your work is your own. Use the datafile to answer the following questions. Then submit your figures and answers to Gradescope."
  },
  {
   "cell_type": "code",
   "metadata": {},
   "source": "# Imports\nimport pandas as pd\nimport numpy as np\nimport matplotlib.pyplot as plt\nimport seaborn as sns\n%matplotlib inline\n\n# Set style for better-looking plots\nplt.style.use('seaborn-v0_8-whitegrid')\nsns.set_palette(\"husl\")",
   "outputs": []
  },
  {
   "cell_type": "code",
   "source": "# Setup: Data Preparation\n# This code prepares the coffee production and agriculture employment datasets\n\n# Load raw data\nagric = pd.read_csv('data/world_in_data.csv')\ncoffee = pd.read_csv('data/coffee_bean_production.csv')\n\n# Clean the coffee data\n# Drop rows where Code is empty or NA\ncoffee = coffee[(coffee['Code'].notna()) & (coffee['Code'] != '')]\n\n# Drop Entity=World\ncoffee = coffee[coffee['Entity'] != 'World']\n\n# Count number of unique years\ntotal_years = coffee['Year'].nunique()\n\n# Filter to keep only countries that appear in all years\ncoffee_years = (coffee.groupby('Code')\n                .filter(lambda x: len(x) == total_years)\n                .copy())\n\n# Save panel data for coffee production\ncoffee_years.to_csv('data/coffee_prod_in_years.csv', index=False)\n\n# Keep only Year=2023 for merging\ncoffee_2023 = coffee[coffee['Year'] == 2023].copy()\n\n# Rename columns for merging\ncoffee_2023 = coffee_2023.rename(columns={\n    'Code': 'Country.Code',\n    'Entity': 'Country.Name'\n})\n\n# Merge the data using Country.Code, keep only matched rows\nmerged_data = pd.merge(agric, coffee_2023, on='Country.Code', how='inner')\n\n# Drop duplicate country name column\nmerged_data = merged_data.drop('Country.Name.y', axis=1)\n\n# Rename columns for clarity\nmerged_data = merged_data.rename(columns={\n    'Country.Name.x': 'Country_Name',\n    'Country.Code': 'Country_Code',\n    'Employment.in.agriculture....of.total.employment.': 'Employment_in_agriculture',\n    'coffe_prod': 'Coffee_Prod'\n})\n\n# Save the merged data\nmerged_data.to_csv('data/coffee_prod_agr.csv', index=False)\n\nprint(f\"Setup complete! Created datasets:\")\nprint(f\"- coffee_prod_agr.csv: {len(merged_data)} countries with coffee & agriculture data\")\nprint(f\"- coffee_prod_in_years.csv: {len(coffee_years['Code'].unique())} countries across {total_years} years\")",
   "metadata": {},
   "outputs": []
  },
  {
   "cell_type": "code",
   "metadata": {},
   "source": [
    "# Load Data\n",
    "coffee_prod_agr = pd.read_csv('data/coffee_prod_agr.csv')\n",
    "coffee_bean_production = pd.read_csv('data/coffee_bean_production.csv')\n",
    "world_in_data = pd.read_csv('data/world_in_data.csv')\n"
   ],
   "outputs": [],
   "execution_count": null
  },
  {
   "cell_type": "markdown",
   "metadata": {},
   "source": [
    "#### Q1. Bike Hires and Weather"
   ]
  },
  {
   "cell_type": "markdown",
   "metadata": {},
   "source": [
    "In the following questions, we'll analyze a data set that includes the monthly number of bike hires in London as well as monthly weather data: minimum and maximum temperature in degrees Celsius, rain in millimeters, and hours of sunshine.\n\n![](i/HW4_image.png)"
   ]
  },
  {
   "cell_type": "markdown",
   "metadata": {},
   "source": [
    "a) From the list below, how much did it rain in the month with the largest number of bike hires?\n\n- 7.6 mm\n- 27.6 mm\n- 137.6 mm\n- 157.6 mm"
   ]
  },
  {
   "cell_type": "markdown",
   "metadata": {},
   "source": [
    "b) When were bikes most popular?\n\n- In very sunny months\n- In moderately sunny months\n- In cloudy months\n- Sunshine and bike hires were not strongly related"
   ]
  },
  {
   "cell_type": "markdown",
   "metadata": {},
   "source": [
    "c) In months with what maximum temperatures were bikes most popular?\n\n- Between 5 C and 10 C\n- Between 15 C and 20 C\n- Between 25 C and 30 C\n- Maximum temperature and bike hires were not strongly related"
   ]
  },
  {
   "cell_type": "markdown",
   "metadata": {},
   "source": [
    "#### Q2. A Relationship Between Variables"
   ]
  },
  {
   "cell_type": "markdown",
   "metadata": {},
   "source": [
    "The dataset `coffee_prod_agr.csv` provides information on coffee production and employment in agriculture across different countries. Refer to the links below to answer the following question.\n\n- Data source (1): https://ourworldindata.org/grapher/coffee-production-by-region?tab=table\n- Data source (2): https://data.worldbank.org/indicator/SL.AGR.EMPL.ZS"
   ]
  },
  {
   "cell_type": "markdown",
   "metadata": {},
   "source": [
    "a) Who collects the data reported in each source? Briefly describe the role of the organization behind it."
   ]
  },
  {
   "cell_type": "markdown",
   "metadata": {},
   "source": [
    "b) Identify one potential limitation in the data."
   ]
  },
  {
   "cell_type": "markdown",
   "metadata": {},
   "source": "# Solution for Q2c: Visualization of coffee production vs employment in agriculture\n\n# Convert coffee production to thousands of tons for better readability\ncoffee_prod_agr['Coffee_Prod_1000tons'] = coffee_prod_agr['Coffee_Prod'] / 1000\n\n# Create scatter plot\nplt.figure(figsize=(10, 6))\nplt.scatter(coffee_prod_agr['Employment_in_agriculture'], \n            coffee_prod_agr['Coffee_Prod_1000tons'],\n            alpha=0.6, s=50)\n\nplt.xlabel('Employment in Agriculture (% of total employment)', fontsize=12)\nplt.ylabel('Coffee Production (thousands of tons)', fontsize=12)\nplt.title('Coffee Production vs Employment in Agriculture', fontsize=14)\n\n# Add grid for better readability\nplt.grid(True, alpha=0.3)\n\n# Save the figure\nplt.savefig('i/HW_2_1_c.png', dpi=300, bbox_inches='tight')\nplt.show()\n\n# Calculate correlation\ncorrelation = coffee_prod_agr['Employment_in_agriculture'].corr(coffee_prod_agr['Coffee_Prod'])\nprint(f\"Correlation coefficient: {correlation:.3f}\")",
   "outputs": []
  },
  {
   "cell_type": "code",
   "metadata": {},
   "source": [
    "# "
   ],
   "outputs": [],
   "execution_count": null
  },
  {
   "cell_type": "markdown",
   "metadata": {},
   "source": [
    "d) Describe the relationship: Is it positive, negative, or unclear?"
   ]
  },
  {
   "cell_type": "markdown",
   "metadata": {},
   "source": [
    "e) How might this relationship relate to the correlation between coffee production and GDP?"
   ]
  },
  {
   "cell_type": "markdown",
   "metadata": {},
   "source": [
    "f) Why might economists be interested in studying both of these relationships? What kinds of questions could they answer?"
   ]
  },
  {
   "cell_type": "markdown",
   "metadata": {},
   "source": [
    "g) Go to the data sources and download the latest available data for the year 2020. Using this updated data, choose two variables and generate a figure. Upload both your figure and the cleaned dataset you used to Gradescope. Briefly describe the steps you followed to retrieve and clean the data."
   ]
  },
  {
   "cell_type": "code",
   "metadata": {},
   "source": [
    "# "
   ],
   "outputs": [],
   "execution_count": null
  }
 ],
 "metadata": {
  "kernelspec": {
   "display_name": "Python 3",
   "language": "python",
   "name": "python3"
  },
  "language_info": {
   "codemirror_mode": {
    "name": "ipython",
    "version": 3
   },
   "file_extension": ".py",
   "mimetype": "text/x-python",
   "name": "python",
   "nbconvert_exporter": "python",
   "pygments_lexer": "ipython3",
   "version": "3.8.0"
  }
 },
 "nbformat": 4,
 "nbformat_minor": 4
}