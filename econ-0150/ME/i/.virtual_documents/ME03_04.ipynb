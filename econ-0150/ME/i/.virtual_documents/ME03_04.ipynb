from Weidman_Figures import *

fig, ax = Weid_Fig(height=3, widths=10, fontsize=20)

data = {
    'country': [
        'Niger', 'India', 'Indonesia', 'China', 'Brazil', 
        'Russia', 'Poland', 'Spain', 'Japan', 'Switzerland',
        'United States', 'Luxembourg', 'Qatar', 'Singapore'
    ],
    'gdp_per_capita': [
        550, 2500, 4500, 12000, 9000,
        12200, 18000, 30000, 40000, 85000,
        65000, 118000, 97000, 72000
    ],
    'life_expectancy': [
        63, 69, 72, 77, 76,
        73, 79, 84, 85, 84,
        79, 83, 80, 84
    ]
}

plt.scatter(data['gdp_per_capita'], data['life_expectancy'], color='black', s=50)

plt.xlabel('GDP per Capita', loc='right')
plt.ylabel('Life Expectancy', loc='top')

plt.tight_layout()

plt.subplots_adjust(left=0.3,    # left side padding
                   right=0.7)    # bottom padding

plt.savefig('ME03_04_Q1.png')
