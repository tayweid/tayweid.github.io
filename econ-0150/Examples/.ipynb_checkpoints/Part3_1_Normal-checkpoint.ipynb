{
 "cells": [
  {
   "cell_type": "markdown",
   "id": "d4e398c8-1d21-4ea2-871f-8a50760a03f7",
   "metadata": {},
   "source": [
    "# Normal Distribution"
   ]
  },
  {
   "cell_type": "markdown",
   "id": "4f4a249e-0846-4607-a713-e9719c6f7767",
   "metadata": {},
   "source": [
    "## P(X < 6)"
   ]
  },
  {
   "cell_type": "code",
   "execution_count": 5,
   "id": "42982577-b412-4179-bf60-153984d46beb",
   "metadata": {},
   "outputs": [
    {
     "name": "stdout",
     "output_type": "stream",
     "text": [
      "The probability that X is less than 6 is: 0.0013498980316300933\n"
     ]
    }
   ],
   "source": [
    "from scipy.stats import norm\n",
    "\n",
    "# Given parameters\n",
    "mean = 18\n",
    "sigma = 4\n",
    "\n",
    "# Find the probability that the variable is less than 6\n",
    "probability = norm.cdf(6, mean, sigma)\n",
    "\n",
    "print(\"The probability that X is less than 6 is:\", probability)"
   ]
  },
  {
   "cell_type": "markdown",
   "id": "df5fd59f-415a-4944-b39f-99f04796b92b",
   "metadata": {},
   "source": [
    "## P(X>10)"
   ]
  },
  {
   "cell_type": "code",
   "execution_count": 8,
   "id": "b92d063c-7c4b-4a8a-96d3-f55b2bd1210a",
   "metadata": {},
   "outputs": [
    {
     "name": "stdout",
     "output_type": "stream",
     "text": [
      "The probability that X is greater than 10 is: 0.9772498680518208\n"
     ]
    }
   ],
   "source": [
    "from scipy.stats import norm\n",
    "\n",
    "# Given parameters\n",
    "mean = 18\n",
    "sigma = 4\n",
    "\n",
    "# Find the probability that the variable is less than 6\n",
    "probability = 1 - norm.cdf(10, mean, sigma)\n",
    "\n",
    "print(\"The probability that X is greater than 10 is:\", probability)"
   ]
  },
  {
   "cell_type": "markdown",
   "id": "d21f09c3-372a-4edf-a23b-d901fe8b8424",
   "metadata": {},
   "source": [
    "## P(X>22)"
   ]
  },
  {
   "cell_type": "code",
   "execution_count": 9,
   "id": "ee2f3480-d8ec-4db3-bc87-ddbfa2f8d70c",
   "metadata": {},
   "outputs": [
    {
     "name": "stdout",
     "output_type": "stream",
     "text": [
      "The probability that X is greater than 22 is: 0.15865525393145707\n"
     ]
    }
   ],
   "source": [
    "from scipy.stats import norm\n",
    "\n",
    "# Given parameters\n",
    "mean = 18\n",
    "sigma = 4\n",
    "\n",
    "# Find the probability that the variable is less than 6\n",
    "probability = 1 - norm.cdf(22, mean, sigma)\n",
    "\n",
    "print(\"The probability that X is greater than 22 is:\", probability)"
   ]
  },
  {
   "cell_type": "markdown",
   "id": "01b314a5-66b1-42b0-9ed7-0186e78493db",
   "metadata": {},
   "source": [
    "## P(18 < X < 23) = P(0 < Z < 1)"
   ]
  },
  {
   "cell_type": "code",
   "execution_count": 10,
   "id": "2b758919-058b-452d-8c56-eb3fe294dc29",
   "metadata": {},
   "outputs": [
    {
     "name": "stdout",
     "output_type": "stream",
     "text": [
      "The probability that X is between 0 and 1 is: 0.3413447460685429\n"
     ]
    }
   ],
   "source": [
    "from scipy.stats import norm\n",
    "\n",
    "mu = 0     # Mean of the distribution\n",
    "sigma = 1  # Standard deviation of the distribution\n",
    "\n",
    "# Define the values a and b\n",
    "a = 0\n",
    "b = 1\n",
    "\n",
    "# Calculate the cumulative distribution function (CDF) at a and b\n",
    "P_a = norm.cdf(a, mu, sigma)  # Probability of Z <= a\n",
    "P_b = norm.cdf(b, mu, sigma)  # Probability of Z <= b\n",
    "\n",
    "# The probability of X being between a and b\n",
    "probability = P_b - P_a\n",
    "\n",
    "print(f\"The probability that X is between {a} and {b} is: {probability}\")"
   ]
  },
  {
   "cell_type": "markdown",
   "id": "20dc494e-38f0-41df-80d9-f0070421d83d",
   "metadata": {},
   "source": [
    "## Find the value at a percentile"
   ]
  },
  {
   "cell_type": "code",
   "execution_count": 4,
   "id": "d94f7825-e107-4d19-936f-12a05bccba7a",
   "metadata": {},
   "outputs": [
    {
     "name": "stdout",
     "output_type": "stream",
     "text": [
      "16th percentile for N(18, 5): 13.027710583951235\n"
     ]
    }
   ],
   "source": [
    "from scipy.stats import norm\n",
    "\n",
    "percentile = 16\n",
    "\n",
    "mean = 18\n",
    "std_dev = 5\n",
    "custom_normal = norm(loc=mean, scale=std_dev)\n",
    "\n",
    "value_custom = custom_normal.ppf(percentile / 100)\n",
    "print(f\"{percentile}th percentile for N({mean}, {std_dev}):\", value_custom)"
   ]
  },
  {
   "cell_type": "markdown",
   "id": "45f4e547-88de-479d-ac6b-3abf8337f34c",
   "metadata": {},
   "source": [
    "## Find the area between two values"
   ]
  },
  {
   "cell_type": "code",
   "execution_count": 4,
   "id": "b177b532-3306-47be-ad21-c43c623b9caf",
   "metadata": {},
   "outputs": [
    {
     "name": "stdout",
     "output_type": "stream",
     "text": [
      "The probability that X is between -1 and 1 is: 0.6826894921370859\n"
     ]
    }
   ],
   "source": [
    "from scipy.stats import norm\n",
    "\n",
    "# Define the mean and standard deviation of the distribution\n",
    "mu = 0     # Mean of the distribution\n",
    "sigma = 1  # Standard deviation of the distribution\n",
    "\n",
    "# Define the values a and b\n",
    "a = -1\n",
    "b = 1\n",
    "\n",
    "# Calculate the cumulative distribution function (CDF) at a and b\n",
    "P_a = norm.cdf(a, mu, sigma)  # Probability of X <= a\n",
    "P_b = norm.cdf(b, mu, sigma)  # Probability of X <= b\n",
    "\n",
    "# The probability of X being between a and b\n",
    "probability = P_b - P_a\n",
    "\n",
    "print(f\"The probability that X is between {a} and {b} is: {probability}\")"
   ]
  },
  {
   "cell_type": "markdown",
   "id": "1c46247b-46f8-4ab4-a855-b772269d0651",
   "metadata": {},
   "source": [
    "## Plot the area between two values"
   ]
  },
  {
   "cell_type": "code",
   "execution_count": 6,
   "id": "fc020fb2-dee3-4e3b-9301-6a042a75e19e",
   "metadata": {},
   "outputs": [
    {
     "data": {
      "image/png": "[encoded data removed]",
      "text/plain": [
       "<Figure size 640x480 with 1 Axes>"
      ]
     },
     "metadata": {},
     "output_type": "display_data"
    }
   ],
   "source": [
    "import numpy as np\n",
    "import matplotlib.pyplot as plt\n",
    "from scipy.stats import norm\n",
    "\n",
    "# Parameters for the normal distribution\n",
    "mu = 0     # Mean\n",
    "sigma = 1  # Standard deviation\n",
    "a = -1     # Lower bound\n",
    "b = 2      # Upper bound\n",
    "\n",
    "# Generate x values for the normal distribution curve\n",
    "x = np.linspace(mu - 4*sigma, mu + 4*sigma, 1000)\n",
    "y = norm.pdf(x, mu, sigma)\n",
    "\n",
    "# Plot the normal distribution curve\n",
    "plt.plot(x, y, label='Normal Distribution', linewidth=2)\n",
    "\n",
    "# Fill the area between a and b\n",
    "x_fill = np.linspace(a, b, 1000)\n",
    "y_fill = norm.pdf(x_fill, mu, sigma)\n",
    "plt.fill_between(x_fill, y_fill, color='skyblue', alpha=0.4, label=f'P({a} ≤ X ≤ {b})')\n",
    "\n",
    "# Labeling\n",
    "plt.title(\"Normal Distribution with Highlighted Area between a and b\")\n",
    "plt.xlabel(\"X\")\n",
    "plt.ylabel(\"Probability Density\")\n",
    "plt.legend()\n",
    "\n",
    "# Display the plot\n",
    "plt.show()"
   ]
  },
  {
   "cell_type": "markdown",
   "id": "24b1fbb1-b643-45a9-9955-3fba0599d8a1",
   "metadata": {},
   "source": [
    "## Standard Normal Distribution"
   ]
  },
  {
   "cell_type": "code",
   "execution_count": null,
   "id": "d87cc521-4cf1-4d45-9181-7971e82964d1",
   "metadata": {},
   "outputs": [],
   "source": [
    "from scipy.stats import norm\n",
    "\n",
    "# Calculate the 16th percentile (0.16) of a standard normal distribution\n",
    "value_16th_percentile = norm.ppf(0.16)\n",
    "print(\"Value at the 16th percentile:\", value_16th_percentile)"
   ]
  },
  {
   "cell_type": "markdown",
   "id": "4206158a-a3c6-484d-83c2-b4f5563a41f2",
   "metadata": {},
   "source": [
    "## Example 1 | Q1"
   ]
  },
  {
   "cell_type": "code",
   "execution_count": 2,
   "id": "396c4500-be30-4e3c-81cb-01aa3d52125b",
   "metadata": {},
   "outputs": [
    {
     "name": "stdout",
     "output_type": "stream",
     "text": [
      "The probability that a customer waits less than 6 minutes is: 0.001350\n"
     ]
    }
   ],
   "source": [
    "from scipy.stats import norm\n",
    "\n",
    "# Define the parameters of the normal distribution\n",
    "mean = 18    # Mean waiting time in minutes\n",
    "std_deviation = 4  # Standard deviation of waiting time in minutes\n",
    "\n",
    "# Define the time we're interested in (less than 6 minutes)\n",
    "time = 6\n",
    "\n",
    "# Calculate the probability using the CDF\n",
    "probability = norm.cdf(time, mean, std_deviation)\n",
    "\n",
    "print(f\"The probability that a customer waits less than {time} minutes is: {probability:.6f}\")"
   ]
  },
  {
   "cell_type": "markdown",
   "id": "5fe866a0-05ce-4f14-bb03-1f7a73d6b067",
   "metadata": {},
   "source": [
    "## Example 1 | Q2"
   ]
  },
  {
   "cell_type": "code",
   "execution_count": 14,
   "id": "5b669bb5-fb37-4cc8-b917-874ade8f88a3",
   "metadata": {},
   "outputs": [
    {
     "name": "stdout",
     "output_type": "stream",
     "text": [
      "The probability of a z-value being greater than -2 is: 0.9772\n"
     ]
    }
   ],
   "source": [
    "from scipy.stats import norm\n",
    "\n",
    "# Define the z-value\n",
    "z_value = -2\n",
    "\n",
    "# Calculate the probability of z > -2\n",
    "# This is equivalent to 1 - P(Z <= -2)\n",
    "probability = 1 - norm.cdf(z_value)\n",
    "\n",
    "print(f\"The probability of a z-value being greater than {z_value} is: {probability:.4f}\")"
   ]
  },
  {
   "cell_type": "markdown",
   "id": "23459cd6-ae01-4ec9-89ef-295264b0785b",
   "metadata": {},
   "source": [
    "## Example 1 | Q3"
   ]
  },
  {
   "cell_type": "code",
   "execution_count": 15,
   "id": "a8fec199-8aa5-4c9f-a982-82e45cd8395f",
   "metadata": {},
   "outputs": [
    {
     "name": "stdout",
     "output_type": "stream",
     "text": [
      "The probability of a z-value being greater than 1 is: 0.1587\n"
     ]
    }
   ],
   "source": [
    "from scipy.stats import norm\n",
    "\n",
    "# Define the z-value\n",
    "z_value = 1\n",
    "\n",
    "# Calculate the probability of z > -2\n",
    "# This is equivalent to 1 - P(Z <= -2)\n",
    "probability = 1 - norm.cdf(z_value)\n",
    "\n",
    "print(f\"The probability of a z-value being greater than {z_value} is: {probability:.4f}\")"
   ]
  },
  {
   "cell_type": "markdown",
   "id": "473c8a2c-4811-44cf-b917-25053f3d8be0",
   "metadata": {},
   "source": [
    "## Example 2 | Q1"
   ]
  },
  {
   "cell_type": "code",
   "execution_count": 1,
   "id": "5ad9673f-8a2c-4c53-a0a9-16d42b16af3f",
   "metadata": {},
   "outputs": [
    {
     "name": "stdout",
     "output_type": "stream",
     "text": [
      "The probability that X is between 18 and 23 is: 0.3413447460685429\n"
     ]
    }
   ],
   "source": [
    "from scipy.stats import norm\n",
    "\n",
    "# Define the mean and standard deviation of the distribution\n",
    "mu = 18     # Mean of the distribution\n",
    "sigma = 5  # Standard deviation of the distribution\n",
    "\n",
    "# Define the values a and b\n",
    "a = 18\n",
    "b = 23\n",
    "\n",
    "# Calculate the cumulative distribution function (CDF) at a and b\n",
    "P_a = norm.cdf(a, mu, sigma)  # Probability of X <= a\n",
    "P_b = norm.cdf(b, mu, sigma)  # Probability of X <= b\n",
    "\n",
    "# The probability of X being between a and b\n",
    "probability = P_b - P_a\n",
    "\n",
    "print(f\"The probability that X is between {a} and {b} is: {probability}\")"
   ]
  },
  {
   "cell_type": "markdown",
   "id": "e89412fc-12eb-4e88-99ec-52dce6f7e3de",
   "metadata": {},
   "source": [
    "## Example 2 | Q2"
   ]
  },
  {
   "cell_type": "code",
   "execution_count": 4,
   "id": "bb284522-9649-4c64-9036-2aef4de60938",
   "metadata": {},
   "outputs": [
    {
     "name": "stdout",
     "output_type": "stream",
     "text": [
      "Value at the 16th percentile: 13.027710583951233\n"
     ]
    }
   ],
   "source": [
    "from scipy.stats import norm\n",
    "\n",
    "# Define mean and standard deviation for the non-standard normal distribution\n",
    "mean = 18\n",
    "std_dev = 5\n",
    "\n",
    "# Calculate the 16th percentile (0.16) for this distribution\n",
    "value_16th_percentile = norm.ppf(0.16, loc=mean, scale=std_dev)\n",
    "print(\"Value at the 16th percentile:\", value_16th_percentile)"
   ]
  },
  {
   "cell_type": "markdown",
   "id": "bbcc961b-af27-4949-a729-6f2a757dc688",
   "metadata": {},
   "source": [
    "## Example 3"
   ]
  },
  {
   "cell_type": "code",
   "execution_count": 7,
   "id": "40e63f74-d6f2-417a-922c-cdbc6817dc49",
   "metadata": {},
   "outputs": [
    {
     "name": "stdout",
     "output_type": "stream",
     "text": [
      "The probability that X is between 6.5 and 9 is: 0.9758999700201907\n"
     ]
    }
   ],
   "source": [
    "from scipy.stats import norm\n",
    "import numpy as np\n",
    "\n",
    "# Define the mean and standard deviation of the distribution\n",
    "mu = 8     # Mean of the distribution\n",
    "sigma = 3  # Standard deviation of the distribution\n",
    "n = 36 # Sample size\n",
    "sample_sigma = sigma / np.sqrt(n)\n",
    "\n",
    "# Define the values a and b\n",
    "a = 6.5\n",
    "b = 9\n",
    "\n",
    "# Calculate the cumulative distribution function (CDF) at a and b\n",
    "P_a = norm.cdf(a, mu, sample_sigma)  # Probability of X <= a\n",
    "P_b = norm.cdf(b, mu, sample_sigma)  # Probability of X <= b\n",
    "\n",
    "# The probability of X being between a and b\n",
    "probability = P_b - P_a\n",
    "\n",
    "print(f\"The probability that X is between {a} and {b} is: {probability}\")"
   ]
  },
  {
   "cell_type": "markdown",
   "id": "2c42e38d-a59a-4112-84e1-69b803f78808",
   "metadata": {},
   "source": [
    "## Example 4"
   ]
  },
  {
   "cell_type": "code",
   "execution_count": 10,
   "id": "fb974b00-7f6a-4212-a497-167fef9f5a43",
   "metadata": {},
   "outputs": [
    {
     "name": "stdout",
     "output_type": "stream",
     "text": [
      "Symmetric interval around the mean: (362.1201080463798, 373.8798919536202)\n"
     ]
    }
   ],
   "source": [
    "from scipy.stats import norm\n",
    "\n",
    "# Parameters for the normal distribution\n",
    "mean = 368  # replace with your mean value\n",
    "std_dev = 15  # replace with your standard deviation\n",
    "central_prob = 0.95  # replace with your desired central probability (e.g., 0.95 for a 95% interval)\n",
    "n = 25 # sample size\n",
    "sample_std_dev = std_dev / np.sqrt(n)\n",
    "\n",
    "# Calculate the bounds of the symmetric interval\n",
    "alpha = (1 - central_prob) / 2\n",
    "lower_bound = norm.ppf(alpha, loc=mean, scale=sample_std_dev)\n",
    "upper_bound = norm.ppf(1 - alpha, loc=mean, scale=sample_std_dev)\n",
    "\n",
    "print(\"Symmetric interval around the mean:\", (lower_bound, upper_bound))"
   ]
  }
 ],
 "metadata": {
  "kernelspec": {
   "display_name": "Python 3 (ipykernel)",
   "language": "python",
   "name": "python3"
  },
  "language_info": {
   "codemirror_mode": {
    "name": "ipython",
    "version": 3
   },
   "file_extension": ".py",
   "mimetype": "text/x-python",
   "name": "python",
   "nbconvert_exporter": "python",
   "pygments_lexer": "ipython3",
   "version": "3.11.8"
  }
 },
 "nbformat": 4,
 "nbformat_minor": 5
}
