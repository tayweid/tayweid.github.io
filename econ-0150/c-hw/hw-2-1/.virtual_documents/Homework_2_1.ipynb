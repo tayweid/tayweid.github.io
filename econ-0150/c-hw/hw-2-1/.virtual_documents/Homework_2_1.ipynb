



































# Imports
import pandas as pd
import matplotlib.pyplot as plt
import seaborn as sns


# Load Data
url = 'https://tayweid.github.io/econ-0150/hw/hw-2-1/data/coffee_prod_agr.csv'
data = pd.read_csv(url)














# 
