


# Imports
import pandas as pd
import matplotlib.pyplot as plt
import seaborn as sns

# Set File Path
file_path = 'data/'





status = pd.read_csv(file_path + 'unemployment_status.csv')





status['Employment Status'].value_counts()





sns.countplot(data=status, y='Employment Status', hue='Employment Status')





sector = pd.read_csv(file_path + 'employment_sector.csv')





sector['Sector'].value_counts()





sns.countplot(data=sector, y='Sector', hue='Sector')





optimism = pd.read_csv(file_path + 'economic_optimism.csv')


# Order The Categories
order = [
    'Very Pessimistic', 
    'Somewhat Pessimistic', 
    'Neutral', 
    'Somewhat Optimistic', 
    'Very Optimistic'
]





optimism['Economic Optimism'].value_counts().reindex(order)





sns.countplot(data=optimism, y='Economic Optimism', hue='Economic Optimism', order=order)
