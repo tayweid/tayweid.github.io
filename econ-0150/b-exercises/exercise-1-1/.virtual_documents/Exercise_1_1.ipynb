


# Replace with your file path
file_path = 'drive/MyDrive/TEACHING/ECON_0150/'

# Mount Google Drive
from google.colab import drive
drive.mount('/content/drive')

import pandas as pd
import numpy as np
import matplotlib.pyplot as plt
import statsmodels.api as sm
import sys



# Run if you're using Anaconda locally on your computer

import pandas as pd
import numpy as np
import matplotlib.pyplot as plt
import statsmodels.api as sm
import seaborn as sns
import sys

file_path = ''



# Run if using Weidman_Figures locally

from Weidman_Figures import *

file_path = ''








binary_data_path = "binary_categorical_dataset.csv"
binary = pd.read_csv(file_path + binary_data_path)





binary_summary = binary['Employment Status'].value_counts()
print(binary_summary)





plt.figure(figsize=(8, 4))
binary_summary.plot(kind='barh', color=['skyblue', 'orange'])
plt.title("Employment Status Distribution")
plt.ylabel("")
plt.xlabel("Count")
plt.grid(axis='x', linestyle='--', alpha=0.7)
plt.tight_layout()
#plt.savefig('Figures/Part_1_1_Binary_Categorical_Exercise')








nominal_data_path = "nominal_categorical_dataset.csv"  # Update this path if necessary
nominal = pd.read_csv(file_path + nominal_data_path)





nominal_summary = nominal['Sector'].value_counts()
print(nominal_summary)





plt.figure(figsize=(8, 4))
nominal_summary.plot(kind='barh', color=['blue', 'green', 'red', 'purple'])
plt.title("Employment Sector Distribution")
plt.ylabel("")
plt.xlabel("Count")
plt.grid(axis='x', linestyle='--', alpha=0.7)
plt.tight_layout()
#plt.savefig('Figures/Part_1_1_Nominal_Categorical_Exercise')








data_path = "ordinal_categorical_dataset.csv"  # Update this path if necessary
ordinal = pd.read_csv(file_path + data_path)





# Define the correct ordinal order
order = ['Very Pessimistic', 'Somewhat Pessimistic', 'Neutral',
         'Somewhat Optimistic', 'Very Optimistic']

# Convert to Categorical with specified order
ordinal['Economic Optimism'] = pd.Categorical(ordinal['Economic Optimism'],
                                            categories=order,
                                            ordered=True)

# Now get value counts and it will sort in the correct ordinal order
ordinal_summary = ordinal['Economic Optimism'].value_counts().sort_index()
print(ordinal_summary)





plt.figure(figsize=(8, 4))
ordinal_summary.plot(kind='barh', color=['purple', 'blue', 'green', 'orange', 'red'])
plt.title("Economic Optimism Distribution")
plt.xlabel("Count")
plt.ylabel('')
plt.grid(axis='x', linestyle='--', alpha=0.7)
plt.tight_layout()
#plt.savefig('Figures/Part_1_1_Ordinal_Categorical_Exercise')
