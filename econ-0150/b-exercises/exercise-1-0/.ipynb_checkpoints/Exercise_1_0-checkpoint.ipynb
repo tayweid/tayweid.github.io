{
 "cells": [
  {
   "cell_type": "markdown",
   "id": "9b0d34d5-4ca8-4ea5-9fa3-9a23fbe01a49",
   "metadata": {
    "id": "9b0d34d5-4ca8-4ea5-9fa3-9a23fbe01a49"
   },
   "source": [
    "# Exercise 1.0 | Variable Types\n",
    "\n",
    "Determine which variable types are contained in each dataset."
   ]
  },
  {
   "cell_type": "code",
   "execution_count": 1,
   "id": "4e69a1a7",
   "metadata": {
    "id": "4e69a1a7"
   },
   "outputs": [],
   "source": [
    "# Imports\n",
    "import pandas as pd\n",
    "import matplotlib.pyplot as plt\n",
    "file_path = 'data/'"
   ]
  },
  {
   "cell_type": "markdown",
   "id": "3520776e",
   "metadata": {
    "id": "3520776e"
   },
   "source": [
    "## Load unemployment_status.csv\n"
   ]
  },
  {
   "cell_type": "code",
   "execution_count": 2,
   "id": "97a6d0f2",
   "metadata": {
    "id": "97a6d0f2"
   },
   "outputs": [],
   "source": [
    "unemployment = pd.read_csv(file_path + 'unemployment_status.csv')"
   ]
  },
  {
   "cell_type": "code",
   "execution_count": 3,
   "id": "3432ad93",
   "metadata": {
    "id": "3432ad93",
    "outputId": "1c5b70c0-0ad6-42b9-b403-e65768568018"
   },
   "outputs": [
    {
     "data": {
      "text/plain": [
       "Employment Status\n",
       "Employed      51\n",
       "Unemployed    49\n",
       "Name: count, dtype: int64"
      ]
     },
     "execution_count": 3,
     "metadata": {},
     "output_type": "execute_result"
    }
   ],
   "source": [
    "unemployment['Employment Status'].value_counts()"
   ]
  },
  {
   "cell_type": "markdown",
   "id": "85c599e0-1cb4-477a-b684-e1ebe0fea019",
   "metadata": {
    "id": "85c599e0-1cb4-477a-b684-e1ebe0fea019"
   },
   "source": [
    "## Load employment_sector.csv"
   ]
  },
  {
   "cell_type": "code",
   "execution_count": 13,
   "id": "f1bc0696-176c-4678-9471-d475831a8933",
   "metadata": {
    "id": "f1bc0696-176c-4678-9471-d475831a8933"
   },
   "outputs": [],
   "source": [
    "sector = pd.read_csv(file_path + 'employment_sector.csv')"
   ]
  },
  {
   "cell_type": "code",
   "execution_count": 15,
   "id": "c5bf34ba-4f99-4c2a-9497-2480f4e1e009",
   "metadata": {
    "id": "c5bf34ba-4f99-4c2a-9497-2480f4e1e009",
    "outputId": "e0249aa4-e80f-4b7f-83bd-014d50e07401"
   },
   "outputs": [
    {
     "data": {
      "text/plain": [
       "Sector\n",
       "Services         37\n",
       "Unemployed       22\n",
       "Manufacturing    21\n",
       "Agriculture      20\n",
       "Name: count, dtype: int64"
      ]
     },
     "execution_count": 15,
     "metadata": {},
     "output_type": "execute_result"
    }
   ],
   "source": [
    "sector['Sector'].value_counts()"
   ]
  },
  {
   "cell_type": "markdown",
   "id": "43ea9fa5-d79e-4b2b-9f70-0eeee962acea",
   "metadata": {
    "id": "43ea9fa5-d79e-4b2b-9f70-0eeee962acea"
   },
   "source": [
    "## Load economic_optimism.csv\n"
   ]
  },
  {
   "cell_type": "code",
   "execution_count": 21,
   "id": "34634396-5d15-438a-8358-287cea818762",
   "metadata": {
    "id": "34634396-5d15-438a-8358-287cea818762"
   },
   "outputs": [],
   "source": [
    "optimism = pd.read_csv(file_path + 'economic_optimism.csv')"
   ]
  },
  {
   "cell_type": "code",
   "execution_count": 29,
   "id": "3f51cfda-79e5-46e0-9d30-42e45f031388",
   "metadata": {
    "id": "3f51cfda-79e5-46e0-9d30-42e45f031388",
    "outputId": "3f2b0f6e-4ab9-4227-cae1-47df0cece485"
   },
   "outputs": [
    {
     "data": {
      "text/plain": [
       "Economic Optimism\n",
       "Very Pessimistic        23\n",
       "Somewhat Pessimistic    23\n",
       "Neutral                 19\n",
       "Somewhat Optimistic     19\n",
       "Very Optimistic         16\n",
       "Name: count, dtype: int64"
      ]
     },
     "execution_count": 29,
     "metadata": {},
     "output_type": "execute_result"
    }
   ],
   "source": [
    "optimism['Economic Optimism'].value_counts()"
   ]
  },
  {
   "cell_type": "markdown",
   "id": "373ab76a-4ba0-4017-9c45-b36f8f49e523",
   "metadata": {},
   "source": [
    "## Load household_size.csv"
   ]
  },
  {
   "cell_type": "code",
   "execution_count": 30,
   "id": "55489aa9-abfd-4da3-8cb8-8c902c26448e",
   "metadata": {},
   "outputs": [],
   "source": [
    "size = pd.read_csv(file_path + 'household_size.csv')"
   ]
  },
  {
   "cell_type": "code",
   "execution_count": 32,
   "id": "4379ad5a-98fc-4a65-9f95-00a29aff900c",
   "metadata": {},
   "outputs": [
    {
     "data": {
      "text/plain": [
       "Number of Children\n",
       "3    21\n",
       "1    20\n",
       "0    17\n",
       "4    15\n",
       "2    14\n",
       "5    13\n",
       "Name: count, dtype: int64"
      ]
     },
     "execution_count": 32,
     "metadata": {},
     "output_type": "execute_result"
    }
   ],
   "source": [
    "size['Number of Children'].value_counts()"
   ]
  },
  {
   "cell_type": "markdown",
   "id": "593972ea-5fe7-4178-9fd4-af7fa9cebe24",
   "metadata": {},
   "source": [
    "## Load household_income.csv"
   ]
  },
  {
   "cell_type": "code",
   "execution_count": 34,
   "id": "df00a420-25de-4513-85e1-d8ea9558172b",
   "metadata": {},
   "outputs": [],
   "source": [
    "income = pd.read_csv(file_path + 'household_income.csv')"
   ]
  },
  {
   "cell_type": "code",
   "execution_count": 35,
   "id": "4c73045b-7899-4090-be5a-1361e43db096",
   "metadata": {},
   "outputs": [
    {
     "data": {
      "text/html": [
       "<div>\n",
       "<style scoped>\n",
       "    .dataframe tbody tr th:only-of-type {\n",
       "        vertical-align: middle;\n",
       "    }\n",
       "\n",
       "    .dataframe tbody tr th {\n",
       "        vertical-align: top;\n",
       "    }\n",
       "\n",
       "    .dataframe thead th {\n",
       "        text-align: right;\n",
       "    }\n",
       "</style>\n",
       "<table border=\"1\" class=\"dataframe\">\n",
       "  <thead>\n",
       "    <tr style=\"text-align: right;\">\n",
       "      <th></th>\n",
       "      <th>Household ID</th>\n",
       "      <th>Household Income (USD)</th>\n",
       "    </tr>\n",
       "  </thead>\n",
       "  <tbody>\n",
       "    <tr>\n",
       "      <th>0</th>\n",
       "      <td>C001</td>\n",
       "      <td>109879.71</td>\n",
       "    </tr>\n",
       "    <tr>\n",
       "      <th>1</th>\n",
       "      <td>C002</td>\n",
       "      <td>82496.44</td>\n",
       "    </tr>\n",
       "    <tr>\n",
       "      <th>2</th>\n",
       "      <td>C003</td>\n",
       "      <td>89562.91</td>\n",
       "    </tr>\n",
       "    <tr>\n",
       "      <th>3</th>\n",
       "      <td>C004</td>\n",
       "      <td>41550.11</td>\n",
       "    </tr>\n",
       "    <tr>\n",
       "      <th>4</th>\n",
       "      <td>C005</td>\n",
       "      <td>51284.65</td>\n",
       "    </tr>\n",
       "    <tr>\n",
       "      <th>...</th>\n",
       "      <td>...</td>\n",
       "      <td>...</td>\n",
       "    </tr>\n",
       "    <tr>\n",
       "      <th>95</th>\n",
       "      <td>C096</td>\n",
       "      <td>104541.31</td>\n",
       "    </tr>\n",
       "    <tr>\n",
       "      <th>96</th>\n",
       "      <td>C097</td>\n",
       "      <td>56688.37</td>\n",
       "    </tr>\n",
       "    <tr>\n",
       "      <th>97</th>\n",
       "      <td>C098</td>\n",
       "      <td>47481.71</td>\n",
       "    </tr>\n",
       "    <tr>\n",
       "      <th>98</th>\n",
       "      <td>C099</td>\n",
       "      <td>61383.49</td>\n",
       "    </tr>\n",
       "    <tr>\n",
       "      <th>99</th>\n",
       "      <td>C100</td>\n",
       "      <td>106305.30</td>\n",
       "    </tr>\n",
       "  </tbody>\n",
       "</table>\n",
       "<p>100 rows × 2 columns</p>\n",
       "</div>"
      ],
      "text/plain": [
       "   Household ID  Household Income (USD)\n",
       "0          C001               109879.71\n",
       "1          C002                82496.44\n",
       "2          C003                89562.91\n",
       "3          C004                41550.11\n",
       "4          C005                51284.65\n",
       "..          ...                     ...\n",
       "95         C096               104541.31\n",
       "96         C097                56688.37\n",
       "97         C098                47481.71\n",
       "98         C099                61383.49\n",
       "99         C100               106305.30\n",
       "\n",
       "[100 rows x 2 columns]"
      ]
     },
     "execution_count": 35,
     "metadata": {},
     "output_type": "execute_result"
    }
   ],
   "source": [
    "income"
   ]
  }
 ],
 "metadata": {
  "colab": {
   "provenance": [
    {
     "file_id": "1yVUa7CsdZNT6pYJiBwcVCPrYpjIbTx0d",
     "timestamp": 1754708022426
    }
   ]
  },
  "kernelspec": {
   "display_name": "Python 3 (ipykernel)",
   "language": "python",
   "name": "python3"
  },
  "language_info": {
   "codemirror_mode": {
    "name": "ipython",
    "version": 3
   },
   "file_extension": ".py",
   "mimetype": "text/x-python",
   "name": "python",
   "nbconvert_exporter": "python",
   "pygments_lexer": "ipython3",
   "version": "3.11.8"
  }
 },
 "nbformat": 4,
 "nbformat_minor": 5
}
