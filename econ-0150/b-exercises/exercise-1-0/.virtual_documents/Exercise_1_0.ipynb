


# Imports
import pandas as pd
import matplotlib.pyplot as plt
file_path = 'data/'





unemployment = pd.read_csv(file_path + 'unemployment_status.csv')


unemployment['Employment Status'].value_counts()





sector = pd.read_csv(file_path + 'employment_sector.csv')


sector['Sector'].value_counts()





optimism = pd.read_csv(file_path + 'economic_optimism.csv')


optimism['Economic Optimism'].value_counts()





size = pd.read_csv(file_path + 'household_size.csv')


size['Number of Children'].value_counts()





income = pd.read_csv(file_path + 'household_income.csv')


income
