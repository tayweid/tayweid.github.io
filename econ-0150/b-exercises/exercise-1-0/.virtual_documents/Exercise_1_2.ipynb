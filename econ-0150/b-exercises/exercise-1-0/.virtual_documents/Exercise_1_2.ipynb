


# Run if you're using Google Colab

# Replace with your file path
file_path = 'drive/MyDrive/TEACHING/ECON_0150/'

# Mount Google Drive
from google.colab import drive
drive.mount('/content/drive')

import pandas as pd
import numpy as np
import matplotlib.pyplot as plt
import statsmodels.api as sm
import seaborn as sns
import sys



# Run if you're using Anaconda locally on your computer

import pandas as pd
import numpy as np
import matplotlib.pyplot as plt
import statsmodels.api as sm
import seaborn as sns
import sys

file_path = ''



# Run if using Weidman_Figures locally

from Weidman_Figures import *

file_path = ''








discrete_data_path = "discrete_numerical_dataset.csv"  # Update this path if necessary
discrete = pd.read_csv(discrete_data_path)





discrete_summary = discrete['Number of Children'].value_counts().sort_index()
print(discrete_summary)


discrete.describe()





plt.figure(figsize=(8, 6))

bins = discrete_summary.index
plt.hist(discrete['Number of Children'], bins=bins, edgecolor='white')

plt.title("Distribution of Number of Children")
plt.xlabel("Number of Children")
plt.ylabel("")
plt.xticks(rotation=0)
plt.grid(axis='y', linestyle='--', alpha=0.7)

for spine in plt.gca().spines.values():
    spine.set_visible(False)

plt.tight_layout()
plt.savefig('Figures/Part_1_2_Discrete_Numerical_Exercise')








continuous_data_path = "continuous_numerical_dataset.csv"  # Update this path if necessary
continuous = pd.read_csv(continuous_data_path)





continuous_summary = continuous['Household Income (USD)'].describe()
print(continuous_summary)





plt.figure(figsize=(8, 6))
continuous['Household Income (USD)'].plot(kind='hist', bins=10, color='skyblue', edgecolor='black')
plt.title("Distribution of Household Income")
plt.xlabel("Household Income (USD)")
plt.ylabel("Frequency")
plt.grid(axis='y', linestyle='--', alpha=0.7)

for spine in plt.gca().spines.values():
    spine.set_visible(False)

plt.tight_layout()
plt.savefig('Figures/Part_1_2_Continuous_Numerical_Exercise')





plt.figure(figsize=(8, 3))
sns.boxplot(continuous['Household Income (USD)'], vert=False, patch_artist=True, boxprops=dict(facecolor='lightgrey'))

# Get the quartile values
quartiles = list(continuous['Household Income (USD)'].quantile([0, 0.25, 0.50, 0.75, 1]))

# Set the ticks and format them
plt.xticks(quartiles, [f'${x:,.0f}' for x in quartiles])

# Make tick marks visible
plt.tick_params(axis='x', width=1, length=6)

plt.title("Household Income (USD)")
plt.xlabel('')
plt.ylabel('')
plt.yticks([])

plt.tick_params(axis='x', width=2, length=8, color='black')

for spine in plt.gca().spines.values():
    spine.set_visible(False)

plt.tight_layout()

plt.savefig('Figures/Part_1_2_Continuous_Numerical_Boxplot_Exercise')





plt.figure(figsize=(8, 3))
sns.boxplot(continuous['Household Income (USD)'], vert=False, patch_artist=True, boxprops=dict(facecolor='lightgrey'))
plt.scatter(continuous['Household Income (USD)'], [0] * len(continuous),
            alpha=0.5, color='firebrick', zorder=3)

# Get the quartile values
quartiles = list(continuous['Household Income (USD)'].quantile([0, 0.25, 0.50, 0.75, 1]))

# Set the ticks and format them
plt.xticks(quartiles, [f'${x:,.0f}' for x in quartiles])

# Make tick marks visible
plt.tick_params(axis='x', width=1, length=6)

plt.title("Household Income (USD)")
plt.xlabel('')
plt.ylabel('')
plt.yticks([])

plt.tick_params(axis='x', width=2, length=8, color='black')

for spine in plt.gca().spines.values():
    spine.set_visible(False)

plt.tight_layout()

plt.savefig('Figures/Part_1_2_Continuous_Numerical_Scatter_Boxplot_Exercise')





jitter = np.random.uniform(-0.1,0.1, len(continuous))

plt.figure(figsize=(8, 3))
sns.boxplot(continuous['Household Income (USD)'], vert=False, patch_artist=True, boxprops=dict(facecolor='lightgrey'))
plt.scatter(continuous['Household Income (USD)'], jitter,
            alpha=0.5, color='firebrick', zorder=3)

# Get the quartile values
quartiles = list(continuous['Household Income (USD)'].quantile([0, 0.25, 0.50, 0.75, 1]))

# Set the ticks and format them
plt.xticks(quartiles, [f'${x:,.0f}' for x in quartiles])

# Make tick marks visible
plt.tick_params(axis='x', width=1, length=6)

plt.title("Household Income (USD)")
plt.xlabel('')
plt.ylabel('')
plt.yticks([])

plt.tick_params(axis='x', width=2, length=8, color='black')

for spine in plt.gca().spines.values():
    spine.set_visible(False)

plt.tight_layout()

plt.savefig('Figures/Part_1_2_Continuous_Numerical_Jitter_Boxplot_Exercise')
