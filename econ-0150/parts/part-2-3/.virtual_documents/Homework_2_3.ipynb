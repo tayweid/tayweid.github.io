


# Imports
import pandas as pd
import matplotlib.pyplot as plt
import numpy as np
import seaborn as sns

# File Path
file_path = 'https://tayweid.github.io/econ-0150/parts/part-2-3/data/'





books = pd.read_csv(file_path + 'amazon_book_sales.csv', index_col=0)
books.head()





























marriage = pd.read_csv(file_path + 'marriage_rates.csv')
marriage.head()
























