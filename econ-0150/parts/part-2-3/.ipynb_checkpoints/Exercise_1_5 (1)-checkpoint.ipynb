{
 "cells": [
  {
   "cell_type": "markdown",
   "id": "RYgW7ZVsfOSM",
   "metadata": {
    "id": "RYgW7ZVsfOSM"
   },
   "source": [
    "## Exercise 1.5 | Filtering"
   ]
  },
  {
   "cell_type": "code",
   "execution_count": 1,
   "id": "zX15BWa_fMek",
   "metadata": {
    "id": "zX15BWa_fMek"
   },
   "outputs": [],
   "source": [
    "# Imports\n",
    "import pandas as pd\n",
    "import matplotlib.pyplot as plt\n",
    "import seaborn as sns\n",
    "\n",
    "# File Path\n",
    "file_path = 'https://tayweid.github.io/econ-0150/concepts/concept-1-5/data/'\n",
    "file_path = 'data/'"
   ]
  },
  {
   "cell_type": "code",
   "execution_count": 2,
   "id": "MRCQ-fchfLo-",
   "metadata": {
    "colab": {
     "base_uri": "https://localhost:8080/",
     "height": 372
    },
    "executionInfo": {
     "elapsed": 920,
     "status": "ok",
     "timestamp": 1756146571686,
     "user": {
      "displayName": "Taylor Weidman",
      "userId": "16577002144276436003"
     },
     "user_tz": 240
    },
    "id": "MRCQ-fchfLo-",
    "outputId": "2abfd969-482c-45d2-a2b0-01c86935132e"
   },
   "outputs": [],
   "source": [
    "# Load Dataset\n",
    "hours = pd.read_csv(file_path + 'Starbucks_Location_Hours.csv', index_col=0)"
   ]
  }
 ],
 "metadata": {
  "colab": {
   "provenance": [
    {
     "file_id": "1yVUa7CsdZNT6pYJiBwcVCPrYpjIbTx0d",
     "timestamp": 1754708022426
    }
   ]
  },
  "kernelspec": {
   "display_name": "Python 3 (ipykernel)",
   "language": "python",
   "name": "python3"
  },
  "language_info": {
   "codemirror_mode": {
    "name": "ipython",
    "version": 3
   },
   "file_extension": ".py",
   "mimetype": "text/x-python",
   "name": "python",
   "nbconvert_exporter": "python",
   "pygments_lexer": "ipython3",
   "version": "3.11.8"
  }
 },
 "nbformat": 4,
 "nbformat_minor": 5
}
