{
 "cells": [
  {
   "cell_type": "markdown",
   "metadata": {
    "id": "yfd7UAILxVXp"
   },
   "source": [
    "# Homework 2.3\n",
    "\n",
    "*Homework is designed to both test your knowlege and challenge you to apply familiar concepts to new applications. Answer clearly and completely. You are welcomed and encouraged to work in groups so long as your work is your own. Submit your figures and answers to [Gradescope](https://www.gradescope.com).*"
   ]
  },
  {
   "cell_type": "code",
   "execution_count": 7,
   "metadata": {
    "executionInfo": {
     "elapsed": 51,
     "status": "ok",
     "timestamp": 1756152273931,
     "user": {
      "displayName": "Taylor Weidman",
      "userId": "16577002144276436003"
     },
     "user_tz": 240
    },
    "id": "BY7HeSzbqd0L"
   },
   "outputs": [],
   "source": [
    "# Imports\n",
    "import pandas as pd\n",
    "import matplotlib.pyplot as plt\n",
    "import numpy as np\n",
    "import seaborn as sns\n",
    "\n",
    "# File Path\n",
    "file_path = 'https://tayweid.github.io/econ-0150/parts/part-2-3/data/'"
   ]
  },
  {
   "cell_type": "markdown",
   "metadata": {
    "id": "ALJLr0NixfaK"
   },
   "source": [
    "## Q1. Amazon Book Sales\n",
    "\n",
    "We'll explore the list of 50 bestselling Amazon books each year between 2009 and 2021. Prices are expressed in US dollars and rounded to the nearest dollar."
   ]
  },
  {
   "cell_type": "code",
   "execution_count": null,
   "metadata": {},
   "outputs": [],
   "source": [
    "books = pd.read_csv(file_path + 'amazon_book_sales.csv', index_col=0)\n",
    "books.head()"
   ]
  },
  {
   "cell_type": "markdown",
   "metadata": {
    "id": "Uhrg3mqD1qS6"
   },
   "source": [
    "#### a) Who collected this data?"
   ]
  },
  {
   "cell_type": "markdown",
   "metadata": {},
   "source": []
  },
  {
   "cell_type": "markdown",
   "metadata": {
    "id": "jbvD0LIY1sS9"
   },
   "source": [
    "#### b) How many bestsellers are fiction books?"
   ]
  },
  {
   "cell_type": "markdown",
   "metadata": {
    "id": "6K2uRcIa1vuB"
   },
   "source": []
  },
  {
   "cell_type": "markdown",
   "metadata": {
    "id": "CEnsGj1z1tmV"
   },
   "source": [
    "#### c) How many nonfiction bestsellers cost more than 50 dollars?"
   ]
  },
  {
   "cell_type": "code",
   "execution_count": null,
   "metadata": {
    "id": "ZVWeWrVNxdtV"
   },
   "outputs": [],
   "source": []
  },
  {
   "cell_type": "markdown",
   "metadata": {
    "id": "-8UAfgus1yEj"
   },
   "source": [
    "#### d) How many bestsellers from after 2015 didn't cost anything?"
   ]
  },
  {
   "cell_type": "code",
   "execution_count": null,
   "metadata": {
    "id": "6KiT8xuR1ycP"
   },
   "outputs": [],
   "source": []
  },
  {
   "cell_type": "markdown",
   "metadata": {},
   "source": [
    "## Q2. Filtering Marriage Rates\n",
    "\n",
    "The following questions are based on **crude marriage rates** — numbers of marriages per one thousand inhabitants — in 1990 and 2019. Each row represents a different European country. \n"
   ]
  },
  {
   "cell_type": "code",
   "execution_count": null,
   "metadata": {},
   "outputs": [],
   "source": [
    "marriage = pd.read_csv(file_path + 'marriage_rates.csv')\n",
    "marriage.head()"
   ]
  },
  {
   "cell_type": "markdown",
   "metadata": {},
   "source": [
    "#### a) Who collected the data in this dataset?"
   ]
  },
  {
   "cell_type": "markdown",
   "metadata": {},
   "source": []
  },
  {
   "cell_type": "markdown",
   "metadata": {},
   "source": [
    "#### b) How was the data collected?"
   ]
  },
  {
   "cell_type": "markdown",
   "metadata": {},
   "source": []
  },
  {
   "cell_type": "markdown",
   "metadata": {},
   "source": [
    "#### c) How many countries in this dataset experienced an increase in their marriage rates between 1990 and 2019?"
   ]
  },
  {
   "cell_type": "code",
   "execution_count": null,
   "metadata": {},
   "outputs": [],
   "source": []
  },
  {
   "cell_type": "markdown",
   "metadata": {},
   "source": [
    "#### d) Use a scatterplot to visualize the change in marriage rates between 1990 and 2019?"
   ]
  },
  {
   "cell_type": "code",
   "execution_count": null,
   "metadata": {},
   "outputs": [],
   "source": []
  }
 ],
 "metadata": {
  "colab": {
   "authorship_tag": "ABX9TyO1dUXoUY/9L25qiDyxe0Ax",
   "provenance": []
  },
  "kernelspec": {
   "display_name": "Python 3 (ipykernel)",
   "language": "python",
   "name": "python3"
  },
  "language_info": {
   "codemirror_mode": {
    "name": "ipython",
    "version": 3
   },
   "file_extension": ".py",
   "mimetype": "text/x-python",
   "name": "python",
   "nbconvert_exporter": "python",
   "pygments_lexer": "ipython3",
   "version": "3.12.2"
  }
 },
 "nbformat": 4,
 "nbformat_minor": 4
}
