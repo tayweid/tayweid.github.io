





rate_all = pd.read_csv('hw-1-4-7/HW_1_4_7_Q1_Marriage_Rates.csv')
rate_all.rename(columns={'Crude marriage rate (per 1,000 inhabitants)':'Marriage Rate'}, inplace=True)
rate = rate_all#[rate_all.Year == 2016]
#rate


code = pd.read_csv('Data/Country_Code_Continents.csv')
code.rename(columns={'ISO (3)':'Code'}, inplace=True)
code.Continent.unique()


country_rates.Continent.values[0]


rates = pd.merge(code, rate, on='Code')[['Continent', 'Country', 'Year', 'Marriage Rate']]
rates.Continent.unique()

rate_list = []
for country in rates.Country.unique():
    country_rates = rates[rates.Country == country]
    recent_year = country_rates.Year.max()
    if recent_year > 1900:
        african_countries = ['Algeria', 'Angola',
               'Djibouti', 'Egypt', 'Equatorial Guinea', 'Ethiopia',
               'Equatorial Guinea', 'Mozambique',
               'Sao Tome and Principe', 'Guinea-Bissau', 'Equatorial Guinea']
        if country_rates.Continent.values[0] != 'Africa' or country in african_countries:
            rate_list.append(country_rates[country_rates.Year == recent_year])
recent_rate = pd.concat(rate_list)

#recent_rate = recent_rate[recent_rate.Country.isin(african_countries)]
#recent_rate = recent_rate.sample(int(len(recent_rate)/3))
recent_rate.Continent.unique()
recent_rate[['Continent', 'Country', 'Marriage Rate']].to_csv('Data/Marriage_Rates.csv')


recent_rate[(recent_rate.Continent == 'Africa')]


recent_rate[(recent_rate.Continent == 'Africa') & (recent_rate['Marriage Rate'] < 2)]


recent_rate[(recent_rate['Marriage Rate'] > 20) | (recent_rate['Marriage Rate'] < 1)]


recent_rate[(recent_rate.Continent == 'Oceania') & (recent_rate['Marriage Rate'] > 10)]



