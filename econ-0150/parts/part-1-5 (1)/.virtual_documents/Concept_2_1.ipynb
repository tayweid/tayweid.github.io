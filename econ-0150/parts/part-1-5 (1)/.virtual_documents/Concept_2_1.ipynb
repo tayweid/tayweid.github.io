





from Weidman_Figures import *

beans = pd.read_csv('Part_2_1/Coffee_Bean_Production.csv')#, index_col=0)
beans = beans.dropna(subset=['Code'])
beans = beans.rename(columns={'Coffee, green | 00000656 || Production | 005510 || tonnes': 'Tonnes'})
beans = beans.drop(columns=['Entity'])

gdp = pd.read_csv('Part_2_1/GDP.csv')#, index_col=0)
gdp = gdp.rename(columns={'GDP (output, multiple price benchmarks)': 'GDP'})

data = pd.merge(beans, gdp, on=['Code', 'Year'], how='inner')
data['GDP'] = data['GDP']/1_000_000_000_000
data['Tonnes'] = data['Tonnes']/1000000
data = data[data.Entity != 'World']
data = data[data.Tonnes > 0.01]
data = data[data.GDP < 9]
data.to_csv('Part_2_1/Beans_GDP.csv')


from Weidman_Figures import *
    
fig, ax = Weid_Fig(widths=[1,1], height=4, fontsize=20)

data = pd.read_csv('Part_2_1/Beans_GDP.csv')
data = data[data['Year'] == 2019]

bin_edges = np.arange(0, 4, 1/4)

ax[0].hist(data['GDP'], bins=bin_edges, edgecolor='black')
ax[0].set_xlabel('GDP', loc='right')
ax[0].set_ylabel('Count')
ax[0].yaxis.set_label_coords(-0.1, 0.90)
ax[0].set_title('Gross Domestic Product')

ax[1].hist(data['Tonnes'], bins=bin_edges, edgecolor='black', color='orange')
ax[1].set_xlabel('Tonnes', loc='right')
ax[1].set_ylabel('Count')
ax[1].yaxis.set_label_coords(-0.1, 0.90)
ax[1].set_title('Coffee Production')

plt.tight_layout()
plt.savefig('Part_2_1/i/1.png')
plt.show()


from Weidman_Figures import *
    
fig, ax = Weid_Fig(height=6, widths=6, fontsize=24)

data = pd.read_csv('Part_2_1/Beans_GDP.csv')
data = data[data['Year'] == 2019]

plt.plot(data['GDP'], data['Tonnes'], alpha=0.7)

plt.xlabel('GDP (trillion $)', loc='right')
plt.xticks([0,1,2,3,4])
plt.xlim(0,4)
plt.ylabel('Production (billion kg)')
ax = plt.gca()
ax.yaxis.set_label_coords(-0.05, .7)
plt.yticks([0,1,2,3,4])
plt.ylim(0,4)
plt.title('Coffee Production and GDP')
plt.tight_layout()
plt.savefig('Part_2_1/i/2.png')


from Weidman_Figures import *
    
fig, ax = Weid_Fig(height=6, widths=6, fontsize=24)

data = pd.read_csv('Part_2_1/Beans_GDP.csv')
data = data[data['Year'] == 2019]
#print(data.head())

plt.scatter(data['GDP'], data['Tonnes'], color='grey', edgecolors='grey', alpha=0.7, s=50)

plt.xlabel('GDP (trillion $)', loc='right')
plt.xticks([0,1,2,3,4])
plt.xlim(0,4)
plt.ylabel('Production (billion kg)')
ax = plt.gca()
ax.yaxis.set_label_coords(-0.05, .7)
plt.yticks([0,1,2,3,4])
plt.ylim(0,4)
plt.title('Coffee Production and GDP')
plt.tight_layout()
plt.savefig('Part_2_1/i/3.png')


from Weidman_Figures import *
    
fig, ax = Weid_Fig(height=6, widths=6, fontsize=24)

data = pd.read_csv('Part_2_1/Beans_GDP.csv')
data = data[data['Year'] == 2019]
#print(data.head())

plt.scatter(data['GDP'], data['Tonnes'], color='white', edgecolors='grey', alpha=0.7, s=50)

high_gdp = data[data.GDP > 2]
plt.scatter(high_gdp['GDP'], high_gdp['Tonnes'], color='grey', edgecolors='red', alpha=1, s=150)

plt.xlabel('GDP (trillion $)', loc='right')
plt.xticks([0,1,2,3,4])
plt.xlim(0,4)
plt.ylabel('Production (billion kg)')
ax = plt.gca()
ax.yaxis.set_label_coords(-0.05, .7)
plt.yticks([0,1,2,3,4])
plt.ylim(0,4)
plt.title('Coffee Production and GDP')
plt.tight_layout()
plt.savefig('Part_2_1/i/4.png')


from Weidman_Figures import *
    
fig, ax = Weid_Fig(height=6, widths=6, fontsize=24)

data = pd.read_csv('Part_2_1/Beans_GDP.csv')
data = data[data['Year'] == 2019]

plt.scatter(data['GDP'], data['Tonnes'], color='white', edgecolors='grey', alpha=0.7, s=50)

high_production = data[data.Tonnes > 0.5]
plt.scatter(high_production['GDP'], high_production['Tonnes'], color='grey', edgecolors='red', alpha=1, s=150)

plt.xlabel('GDP (trillion $)', loc='right')
plt.xticks([0,1,2,3,4])
plt.xlim(0,4)
plt.ylabel('Production (billion kg)')
ax = plt.gca()
ax.yaxis.set_label_coords(-0.05, .7)
plt.yticks([0,1,2,3,4])
plt.ylim(0,4)
plt.title('Coffee Production and GDP')
plt.tight_layout()
plt.savefig('Part_2_1/i/5.png')


from Weidman_Figures import *
    
fig, ax = Weid_Fig(height=6, widths=6, fontsize=24)

data = pd.read_csv('Part_2_1/Beans_GDP.csv')
data = data[data['Year'] == 2019]

plt.scatter(data['GDP'], data['Tonnes'], color='white', edgecolors='grey', alpha=0.7, s=50)

brazil = data[data.Tonnes == data.Tonnes.max()]
plt.scatter(brazil['GDP'], brazil['Tonnes'], color='grey', edgecolors='red', alpha=1, s=150)
plt.annotate('Brazil',(brazil.Tonnes.values[0], brazil.GDP.values[0]))

plt.xlabel('GDP (trillion $)', loc='right')
plt.xticks([0,1,2,3,4])
plt.xlim(0,4)
plt.ylabel('Production (billion kg)')
ax = plt.gca()
ax.yaxis.set_label_coords(-0.05, .7)
plt.yticks([0,1,2,3,4])
plt.ylim(0,4)
plt.title('Coffee Production and GDP')
plt.tight_layout()
plt.savefig('Part_2_1/i/6.png')


from Weidman_Figures import *
    
fig, ax = Weid_Fig(height=6, widths=6, fontsize=24)

data = pd.read_csv('Part_2_1/Beans_GDP.csv')
data = data[data['Year'] == 2019]

plt.scatter(data['GDP'], data['Tonnes'], color='white', edgecolors='grey', alpha=0.7, s=50)

brazil = data[data.Tonnes == data.Tonnes.max()]
plt.scatter(brazil['GDP'], brazil['Tonnes'], color='grey', edgecolors='red', alpha=1, s=150)
plt.plot([0,brazil.GDP.values[0]],[0,brazil.Tonnes.values[0]], linestyle='--', color='red', zorder=-1, alpha=0.5)
plt.annotate('Brazil',(brazil.Tonnes.values[0], brazil.GDP.values[0]))

plt.xlabel('GDP (trillion $)', loc='right')
plt.xticks([0,1,2,3,4])
plt.xlim(0,4)
plt.ylabel('Production (billion kg)')
ax = plt.gca()
ax.yaxis.set_label_coords(-0.05, .7)
plt.yticks([0,1,2,3,4])
plt.ylim(0,4)
plt.title('Coffee Production and GDP')
plt.tight_layout()
plt.savefig('Part_2_1/i/7.png')


from Weidman_Figures import *
    
fig, ax = Weid_Fig(height=6, widths=6, fontsize=24)

data = pd.read_csv('Part_2_1/Beans_GDP.csv')
data = data[data['Year'] == 2019]

brazil = data[data.Tonnes == data.Tonnes.max()]
brazil_gdp = brazil.GDP.values[0]
brazil_tonnes = brazil.Tonnes.values[0]
plt.scatter(brazil['GDP'], brazil['Tonnes'], color='grey', edgecolors='red', alpha=1, s=150)
plt.plot([0,brazil_gdp],[0,brazil_tonnes], linestyle='--', color='red', zorder=-1, alpha=0.5)

data['brazil_ratio'] = data['GDP']/data['Tonnes']
greater = data[data['brazil_ratio'] > brazil_gdp/brazil_tonnes]
lower = data[data['brazil_ratio'] < brazil_gdp/brazil_tonnes]

plt.scatter(greater['GDP'], greater['Tonnes'], color='grey', edgecolors='red', alpha=0.3, s=150)
plt.scatter(lower['GDP'], lower['Tonnes'], color='white', edgecolors='grey', alpha=0.7, s=50)

plt.annotate('Brazil',(brazil.Tonnes.values[0], brazil.GDP.values[0]))

plt.xlabel('GDP (trillion $)', loc='right')
plt.xticks([0,1,2,3,4])
plt.xlim(0,4)
plt.ylabel('Production (billion kg)')
ax = plt.gca()
ax.yaxis.set_label_coords(-0.05, .7)
plt.yticks([0,1,2,3,4])
plt.ylim(0,4)
plt.title('Coffee Production and GDP')
plt.tight_layout()
plt.savefig('Part_2_1/i/8.png')


from Weidman_Figures import *
    
fig, ax = Weid_Fig(height=6, widths=6, fontsize=24)

data = pd.read_csv('Part_2_1/Beans_GDP.csv')
data = data[data['Year'] == 2019]

brazil = data[data.Tonnes == data.Tonnes.max()]
brazil_gdp = brazil.GDP.values[0]
brazil_tonnes = brazil.Tonnes.values[0]
plt.scatter(brazil['GDP'], brazil['Tonnes'], color='grey', edgecolors='red', alpha=1, s=150)
plt.plot([0,brazil_gdp],[0,brazil_tonnes], linestyle='--', color='red', zorder=-1, alpha=0.5)

data['brazil_ratio'] = data['GDP']/data['Tonnes']
greater = data[data['brazil_ratio'] > brazil_gdp/brazil_tonnes]
lower = data[data['brazil_ratio'] < brazil_gdp/brazil_tonnes]

plt.scatter(greater['GDP'], greater['Tonnes'], color='white', edgecolors='grey', alpha=0.7, s=50)
plt.scatter(lower['GDP'], lower['Tonnes'], color='grey', edgecolors='red', alpha=0.3, s=150)

plt.annotate('Brazil',(brazil.Tonnes.values[0], brazil.GDP.values[0]))

plt.xlabel('GDP (trillion $)', loc='right')
plt.xticks([0,1,2,3,4])
plt.xlim(0,4)
plt.ylabel('Production (billion kg)')
ax = plt.gca()
ax.yaxis.set_label_coords(-0.05, .7)
plt.yticks([0,1,2,3,4])
plt.ylim(0,4)
plt.title('Coffee Production and GDP')
plt.tight_layout()
plt.savefig('Part_2_1/i/9.png')


from Weidman_Figures import *
    
fig, ax = Weid_Fig(height=6, widths=6, fontsize=24)

subset_list = ['BRA', 'THA', 'MWI', 'CMR']

data = pd.read_csv('Part_2_1/Beans_GDP.csv')
data = data[data['Year'] == 2019]
other_data = data[~data.Code.isin(subset_list)]

plt.scatter(other_data['GDP'], other_data['Tonnes'], color='white', edgecolors='grey', alpha=0.2, s=50)

subset = data[data.Code.isin(subset_list)]

plt.scatter(subset['GDP'], subset['Tonnes'], color='grey', edgecolors='red', alpha=0.3, s=150)

for index, row in subset.iterrows():
    row_gdp = row.GDP
    row_tonnes = row.Tonnes
    row_entity = row.Entity
    if row_entity != 'Cameroon':
        plt.annotate(row_entity,(row_gdp, row_tonnes),xytext=(row_gdp+0.05, row_tonnes+0.05))
    else:
        plt.annotate(row_entity,(row_gdp, row_tonnes),xytext=(row_gdp+0.08, row_tonnes+0.08))

plt.xlabel('GDP (trillion $)', loc='right')
plt.xticks([0,1,2,3,4])
plt.xlim(0,4)
plt.ylabel('Production (billion kg)')
ax = plt.gca()
ax.yaxis.set_label_coords(-0.05, .7)
plt.yticks([0,1,2,3,4])
plt.ylim(0,4)
plt.title('Coffee Production and GDP')
plt.tight_layout()
plt.savefig('Part_2_1/i/10.png')


from Weidman_Figures import *
    
fig, ax = Weid_Fig(height=6, widths=6, fontsize=24)

subset_list = ['BRA', 'THA', 'MWI', 'CMR']

data = pd.read_csv('Part_2_1/Beans_GDP.csv')
data = data[data['Year'] == 2019]
data['log10_GDP'] = np.log10(data['GDP'].replace(0, np.nan) + 1e-10)

other_data = data[~data.Code.isin(subset_list)]

plt.scatter(other_data['log10_GDP'], other_data['Tonnes'], color='white', edgecolors='grey', alpha=0.2, s=50)

subset = data[data.Code.isin(subset_list)]

plt.scatter(subset['log10_GDP'], subset['Tonnes'], color='grey', edgecolors='red', alpha=0.3, s=150)

for index, row in subset.iterrows():
    row_gdp = row.log10_GDP
    row_tonnes = row.Tonnes
    row_entity = row.Entity
    if row_entity != 'Cameroon':
        plt.annotate(row_entity,(row_gdp, row_tonnes),xytext=(row_gdp+0.05, row_tonnes+0.05))
    else:
        plt.annotate(row_entity,(row_gdp, row_tonnes),xytext=(row_gdp+0.08, row_tonnes+0.08))

plt.xlabel('Log GDP (trillion $)', loc='right')
x_ticks_labels = [0.001, 0.01, 0.1, 1, 10]
x_ticks = np.log10(x_ticks_labels)
plt.xticks(ticks=x_ticks, labels=x_ticks_labels)
#plt.xlim(0,4)
plt.ylabel('Production (billion kg)')
ax = plt.gca()
ax.yaxis.set_label_coords(-0.05, .7)
plt.yticks([0,1,2,3,4])
plt.ylim(0,4)
plt.title('Coffee Production and GDP')
plt.tight_layout()
plt.savefig('Part_2_1/i/11.png')


from Weidman_Figures import *
    
fig, ax = Weid_Fig(height=6, widths=6, fontsize=24)

subset_list = ['BRA', 'THA', 'MWI', 'CMR']

data = pd.read_csv('Part_2_1/Beans_GDP.csv')
data = data[data['Year'] == 2019]
data['log10_GDP'] = np.log10(data['GDP'].replace(0, np.nan) + 1e-10)
data['log10_Tonnes'] = np.log10(data['Tonnes'].replace(0, np.nan) + 1e-10)

other_data = data[~data.Code.isin(subset_list)]

plt.scatter(other_data['log10_GDP'], other_data['log10_Tonnes'], color='white', edgecolors='grey', alpha=0.2, s=50)

subset = data[data.Code.isin(subset_list)]

plt.scatter(subset['log10_GDP'], subset['log10_Tonnes'], color='grey', edgecolors='red', alpha=0.3, s=150)

for index, row in subset.iterrows():
    row_gdp = row.log10_GDP
    row_tonnes = row.log10_Tonnes
    row_entity = row.Entity
    if row_entity != 'Cameroon':
        plt.annotate(row_entity,(row_gdp, row_tonnes),xytext=(row_gdp+0.05, row_tonnes+0.05))
    else:
        plt.annotate(row_entity,(row_gdp, row_tonnes),xytext=(row_gdp+0.08, row_tonnes+0.08))

plt.xlabel('Log GDP (trillion $)', loc='right')
x_ticks_labels = [0.001, 0.01, 0.1, 1, 10]
x_ticks = np.log10(x_ticks_labels)
plt.xticks(ticks=x_ticks, labels=x_ticks_labels)
plt.ylabel('Log Production (billion kg)')
ax = plt.gca()
ax.yaxis.set_label_coords(-0.1, .6)
y_ticks_labels = [0.001, 0.01, 0.1, 1, 10]
y_ticks = np.log10(y_ticks_labels)
plt.yticks(ticks=y_ticks, labels=y_ticks_labels)
plt.title('Coffee Production and GDP')
plt.tight_layout()
plt.savefig('Part_2_1/i/12.png')


from Weidman_Figures import *
    
fig, ax = Weid_Fig(height=6, widths=6, fontsize=24)

data = pd.read_csv('Part_2_1/Beans_GDP.csv')
data = data[data['Year'] == 2019]
data['log10_GDP'] = np.log10(data['GDP'].replace(0, np.nan) + 1e-10)
data['log10_Tonnes'] = np.log10(data['Tonnes'].replace(0, np.nan) + 1e-10)

plt.scatter(data['log10_GDP'], data['log10_Tonnes'], color='grey', edgecolors='grey', alpha=0.7, s=50)

plt.xlabel('Log GDP (trillion $)', loc='right')
x_ticks_labels = [0.001, 0.01, 0.1, 1, 10]
x_ticks = np.log10(x_ticks_labels)
plt.xticks(ticks=x_ticks, labels=x_ticks_labels)
plt.ylabel('Log Production (billion kg)')
ax = plt.gca()
ax.yaxis.set_label_coords(-0.1, .6)
y_ticks_labels = [0.001, 0.01, 0.1, 1, 10]
y_ticks = np.log10(y_ticks_labels)
plt.yticks(ticks=y_ticks, labels=y_ticks_labels)
plt.title('Coffee Production and GDP')

plt.tight_layout()
plt.savefig('Part_2_1/i/13.png')


from Weidman_Figures import *
    
fig, ax = Weid_Fig(height=6, widths=6, fontsize=24)

data = pd.read_csv('Part_2_1/Beans_GDP.csv')
data = data[data['Year'] == 2019]
data['log10_GDP'] = np.log10(data['GDP'].replace(0, np.nan) + 1e-10)
data['log10_Tonnes'] = np.log10(data['Tonnes'].replace(0, np.nan) + 1e-10)

americas = ['Bolivia', 'Brazil', 'Colombia', 'Costa Rica', 'Dominican Republic', 'El Salvador', 'Guatemala',
       'Honduras', 'Mexico', 'Nicaragua', 'Peru']
america_data = data[data.Entity.isin(americas)]
plt.scatter(america_data['log10_GDP'], america_data['log10_Tonnes'], color='grey', edgecolors='grey', alpha=0.7, s=50)

plt.xlabel('Log GDP (trillion $)', loc='right')
x_ticks_labels = [0.001, 0.01, 0.1, 1, 10]
x_ticks = np.log10(x_ticks_labels)
plt.xticks(ticks=x_ticks, labels=x_ticks_labels)
plt.ylabel('Log Production (billion kg)')
ax = plt.gca()
ax.yaxis.set_label_coords(-0.1, .6)
y_ticks_labels = [0.001, 0.01, 0.1, 1, 10]
y_ticks = np.log10(y_ticks_labels)
plt.yticks(ticks=y_ticks, labels=y_ticks_labels)
plt.title('Coffee Production and GDP')

plt.tight_layout()
plt.savefig('Part_2_1/i/14.png')


from Weidman_Figures import *
    
fig, ax = Weid_Fig(height=6, widths=6, fontsize=24)

data = pd.read_csv('Part_2_1/Beans_GDP.csv')
data = data[data['Year'] == 2019]
data['log10_GDP'] = np.log10(data['GDP'].replace(0, np.nan) + 1e-10)
data['log10_Tonnes'] = np.log10(data['Tonnes'].replace(0, np.nan) + 1e-10)

americas = ['Bolivia', 'Brazil', 'Colombia', 'Costa Rica', 'Dominican Republic', 'El Salvador', 'Guatemala',
       'Honduras', 'Mexico', 'Nicaragua', 'Peru']
america_data = data[data.Entity.isin(americas)]
plt.scatter(america_data['log10_GDP'], america_data['log10_Tonnes'], color='grey', edgecolors='grey', alpha=0.7, s=50)

america_max = america_data[america_data.log10_Tonnes == america_data.log10_Tonnes.max()]
plt.scatter(america_max['log10_GDP'], america_max['log10_Tonnes'], color='grey', edgecolors='red', alpha=0.3, s=150)

row_gdp = america_max.iloc[0].log10_GDP
row_tonnes = america_max.iloc[0].log10_Tonnes
row_entity = america_max.iloc[0].Entity

plt.annotate(row_entity,(row_gdp, row_tonnes),xytext=(row_gdp+0.05, row_tonnes+0.05))

plt.xlabel('Log GDP (trillion $)', loc='right')
x_ticks_labels = [0.001, 0.01, 0.1, 1, 10]
x_ticks = np.log10(x_ticks_labels)
plt.xticks(ticks=x_ticks, labels=x_ticks_labels)
plt.ylabel('Log Production (billion kg)')
ax = plt.gca()
ax.yaxis.set_label_coords(-0.1, .6)
y_ticks_labels = [0.001, 0.01, 0.1, 1, 10]
y_ticks = np.log10(y_ticks_labels)
plt.yticks(ticks=y_ticks, labels=y_ticks_labels)
plt.title('Coffee Production and GDP')

plt.tight_layout()
plt.savefig('Part_2_1/i/15.png')


from Weidman_Figures import *
    
fig, ax = Weid_Fig(height=6, widths=6, fontsize=24)

data = pd.read_csv('Part_2_1/Beans_GDP.csv')
data = data[data['Year'] == 2019]
data['log10_GDP'] = np.log10(data['GDP'].replace(0, np.nan) + 1e-10)
data['log10_Tonnes'] = np.log10(data['Tonnes'].replace(0, np.nan) + 1e-10)

americas = ['Bolivia', 'Brazil', 'Colombia', 'Costa Rica', 'Dominican Republic', 'El Salvador', 'Guatemala',
       'Honduras', 'Mexico', 'Nicaragua', 'Peru']
america_data = data[data.Entity.isin(americas)]
plt.scatter(america_data['log10_GDP'], america_data['log10_Tonnes'], color='grey', edgecolors='grey', alpha=0.7, s=50)

america_max = america_data[america_data.log10_Tonnes == america_data.log10_Tonnes.max()]
plt.scatter(america_max['log10_GDP'], america_max['log10_Tonnes'], color='grey', edgecolors='red', alpha=0.3, s=150)

row_gdp = america_max.iloc[0].log10_GDP
row_tonnes = america_max.iloc[0].log10_Tonnes
row_entity = america_max.iloc[0].Entity

plt.annotate(row_entity,(row_gdp, row_tonnes),xytext=(row_gdp+0.05, row_tonnes+0.05))

plt.plot([row_tonnes,row_gdp],[np.log(0.01),row_gdp], linestyle='--', color='red', zorder=-1, alpha=0.5)

america_data['GDP_dif'] = np.abs(america_data.log10_GDP - row_gdp)

america_dif_min = america_data[america_data['GDP_dif'] == america_data[america_data['GDP_dif'] >0]['GDP_dif'].min()]
plt.scatter(america_dif_min['log10_GDP'], america_dif_min['log10_Tonnes'], color='grey', edgecolors='red', alpha=0.3, s=150)

row_gdp = america_dif_min.iloc[0].log10_GDP
row_tonnes = america_dif_min.iloc[0].log10_Tonnes
row_entity = america_dif_min.iloc[0].Entity

plt.annotate(row_entity,(row_gdp, row_tonnes),xytext=(row_gdp+0.05, row_tonnes+0.05))

plt.xlabel('Log GDP (trillion $)', loc='right')

x_ticks_labels = [0.001, 0.01, 0.1, 1, 10]
x_ticks = np.log10(x_ticks_labels)
plt.xticks(ticks=x_ticks, labels=x_ticks_labels)
plt.ylabel('Log Production (billion kg)')
ax = plt.gca()
ax.yaxis.set_label_coords(-0.1, .6)
y_ticks_labels = [0.001, 0.01, 0.1, 1, 10]
y_ticks = np.log10(y_ticks_labels)
plt.yticks(ticks=y_ticks, labels=y_ticks_labels)
plt.ylim(y_ticks.min(),y_ticks.max())
plt.title('Coffee Production and GDP')

plt.tight_layout()
plt.savefig('Part_2_1/i/16.png')





coffee = pd.read_csv('Part_2_1/Part_1_7_Coffee_Consumption/Coffee_importers_consumption.csv')
population = pd.read_csv('Part_2_1/Part_1_7_Population_By_Country/population.csv')
population.rename(columns={'Country Name':'Country', 'Country Code': 'Code'}, inplace=True)
pre_cap = coffee.merge(population, on='Code', how='inner')
years = ['1990', '1991', '1992', '1993', '1994', '1995', '1996',
       '1997', '1998', '1999', '2000', '2001', '2002', '2003', '2004',
       '2005', '2006', '2007', '2008', '2009', '2010', '2011', '2012',
       '2013', '2014', '2015', '2016', '2017', '2018', '2019']
percap = pd.DataFrame(pre_cap['Code'].values, columns=['Code'])
for year in years:
    percap[year] = pre_cap[year+'_x']/pre_cap[year+'_y']
percap = percap[percap['Code'] != 'BEL']
y_loc=0.5
percap['jitter'] = [y_loc-0.1] * len(percap) + np.random.rand(len(percap))*0.2

percap.to_csv('Part_2_1/Coffee_Per_Cap.csv')


from Weidman_Figures import *
    
fig, ax = Weid_Fig(height=4, fontsize=20)

percap = pd.read_csv('Part_2_1/Coffee_Per_Cap.csv', index_col=0)

bin_edges = np.arange(0, 25, 1)

close_counts, bin_edges, patches = plt.hist(percap['1999'], bins=bin_edges, edgecolor='black', label = '1999', alpha=1/2)

plt.title('Coffee Importing Countries')
plt.legend()
plt.ylabel('')
plt.yticks([])
plt.xlabel('Coffee Consumption (1kg per capita)')
plt.xlim(0,25)
plt.grid(False)
sns.despine(left=True, right=True, top=True)
plt.tight_layout()

plt.savefig('Part_2_1/i/17.png')


from Weidman_Figures import *
    
fig, ax = Weid_Fig(height=4, fontsize=20)

percap = pd.read_csv('Part_2_1/Coffee_Per_Cap.csv', index_col=0)

bin_edges = np.arange(0, 25, 1)

close_counts, bin_edges, patches = plt.hist(percap['1999'], bins=bin_edges, edgecolor='black', label = '1999', alpha=1/2)
open_counts, bin_edges, patches = plt.hist(percap['2019'], bins=bin_edges, edgecolor='black', label = '2019', alpha=1/2)

plt.title('Coffee Importing Countries')
plt.legend()
plt.ylabel('')
plt.yticks([])
plt.xlabel('Coffee Consumption (1kg per capita)')
plt.xlim(0,25)
plt.grid(False)
sns.despine(left=True, right=True, top=True)
plt.tight_layout()

plt.savefig('Part_2_1/i/18.png')


from Weidman_Figures import *
    
fig, ax = Weid_Fig(height=4, fontsize=20)

percap = pd.read_csv('Part_2_1/Coffee_Per_Cap.csv', index_col=0)
percap_melted = percap[['1999']].melt(var_name='Year', value_name='Value')

ax = sns.boxplot(x='Value', y='Year', color='lightgrey', data=percap_melted, whis=(0, 100), zorder=-2)

plt.title('Coffee Importing Countries')
plt.ylabel('')
plt.xlabel('Coffee Consumption (1kg per capita)')
plt.yticks([y_loc], ['1999'])
plt.grid(False)
sns.despine(left=True, right=True, top=True)
plt.tight_layout()

plt.savefig('Part_2_1/i/19.png')


from Weidman_Figures import *

fig, ax = Weid_Fig(height=4.5, fontsize=20)

percap = pd.read_csv('Part_2_1/Coffee_Per_Cap.csv', index_col=0)

sns.boxplot(data=percap[['1999','2004','2009','2014','2019']], orient='h', color='lightgrey', whis=(0, 100), zorder=1)
    
plt.title('Coffee Importing Countries')
plt.xlabel('Coffee Consumption (1kg per capita)')
plt.ylabel('')  
plt.ylim(-0.5,4.5)
sns.despine(left=True, top=True, bottom=True)
plt.tight_layout()

plt.savefig('Part_2_1/i/29.png')


from Weidman_Figures import *

fig, ax = Weid_Fig(height=4.5, fontsize=20)

percap = pd.read_csv('Part_2_1/Coffee_Per_Cap.csv', index_col=0)

sns.boxplot(data=percap[['1999','2004','2009','2014','2019']], orient='h', color='lightgrey', whis=(0, 100), zorder=1)

medians = percap_melted.groupby('Year')['Value'].median()
for i, median in enumerate(medians):
    plt.plot([median, median], [i - 0.4, i + 0.4], color='red', linewidth=1, zorder=4)
    
plt.title('Coffee Importing Countries')
plt.xlabel('Coffee Consumption (1kg per capita)')
plt.ylabel('')  
plt.ylim(-0.5,4.5)
sns.despine(left=True, top=True, bottom=True)
plt.tight_layout()

plt.savefig('Part_2_1/i/30.png')


from Weidman_Figures import *

fig, ax = Weid_Fig(height=4.5, fontsize=20)

percap = pd.read_csv('Part_2_1/Coffee_Per_Cap.csv', index_col=0)

sns.boxplot(data=percap[['1999','2004','2009','2014','2019']], orient='h', color='lightgrey', whis=(0, 100), zorder=1)
sns.boxplot(data=percap[['2009','2014']], orient='h', color='#2196F3', whis=(0, 100), zorder=1)

medians = percap_melted.groupby('Year')['Value'].median()
for i, median in enumerate(medians):
    plt.plot([median, median], [i - 0.4, i + 0.4], color='red', linewidth=1, zorder=4)
    
plt.title('Coffee Importing Countries')
plt.xlabel('Coffee Consumption (1kg per capita)')
plt.ylabel('')  
plt.ylim(-0.5,4.5)
sns.despine(left=True, top=True, bottom=True)
plt.tight_layout()

plt.savefig('Part_2_1/i/31.png')


from Weidman_Figures import *

fig, ax = Weid_Fig(height=4.5, fontsize=20)

percap = pd.read_csv('Part_2_1/Coffee_Per_Cap.csv', index_col=0)

sns.boxplot(data=percap[['1999','2004','2009','2014','2019']], orient='h', color='lightgrey', whis=(0, 100), zorder=1)

medians = percap_melted.groupby('Year')['Value'].quantile(0)
for i, median in enumerate(medians):
    plt.plot([median, median], [i - 0.4, i + 0.4], color='red', linewidth=1, zorder=4)
    
plt.title('Coffee Importing Countries')
plt.xlabel('Coffee Consumption (1kg per capita)')
plt.ylabel('')  
plt.ylim(-0.5,4.5)
sns.despine(left=True, top=True, bottom=True)
plt.tight_layout()

plt.savefig('Part_2_1/i/32.png')


from Weidman_Figures import *

fig, ax = Weid_Fig(height=4.5, fontsize=20)

percap = pd.read_csv('Part_2_1/Coffee_Per_Cap.csv', index_col=0)

sns.boxplot(data=percap[['1999','2004','2009','2014','2019']], orient='h', color='lightgrey', whis=(0, 100), zorder=1)

medians = percap_melted.groupby('Year')['Value'].quantile(1)
for i, median in enumerate(medians):
    plt.plot([median, median], [i - 0.4, i + 0.4], color='red', linewidth=1, zorder=4)
    
plt.title('Coffee Importing Countries')
plt.xlabel('Coffee Consumption (1kg per capita)')
plt.ylabel('')
plt.ylim(-0.5,4.5)
sns.despine(left=True, top=True, bottom=True)
plt.tight_layout()

plt.savefig('Part_2_1/i/33.png')


from Weidman_Figures import *

fig, ax = Weid_Fig(height=4.5, fontsize=20)

percap = pd.read_csv('Part_2_1/Coffee_Per_Cap.csv', index_col=0)

sns.boxplot(data=percap[['1999','2004','2009','2014','2019']], orient='h', color='lightgrey', whis=(0, 100), zorder=1)
sns.boxplot(data=percap[['1999','2004','2009',]], orient='h', color='#2196F3', whis=(0, 100), zorder=1)

medians = percap_melted.groupby('Year')['Value'].median()
for i, median in enumerate(medians):
    plt.plot([median, median], [i - 0.4, i + 0.4], color='red', linewidth=1, zorder=4)
    
plt.title('Coffee Importing Countries')
plt.xlabel('Coffee Consumption (1kg per capita)')
plt.ylabel('')
plt.ylim(-0.5,4.5)
sns.despine(left=True, top=True, bottom=True)
plt.tight_layout()

plt.savefig('Part_2_1/i/34.png')


from Weidman_Figures import *

fig, ax = Weid_Fig(height=4.5, fontsize=20)

percap = pd.read_csv('Part_2_1/Coffee_Per_Cap.csv', index_col=0)

sns.boxplot(data=percap[['1999','2004','2009','2014','2019']], orient='h', color='lightgrey', whis=(0, 100), zorder=1)

medians = percap_melted.groupby('Year')['Value'].quantile(0.25)
for i, median in enumerate(medians):
    plt.plot([median, median], [i - 0.4, i + 0.4], color='red', linewidth=1, zorder=4)
    
plt.title('Coffee Importing Countries')
plt.xlabel('Coffee Consumption (1kg per capita)')
plt.ylabel('')  
plt.ylim(-0.5,4.5)
sns.despine(left=True, top=True, bottom=True)
plt.tight_layout()

plt.savefig('Part_2_1/i/35.png')


from Weidman_Figures import *

fig, ax = Weid_Fig(height=4.5, fontsize=20)

percap = pd.read_csv('Part_2_1/Coffee_Per_Cap.csv', index_col=0)

sns.boxplot(data=percap[['1999','2004','2009','2014','2019']], orient='h', color='lightgrey', whis=(0, 100), zorder=1)
sns.boxplot(data=percap[['1999','2004','2009','2014','2019']], orient='h', color='#2196F3', whis=(0, 100), zorder=1)

medians = percap_melted.groupby('Year')['Value'].quantile(0.25)
for i, median in enumerate(medians):
    plt.plot([median, median], [i - 0.4, i + 0.4], color='red', linewidth=1, zorder=4)
    
plt.title('Coffee Importing Countries')
plt.xlabel('Coffee Consumption (1kg per capita)')
plt.ylabel('')  
plt.ylim(-0.5,4.5)
sns.despine(left=True, top=True, bottom=True)
plt.tight_layout()

plt.savefig('Part_2_1/i/36.png')


from Weidman_Figures import *

fig, ax = Weid_Fig(height=4.5, fontsize=20)

percap = pd.read_csv('Part_2_1/Coffee_Per_Cap.csv', index_col=0)

sns.boxplot(data=percap[['1999','2004','2009','2014','2019']], orient='h', color='lightgrey', whis=(0, 100), zorder=1)

mins = percap_melted.groupby('Year')['Value'].min()
maxes = percap_melted.groupby('Year')['Value'].max()
for i, (min,max) in enumerate(zip(mins,maxes)):
    plt.plot([min, max], [i, i], color='red', linewidth=1)
    
plt.title('Coffee Importing Countries')
plt.xlabel('Coffee Consumption (1kg per capita)')
plt.ylabel('')  
plt.ylim(-0.5,4.5)
sns.despine(left=True, top=True, bottom=True)
plt.tight_layout()

plt.savefig('Part_2_1/i/37.png')



from Weidman_Figures import *

fig, ax = Weid_Fig(height=4.5, fontsize=20)

percap = pd.read_csv('Part_2_1/Coffee_Per_Cap.csv', index_col=0)

sns.boxplot(data=percap[['1999','2004','2009','2014','2019']], orient='h', color='lightgrey', whis=(0, 100), zorder=1)
sns.boxplot(data=percap[['2004']], orient='h', color='#2196F3', whis=(0, 100), zorder=1)

mins = percap_melted.groupby('Year')['Value'].min()
maxes = percap_melted.groupby('Year')['Value'].max()
for i, (min,max) in enumerate(zip(mins,maxes)):
    plt.plot([min, max], [i, i], color='red', linewidth=1)
    
plt.title('Coffee Importing Countries')
plt.xlabel('Coffee Consumption (1kg per capita)')
plt.ylabel('')  
plt.ylim(-0.5,4.5)
sns.despine(left=True, top=True, bottom=True)
plt.tight_layout()

plt.savefig('Part_2_1/i/38.png')



from Weidman_Figures import *
    
fig, ax = Weid_Fig(height=6, widths=6, fontsize=20)
percap = pd.read_csv('Part_2_1/Coffee_Per_Cap.csv', index_col=0)

plt.scatter(percap['1999'], percap['2019'], color='grey', edgecolors='red', alpha=0.3, s=150)

plt.xlabel('Consumption in 1999 (1kg per cap)', loc='right')
x_ticks_labels = [0, 4, 8, 12, 16, 20, 24]
x_ticks = x_ticks_labels
plt.xticks(ticks=x_ticks, labels=x_ticks_labels)
plt.ylabel('Consumption in 2019 (1kg per cap)')
ax = plt.gca()
ax.yaxis.set_label_coords(-0.1, .5)
y_ticks_labels = [0, 4, 8, 12, 16, 20, 24]
y_ticks = y_ticks_labels
plt.xlim(0,24)
plt.ylim(0,24)
plt.yticks(ticks=y_ticks, labels=y_ticks_labels)
plt.title('Coffee Importing Countries')

plt.tight_layout()
plt.savefig('Part_2_1/i/39.png')



from Weidman_Figures import *
    
fig, ax = Weid_Fig(height=6, widths=6, fontsize=20)
percap = pd.read_csv('Part_2_1/Coffee_Per_Cap.csv', index_col=0)

plt.scatter(percap['1999'], percap['2019'], color='grey', edgecolors='red', alpha=0.3, s=150)
plt.plot([0,24],[0,24], linestyle='--', color='red', zorder=-1, alpha=0.5)

plt.xlabel('Consumption in 1999 (1kg per cap)', loc='right')
x_ticks_labels = [0, 4, 8, 12, 16, 20, 24]
x_ticks = x_ticks_labels
plt.xticks(ticks=x_ticks, labels=x_ticks_labels)
plt.ylabel('Consumption in 2019 (1kg per cap)')
ax = plt.gca()
ax.yaxis.set_label_coords(-0.1, .5)
y_ticks_labels = [0, 4, 8, 12, 16, 20, 24]
y_ticks = y_ticks_labels
plt.xlim(0,24)
plt.ylim(0,24)
plt.yticks(ticks=y_ticks, labels=y_ticks_labels)
plt.title('Coffee Importing Countries')

plt.tight_layout()
plt.savefig('Part_2_1/i/40.png')



from Weidman_Figures import *

fig, ax = Weid_Fig(height=6, widths=6, fontsize=20)

percap = pd.read_csv('Part_2_1/Coffee_Per_Cap.csv', index_col=0)
increase = percap[percap['1999'] <= percap['2019']]
decrease = percap[percap['1999'] > percap['2019']]

plt.scatter(increase['1999'], increase['2019'], color='red', edgecolors='grey', alpha=0.3, s=150)
plt.scatter(decrease['1999'], decrease['2019'], color='white', edgecolors='grey', alpha=0.3, s=150)

plt.plot([0,24],[0,24], linestyle='--', color='red', zorder=-1, alpha=0.5)

plt.xlabel('Consumption in 1999 (1kg per cap)', loc='right')
x_ticks_labels = [0, 4, 8, 12, 16, 20, 24]
x_ticks = x_ticks_labels
plt.xticks(ticks=x_ticks, labels=x_ticks_labels)
plt.ylabel('Consumption in 2019 (1kg per cap)')
ax = plt.gca()
ax.yaxis.set_label_coords(-0.1, .5)
y_ticks_labels = [0, 4, 8, 12, 16, 20, 24]
y_ticks = y_ticks_labels
plt.xlim(0,24)
plt.ylim(0,24)
plt.yticks(ticks=y_ticks, labels=y_ticks_labels)
plt.title('Coffee Importing Countries')

plt.tight_layout()
plt.savefig('Part_2_1/i/41.png')



from Weidman_Figures import *
    
fig, ax = Weid_Fig(height=6, widths=6, fontsize=20)

percap = pd.read_csv('Part_2_1/Coffee_Per_Cap.csv', index_col=0)
increase = percap[percap['1999'] <= percap['2019']]
decrease = percap[percap['1999'] > percap['2019']]

plt.scatter(decrease['1999'], decrease['2019'], color='red', edgecolors='grey', alpha=0.3, s=150)
plt.scatter(increase['1999'], increase['2019'], color='white', edgecolors='grey', alpha=0.3, s=150)

plt.plot([0,24],[0,24], linestyle='--', color='red', zorder=-1, alpha=0.5)

plt.xlabel('Consumption in 1999 (1kg per cap)', loc='right')
x_ticks_labels = [0, 4, 8, 12, 16, 20, 24]
x_ticks = x_ticks_labels
plt.xticks(ticks=x_ticks, labels=x_ticks_labels)
plt.ylabel('Consumption in 2019 (1kg per cap)')
ax = plt.gca()
ax.yaxis.set_label_coords(-0.1, .5)
y_ticks_labels = [0, 4, 8, 12, 16, 20, 24]
y_ticks = y_ticks_labels
plt.xlim(0,24)
plt.ylim(0,24)
plt.yticks(ticks=y_ticks, labels=y_ticks_labels)
plt.title('Coffee Importing Countries')

plt.tight_layout()
plt.savefig('Part_2_1/i/42.png')



from Weidman_Figures import *
    
fig, ax = Weid_Fig(height=6, widths=6, fontsize=20)

percap = pd.read_csv('Part_2_1/Coffee_Per_Cap.csv', index_col=0)
percap['log10_1999'] = np.log2(percap['1999'].replace(0, np.nan) + 1e-10)
percap['log10_2019'] = np.log2(percap['2019'].replace(0, np.nan) + 1e-10)

increase = percap[percap['1999'] <= percap['2019']]
decrease = percap[percap['1999'] > percap['2019']]

plt.scatter(decrease['log10_1999'], decrease['log10_2019'], color='red', edgecolors='grey', alpha=0.3, s=150)
plt.scatter(increase['log10_1999'], increase['log10_2019'], color='green', edgecolors='grey', alpha=0.3, s=150)

plt.plot([0,24],[0,24], linestyle='--', color='red', zorder=-1, alpha=0.5)

plt.xlabel('Consumption in 1999 (1kg per cap)', loc='right')
x_ticks_labels = [1,2,4,8,16]
x_ticks = np.log2(x_ticks_labels)
plt.xticks(ticks=x_ticks, labels=x_ticks_labels)
plt.ylabel('Consumption in 2019 (1kg per cap)')
ax = plt.gca()
ax.yaxis.set_label_coords(-0.1, .5)
y_ticks_labels = [1,2,4,8,16]
y_ticks = np.log2(y_ticks_labels)
plt.yticks(ticks=y_ticks, labels=y_ticks_labels)
plt.xlim(np.log2(1),np.log2(16))
plt.ylim(np.log2(1),np.log2(16))
plt.title('Coffee Importing Countries')

plt.tight_layout()
plt.savefig('Part_2_1/i/43.png')






# Imports
import pandas as pd
import matplotlib.pyplot as plt
import seaborn as sns
import numpy as np

plt.rcParams.update({
    'font.family': 'serif',              # Set the font family
    'font.serif': ['Times New Roman'],   # Use a specific serif font
    'font.size': 16,                     # Set the general font size
    'axes.titlesize': 16,                # Set the font size of the title
    'axes.labelsize': 16,                # Set the font size of axis labels
    'font.style': 'italic',              # Set the font style to italic
    'figure.dpi': 400   
})

category_color_pal = sns.color_palette("hls", 8)#sns.color_palette("husl", 8)
continuous_color_pal = sns.color_palette("rocket_r", as_cmap=True)





cpi = pd.read_csv('data/CPI_raw.csv')

cpi.Year = cpi.Year.astype(int)
cpi = cpi[cpi.Year >= 1970]
cpi['I'] = cpi['Annual Percent Change (rate of inflation)'].str.replace('%', '').astype(float)/100
cpi['cpi'] = cpi['Annual Average CPI(-U)'].astype(float)

""" 1970's Dollar """

# To find out how much a price in Year 1 would be in Year 2 dollars:
# Year 2 Price = Year 1 Price x (Year 2 CPI/Year 1 CPI)

price_base = 1
values = []
i_base = cpi['cpi'].values[0]
for i in cpi['cpi'].values:
    price = price_base * (i/i_base)
    values.append(price)
cpi['base'] = values

""" Today's Dollar """

# To find out how much a price in Year 1 would be in Year 2 dollars:
# Year 2 Price = Year 1 Price x (Year 2 CPI/Year 1 CPI)

price_base = 1
values = []
i_base = cpi['cpi'].values[-1]
for i in cpi['cpi'].values:
    price = price_base * (i/i_base)
    values.append(price)
cpi['today'] = values

cpi.to_csv('data/CPI.csv')


data = pd.read_csv('data/Daily_Coffee_Prices.csv', index_col=0)
data['date_column'] = pd.to_datetime(data['date'], format='%m/%d/%y')
data['year'] = data['date_column'].dt.year
data = data[(data['year'] < 2023)]

cpi = pd.read_csv('data/CPI.csv')

today_list = []
cpi_list = []
for i,row in data.iterrows():
    cpi_year = cpi[cpi.Year == row.year]
    year = row.year
    today_list.append(cpi_year.today.iloc[0])
    cpi_list.append(cpi_year.cpi.iloc[0])
    
data['today'] = today_list
data['cpi'] = cpi_list
data.to_csv('data/Coffee_Prices_CPI.csv')


data = pd.read_csv('data/Coffee_Prices.csv')
data = data.rename(columns={' value': 'price'})

data['date'] = pd.to_datetime(data['date'], format='%m/%d/%y')
data['date'] = data['date'].dt.to_period('M')

monthly_avg = data.groupby('date')['price'].mean().reset_index()

monthly_avg.to_csv('data/Monthly_Coffee_Prices.csv')


data = pd.read_csv('data/Coffee_Prices.csv')
data = data.rename(columns={' value': 'price'})

data.to_csv('data/Daily_Coffee_Prices.csv')





import matplotlib.dates as mdates

data = pd.read_csv('data/Coffee_Oil.csv')
data['date_column'] = pd.to_datetime(data['Year'], format='%Y')

plt.plot(data['date_column'], data['Coffee'], label='Coffee ($ per lb)')
plt.plot(data['date_column'], data['Oil'], label='Oil ($ per cubic meter)')

plt.xlabel('Year', loc='right')
plt.ylabel('Price ($)')

ax = plt.gca()
ax.yaxis.set_label_coords(-0.06, .9)
plt.title('Oil and Coffee Prices')
plt.legend()
plt.tight_layout()

#plt.savefig('i/x_15.png')


import matplotlib.dates as mdates

fig, ax1 = plt.subplots()

# Read the data
data = pd.read_csv('data/Coffee_Oil.csv')
data['date_column'] = pd.to_datetime(data['Year'], format='%Y')

# Plot Coffee prices on the first y-axis
ax1.plot(data['date_column'], data['Coffee'], label='Coffee ($ per lb)', color='tab:blue')
ax1.set_xlabel('Year', loc='right')
ax1.set_xlim(data['date_column'].min(), data['date_column'].max())
ax1.set_ylabel('Coffee Price ($)', color='tab:blue')
ax1.tick_params(axis='y', labelcolor='tab:blue')

# Create a second y-axis
ax2 = ax1.twinx()

# Plot Oil prices on the second y-axis
ax2.plot(data['date_column'], data['Oil'], label='Oil ($ per cubic meter)', color='tab:orange')
ax2.set_ylabel('Oil Price ($)', color='tab:orange')
ax2.tick_params(axis='y', labelcolor='tab:orange')

# Add title and legend
plt.title('Oil and Coffee Prices')
fig.tight_layout()  # Adjust layout to prevent overlap

# Save the figure
#plt.savefig('Part_2_2/i/16.png')



import matplotlib.dates as mdates

fig, ax1 = plt.subplots()

# Read the data
data = pd.read_csv('data/Coffee_Oil.csv')
data['date_column'] = pd.to_datetime(data['Year'], format='%Y')

# Plot Coffee prices on the first y-axis
ax1.plot(data['date_column'], data['Coffee'], label='Coffee ($ per lb)', color='tab:blue')
ax1.set_xlabel('Year', loc='right')
ax1.set_xlim(data['date_column'].min(), data['date_column'].max())
ax1.set_ylabel('Coffee Price ($)', color='tab:blue')
ax1.tick_params(axis='y', labelcolor='tab:blue')

# Create a second y-axis
ax2 = ax1.twinx()

# Plot Oil prices on the second y-axis
ax2.plot(data['date_column'], data['Oil'], label='Oil ($ per cubic meter)', color='tab:orange')
ax2.set_ylabel('Oil Price ($)', color='tab:orange')
ax2.tick_params(axis='y', labelcolor='tab:orange')

# Determine where both prices increase or decrease together
# Create a mask for where both prices are increasing or decreasing
increasing = (data['Coffee'].diff() < 0) & (data['Oil'].diff() > 0)
decreasing = (data['Coffee'].diff() > 0) & (data['Oil'].diff() < 0)

# Plot grey bars where both prices increase or decrease
for i in range(1, len(data)):
    if increasing[i] or decreasing[i]:
        ax1.axvspan(data['date_column'].iloc[i-1], data['date_column'].iloc[i], color='grey', alpha=0.3)

# Add title and legend
plt.title('Oil and Coffee Prices')
fig.tight_layout()  # Adjust layout to prevent overlap

# Save the figure
#plt.savefig('Part_2_2/i/17.png')


import matplotlib.dates as mdates

data = pd.read_csv('data/Coffee_Oil.csv')
data['date_column'] = pd.to_datetime(data['Year'], format='%Y')

plt.scatter(data['Coffee'], data['Oil'])

plt.xlabel('Coffee Price ($/lb)', loc='right')
plt.ylabel('Oil Price ($/cubic meter)')
ax = plt.gca()
ax.yaxis.set_label_coords(-0.06, .9)
plt.title('Oil vs Coffee')
plt.tight_layout()
#plt.savefig('Part_2_2/i/18.png')

