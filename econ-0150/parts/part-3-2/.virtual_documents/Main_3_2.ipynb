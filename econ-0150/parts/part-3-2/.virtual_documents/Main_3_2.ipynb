


# Homework Dataset

data = {
    'location': ['A', 'A', 'A', 'A', 'A', 'A', 'A', 'A', 'A', 'A', 'A', 'A', 'A', 'A', 'A', 
                 'B', 'B', 'B', 'B', 'B', 'B', 'B', 'B', 'B', 'B', 'B', 'B', 'B', 'B', 'B'],
    'wait_time': [9.8, 13.2, 10.5, 14.7, 11.3, 8.9, 12.1, 16.5, 10.2, 12.8, 15.3, 11.9, 10.7, 13.5, 9.2,
                 12.3, 16.9, 13.8, 18.2, 14.7, 12.4, 17.3, 19.8, 15.2, 13.9, 16.5, 20.1, 14.8, 17.6, 13.5]
}

df = pd.DataFrame(data)

fig, ax = Weid_Fig()
df[df.location == 'A'].hist(alpha=0.3, ax=ax)
df[df.location == 'B'].hist(alpha=0.3,ax=ax)

df.to_csv('HW05_06_Q4.csv')








from scipy.stats import norm

# Given parameters
mean = 18
sigma = 4

# Find the probability that the variable is less than 6
probability = norm.cdf(6, mean, sigma)

print("The probability that X is less than 6 is:", probability)





from scipy.stats import norm

# Given parameters
mean = 18
sigma = 4

# Find the probability that the variable is less than 6
probability = 1 - norm.cdf(10, mean, sigma)

print("The probability that X is greater than 10 is:", probability)





from scipy.stats import norm

# Given parameters
mean = 18
sigma = 4

# Find the probability that the variable is less than 6
probability = 1 - norm.cdf(22, mean, sigma)

print("The probability that X is greater than 22 is:", probability)





from scipy.stats import norm

mu = 0     # Mean of the distribution
sigma = 1  # Standard deviation of the distribution

# Define the values a and b
a = 0
b = 1

# Calculate the cumulative distribution function (CDF) at a and b
P_a = norm.cdf(a, mu, sigma)  # Probability of Z <= a
P_b = norm.cdf(b, mu, sigma)  # Probability of Z <= b

# The probability of X being between a and b
probability = P_b - P_a

print(f"The probability that X is between {a} and {b} is: {probability}")





from scipy.stats import norm

percentile = 16

mean = 18
std_dev = 5
custom_normal = norm(loc=mean, scale=std_dev)

value_custom = custom_normal.ppf(percentile / 100)
print(f"{percentile}th percentile for N({mean}, {std_dev}):", value_custom)





from scipy.stats import norm

# Define the mean and standard deviation of the distribution
mu = 0     # Mean of the distribution
sigma = 1  # Standard deviation of the distribution

# Define the values a and b
a = -1
b = 1

# Calculate the cumulative distribution function (CDF) at a and b
P_a = norm.cdf(a, mu, sigma)  # Probability of X <= a
P_b = norm.cdf(b, mu, sigma)  # Probability of X <= b

# The probability of X being between a and b
probability = P_b - P_a

print(f"The probability that X is between {a} and {b} is: {probability}")





import numpy as np
import matplotlib.pyplot as plt
from scipy.stats import norm

# Parameters for the normal distribution
mu = 0     # Mean
sigma = 1  # Standard deviation
a = -1     # Lower bound
b = 2      # Upper bound

# Generate x values for the normal distribution curve
x = np.linspace(mu - 4*sigma, mu + 4*sigma, 1000)
y = norm.pdf(x, mu, sigma)

# Plot the normal distribution curve
plt.plot(x, y, label='Normal Distribution', linewidth=2)

# Fill the area between a and b
x_fill = np.linspace(a, b, 1000)
y_fill = norm.pdf(x_fill, mu, sigma)
plt.fill_between(x_fill, y_fill, color='skyblue', alpha=0.4, label=f'P({a} ≤ X ≤ {b})')

# Labeling
plt.title("Normal Distribution with Highlighted Area between a and b")
plt.xlabel("X")
plt.ylabel("Probability Density")
plt.legend()

# Display the plot
plt.show()





from scipy.stats import norm

# Calculate the 16th percentile (0.16) of a standard normal distribution
value_16th_percentile = norm.ppf(0.16)
print("Value at the 16th percentile:", value_16th_percentile)





from scipy.stats import norm

# Define the parameters of the normal distribution
mean = 18    # Mean waiting time in minutes
std_deviation = 4  # Standard deviation of waiting time in minutes

# Define the time we're interested in (less than 6 minutes)
time = 6

# Calculate the probability using the CDF
probability = norm.cdf(time, mean, std_deviation)

print(f"The probability that a customer waits less than {time} minutes is: {probability:.6f}")





from scipy.stats import norm

# Define the z-value
z_value = -2

# Calculate the probability of z > -2
# This is equivalent to 1 - P(Z <= -2)
probability = 1 - norm.cdf(z_value)

print(f"The probability of a z-value being greater than {z_value} is: {probability:.4f}")





from scipy.stats import norm

# Define the z-value
z_value = 1

# Calculate the probability of z > -2
# This is equivalent to 1 - P(Z <= -2)
probability = 1 - norm.cdf(z_value)

print(f"The probability of a z-value being greater than {z_value} is: {probability:.4f}")





from scipy.stats import norm

# Define the mean and standard deviation of the distribution
mu = 18     # Mean of the distribution
sigma = 5  # Standard deviation of the distribution

# Define the values a and b
a = 18
b = 23

# Calculate the cumulative distribution function (CDF) at a and b
P_a = norm.cdf(a, mu, sigma)  # Probability of X <= a
P_b = norm.cdf(b, mu, sigma)  # Probability of X <= b

# The probability of X being between a and b
probability = P_b - P_a

print(f"The probability that X is between {a} and {b} is: {probability}")





from scipy.stats import norm

# Define mean and standard deviation for the non-standard normal distribution
mean = 18
std_dev = 5

# Calculate the 16th percentile (0.16) for this distribution
value_16th_percentile = norm.ppf(0.16, loc=mean, scale=std_dev)
print("Value at the 16th percentile:", value_16th_percentile)





from scipy.stats import norm
import numpy as np

# Define the mean and standard deviation of the distribution
mu = 8     # Mean of the distribution
sigma = 3  # Standard deviation of the distribution
n = 36 # Sample size
sample_sigma = sigma / np.sqrt(n)

# Define the values a and b
a = 6.5
b = 9

# Calculate the cumulative distribution function (CDF) at a and b
P_a = norm.cdf(a, mu, sample_sigma)  # Probability of X <= a
P_b = norm.cdf(b, mu, sample_sigma)  # Probability of X <= b

# The probability of X being between a and b
probability = P_b - P_a

print(f"The probability that X is between {a} and {b} is: {probability}")





from scipy.stats import norm

# Parameters for the normal distribution
mean = 368  # replace with your mean value
std_dev = 15  # replace with your standard deviation
central_prob = 0.95  # replace with your desired central probability (e.g., 0.95 for a 95% interval)
n = 25 # sample size
sample_std_dev = std_dev / np.sqrt(n)

# Calculate the bounds of the symmetric interval
alpha = (1 - central_prob) / 2
lower_bound = norm.ppf(alpha, loc=mean, scale=sample_std_dev)
upper_bound = norm.ppf(1 - alpha, loc=mean, scale=sample_std_dev)

print("Symmetric interval around the mean:", (lower_bound, upper_bound))
