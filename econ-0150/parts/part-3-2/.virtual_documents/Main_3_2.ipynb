


# Imports
import pandas as pd
import matplotlib.pyplot as plt
import seaborn as sns
import numpy as np

plt.rcParams.update({
    'font.family': 'serif',              # Set the font family
    'font.serif': ['Times New Roman'],   # Use a specific serif font
    'font.size': 16,                     # Set the general font size
    'axes.titlesize': 20,                # Set the font size of the title
    'axes.labelsize': 16,                # Set the font size of axis labels
    'font.style': 'italic',              # Set the font style to italic
    'figure.dpi': 400   
})

category_color_pal = sns.color_palette("hls", 8)#sns.color_palette("husl", 8)
continuous_color_pal = sns.color_palette("rocket_r", as_cmap=True)


import numpy as np
import seaborn as sns
import matplotlib.pyplot as plt
from scipy import stats

x = np.linspace(4, 20, 1000)
y = stats.norm.pdf(x, 12, 2.5)

plt.figure(figsize=(7, 4))
plt.plot(x, y, 'b-')
plt.axvline(x=10, color='g', linestyle='-')
plt.axvline(x=15, color='g', linestyle='-')
plt.fill_between(x[np.logical_and(x>10, x<15)], 
                 0, 
                 y[np.logical_and(x>10, x<15)], 
                 color='green', alpha=0.3)
plt.title('Wait Times Between 10-15 Minutes', fontsize=20)
plt.xlabel('Minutes')
plt.yticks([])
sns.despine(left=True, bottom=False, right=True, top=True, offset=-7, trim=True)

plt.tight_layout()

plt.savefig('i/c_01.png')


import numpy as np
import matplotlib.pyplot as plt
import seaborn as sns
from scipy import stats

# Dice roll simulation (uniform distribution from 1-6)
def roll_dice(n_rolls):
    return np.random.randint(1, 7, size=n_rolls)

# Set up parameters
sample_sizes = [1]
sample_bins = {1:6, 2: 11, 30:30, 1000: 30}
sample_bins = {
    1: np.arange(0.5, 7.5, 1),  # For single rolls: [0.5, 1.5, 2.5, 3.5, 4.5, 5.5, 6.5]
    2: np.arange(0.75, 6.75, 0.5),  # For average of 2 dice: centered on [1, 1.5, 2, 2.5, 3, etc.]
    30: np.linspace(1, 6, 31),  # More bins for averages of 30 dice
    1000: np.linspace(3, 4, 41)  # Narrow range for averages of 1000 dice
}
n_samples = 10000
fig, axes = plt.subplots(2, 1, figsize=(10, 3))

# Different sample sizes
for i, n in enumerate(sample_sizes):
    sample_means = []
    for _ in range(n_samples):
        sample = roll_dice(n)
        sample_means.append(np.mean(sample))
    
    axes[i].hist(sample_means, bins=sample_bins[n], density=True, alpha=0.7, edgecolor='white', color='#4C72B0', label=f'Sample Mean (n={n})')
    axes[i].set_xlabel('')
    axes[i].set_xlim(-0.5,7.5)
    axes[i].set_yticks([])
    axes[i].legend()
    axes[i].set_ylabel('')

sns.despine(left=True, bottom=False, right=True, top=True, offset=0, trim=True)

axes[1].set_yticks([])
axes[1].spines['bottom'].set_visible(False)
axes[1].set_xticks([])

plt.tight_layout()
plt.savefig('i/c_02.png')


import numpy as np
import matplotlib.pyplot as plt
import seaborn as sns
from scipy import stats

np.random.seed(123)
n_samples = 5
sample_size = 2

# Generate 5 samples of 2 die rolls each
samples = [np.random.randint(1, 7, sample_size) for _ in range(n_samples)]
means = [np.mean(s) for s in samples]

plt.figure(figsize=(11, 3))
for i, s in enumerate(samples):
    plt.subplot(1, n_samples, i+1)
    plt.hist(s, bins=np.arange(0.5, 7.5, 1), alpha=0.7, color='#4C72B0', edgecolor='white')
    plt.axvline(x=means[i], color='red', linestyle='--')
    plt.title(f'x̄ = {means[i]:.1f}')
    plt.yticks([])
    plt.xticks([1, 6])
    plt.xlim(-0.5, 7.5)
    plt.xlabel('Die Value', fontsize=16)

sns.despine(left=True, bottom=False, right=True, top=True, offset=0, trim=True)
plt.tight_layout()
plt.savefig('i/c_03.png')


import numpy as np
import matplotlib.pyplot as plt
import seaborn as sns
from scipy import stats


# Dice roll simulation (uniform distribution from 1-6)
def roll_dice(n_rolls):
    return np.random.randint(1, 7, size=n_rolls)

# Set up parameters
sample_sizes = [1, 2]
sample_bins = {1:6, 2: 11, 30:30, 1000: 30}
sample_bins = {
    1: np.arange(0.5, 7.5, 1),  # For single rolls: [0.5, 1.5, 2.5, 3.5, 4.5, 5.5, 6.5]
    2: np.arange(0.75, 6.75, 0.5),  # For average of 2 dice: centered on [1, 1.5, 2, 2.5, 3, etc.]
    30: np.linspace(1, 6, 31),  # More bins for averages of 30 dice
    1000: np.linspace(3, 4, 41)  # Narrow range for averages of 1000 dice
}
n_samples = 10000
fig, axes = plt.subplots(2, 1, figsize=(10, 3))

# Different sample sizes
for i, n in enumerate(sample_sizes):
    sample_means = []
    for _ in range(n_samples):
        sample = roll_dice(n)
        sample_means.append(np.mean(sample))
    
    axes[i].hist(sample_means, bins=sample_bins[n], density=True, alpha=0.7, edgecolor='white', color='#4C72B0', label=f'Sample Mean (n={n})')
    axes[i].set_xlabel('')
    axes[i].set_xlim(-0.5,7.5)
    axes[i].set_yticks([])
    axes[i].legend()
    axes[i].set_ylabel('')
    
    # Add a normal curve to demonstrate CLT
    if n >= 30:
        x = np.linspace(min(sample_means), max(sample_means), 100)
        y = stats.norm.pdf(x, 3.5, np.sqrt(35/12/n))
        axes[i].plot(x, y, 'r--', linewidth=2)

sns.despine(left=True, bottom=False, right=True, top=True, offset=0, trim=True)

plt.tight_layout()
plt.savefig('i/c_04.png')


import numpy as np
import matplotlib.pyplot as plt
import seaborn as sns
from scipy import stats

np.random.seed(123)
n_samples = 5
sample_size = 3

# Generate 5 samples of 2 die rolls each
samples = [np.random.randint(1, 7, sample_size) for _ in range(n_samples)]
means = [np.mean(s) for s in samples]

plt.figure(figsize=(11, 3))
for i, s in enumerate(samples):
    plt.subplot(1, n_samples, i+1)
    plt.hist(s, bins=np.arange(0.5, 7.5, 1), alpha=0.7, color='#4C72B0', edgecolor='white')
    plt.axvline(x=means[i], color='red', linestyle='--')
    plt.title(f'x̄ = {means[i]:.1f}')
    plt.yticks([])
    plt.ylim(0,2)
    plt.xticks([1, 6])
    plt.xlim(-0.5, 7.5)
    plt.xlabel('Die Value', fontsize=16)

sns.despine(left=True, bottom=False, right=True, top=True, offset=0, trim=True)
plt.tight_layout()
plt.savefig('i/c_05.png')


#| fig-align: center
import numpy as np
import matplotlib.pyplot as plt
import seaborn as sns
from scipy import stats


# Dice roll simulation (uniform distribution from 1-6)
def roll_dice(n_rolls):
    return np.random.randint(1, 7, size=n_rolls)

# Set up parameters
sample_sizes = [1, 2, 3]
sample_bins = {1:6, 2: 11, 3:16, 1000: 30}

n_samples = 10000
fig, axes = plt.subplots(3, 1, figsize=(10, 4.5))

# Different sample sizes
for i, n in enumerate(sample_sizes):
    sample_means = []
    for _ in range(n_samples):
        sample = roll_dice(n)
        sample_means.append(np.mean(sample))
    
    axes[i].hist(sample_means, bins=sample_bins[n], density=True, alpha=0.7, edgecolor='white', color='#4C72B0', label=f'Sample Mean (n={n})')
    axes[i].set_xlabel('')
    axes[i].set_xlim(-0.5,7.5)
    axes[i].set_yticks([])
    axes[i].legend()
    axes[i].set_ylabel('')

sns.despine(left=True, bottom=False, right=True, top=True, offset=0, trim=True)

plt.tight_layout()
plt.savefig('i/c_06.png')


#| fig-align: center
import numpy as np
import matplotlib.pyplot as plt
import seaborn as sns
from scipy import stats


# Dice roll simulation (uniform distribution from 1-6)
def roll_dice(n_rolls):
    return np.random.randint(1, 7, size=n_rolls)

# Set up parameters
sample_sizes = [1, 2, 3]
sample_bins = {1:6, 2: 11, 3:16, 1000: 30}

n_samples = 10000
fig, axes = plt.subplots(3, 1, figsize=(10, 4.5))

# Different sample sizes
for i, n in enumerate(sample_sizes):
    sample_means = []
    for _ in range(n_samples):
        sample = roll_dice(n)
        sample_means.append(np.mean(sample))
    
    axes[i].hist(sample_means, bins=sample_bins[n], density=True, alpha=0.7, edgecolor='white', color='#4C72B0', label=f'Sample Mean (n={n})')
    axes[i].set_xlabel('')
    axes[i].set_xlim(-0.5,7.5)
    axes[i].set_yticks([])
    axes[i].legend()
    axes[i].set_ylabel('')
    
    # Add a normal curve to demonstrate CLT
    if n >= 3:
        x = np.linspace(min(sample_means), max(sample_means), 100)
        y = stats.norm.pdf(x, 3.5, np.sqrt(35/12/n))
        axes[i].plot(x, y, 'r--', linewidth=2)

sns.despine(left=True, bottom=False, right=True, top=True, offset=0, trim=True)

plt.tight_layout()
plt.savefig('i/c_07.png')


import numpy as np
import matplotlib.pyplot as plt
import seaborn as sns
from scipy import stats

np.random.seed(123)
n_samples = 5
sample_size = 30

# Generate 5 samples of 2 die rolls each
samples = [np.random.randint(1, 7, sample_size) for _ in range(n_samples)]
means = [np.mean(s) for s in samples]

plt.figure(figsize=(11, 3))
for i, s in enumerate(samples):
    plt.subplot(1, n_samples, i+1)
    plt.hist(s, bins=np.arange(0.5, 7.5, 1), alpha=0.7, color='#4C72B0', edgecolor='white')
    plt.axvline(x=means[i], color='red', linestyle='--')
    plt.title(f'x̄ = {means[i]:.1f}')
    plt.yticks([])
    plt.ylim(0,12)
    plt.xticks([1, 6])
    plt.xlim(-0.5, 7.5)
    plt.xlabel('Die Value', fontsize=16)

sns.despine(left=True, bottom=False, right=True, top=True, offset=0, trim=True)
plt.tight_layout()
plt.savefig('i/c_08.png')


#| fig-align: center
import numpy as np
import matplotlib.pyplot as plt
import seaborn as sns
from scipy import stats


# Dice roll simulation (uniform distribution from 1-6)
def roll_dice(n_rolls):
    return np.random.randint(1, 7, size=n_rolls)

# Set up parameters
sample_sizes = [1, 3, 30]
sample_bins = {1:6, 2: 11, 3:16, 30:np.linspace(1, 6, 31)}

n_samples = 10000
fig, axes = plt.subplots(3, 1, figsize=(10, 4.5))

# Different sample sizes
for i, n in enumerate(sample_sizes):
    sample_means = []
    for _ in range(n_samples):
        sample = roll_dice(n)
        sample_means.append(np.mean(sample))
    
    axes[i].hist(sample_means, bins=sample_bins[n], density=True, alpha=0.7, edgecolor='white', color='#4C72B0', label=f'Sample Mean (n={n})')
    axes[i].set_xlabel('')
    axes[i].set_xlim(-0.5,7.5)
    axes[i].set_yticks([])
    axes[i].legend()
    axes[i].set_ylabel('')
    
    # Add a normal curve to demonstrate CLT
    if n >= 3:
        x = np.linspace(min(sample_means), max(sample_means), 100)
        y = stats.norm.pdf(x, 3.5, np.sqrt(35/12/n))
        axes[i].plot(x, y, 'r--', linewidth=2)

sns.despine(left=True, bottom=False, right=True, top=True, offset=0, trim=True)

plt.tight_layout()
plt.savefig('i/c_09.png')


#| fig-align: center
import numpy as np
import matplotlib.pyplot as plt
import seaborn as sns
from scipy import stats


# Dice roll simulation (uniform distribution from 1-6)
def roll_dice(n_rolls):
    return np.random.randint(1, 7, size=n_rolls)

# Set up parameters
sample_sizes = [1, 3, 30, 1000]
sample_bins = {1:6, 2: 11, 3:16, 30:np.linspace(1, 6, 31),1000: np.linspace(3, 4, 41)}

n_samples = 10000
fig, axes = plt.subplots(4, 1, figsize=(10, 5))

# Different sample sizes
for i, n in enumerate(sample_sizes):
    sample_means = []
    for _ in range(n_samples):
        sample = roll_dice(n)
        sample_means.append(np.mean(sample))
    
    axes[i].hist(sample_means, bins=sample_bins[n], density=True, alpha=0.7, edgecolor='white', color='#4C72B0', label=f'Sample Mean (n={n})')
    axes[i].set_xlabel('')
    axes[i].set_xlim(-0.5,7.5)
    axes[i].set_yticks([])
    axes[i].legend()
    axes[i].set_ylabel('')
    
    # Add a normal curve to demonstrate CLT
    if n >= 3:
        x = np.linspace(min(sample_means), max(sample_means), 100)
        y = stats.norm.pdf(x, 3.5, np.sqrt(35/12/n))
        axes[i].plot(x, y, 'r--', linewidth=2)

sns.despine(left=True, bottom=False, right=True, top=True, offset=0, trim=True)

plt.tight_layout()
plt.savefig('i/c_10.png')





# Homework Dataset
"""
data = {
    'location': ['A', 'A', 'A', 'A', 'A', 'A', 'A', 'A', 'A', 'A', 'A', 'A', 'A', 'A', 'A', 
                 'B', 'B', 'B', 'B', 'B', 'B', 'B', 'B', 'B', 'B', 'B', 'B', 'B', 'B', 'B'],
    'wait_time': [9.8, 13.2, 10.5, 14.7, 11.3, 8.9, 12.1, 16.5, 10.2, 12.8, 15.3, 11.9, 10.7, 13.5, 9.2,
                 12.3, 16.9, 13.8, 18.2, 14.7, 12.4, 17.3, 19.8, 15.2, 13.9, 16.5, 20.1, 14.8, 17.6, 13.5]
}
df = pd.DataFrame(data)
df.to_csv('data/sample2.csv')
"""


sample_A = np.random.exponential(scale=6.0, size=1000)
sample_B = np.random.exponential(scale=10.0, size=1000)
sample = np.concatenate([sample_A, sample_B])
sample = pd.DataFrame(sample, columns=['wait_times'])
sample['Location'] = ['A'] * 1000 + ['B'] * 1000
sample.to_csv('data/sample2.csv')
