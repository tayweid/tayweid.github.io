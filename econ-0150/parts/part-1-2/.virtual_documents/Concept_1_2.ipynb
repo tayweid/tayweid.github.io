


# Imports
import pandas as pd
import matplotlib.pyplot as plt
import seaborn as sns
import numpy as np

# Update Matplotlib parameters
plt.rcParams.update({
    'font.family': 'serif',              # Set the font family
    'font.serif': ['Times New Roman'],   # Use a specific serif font
    'font.size': 16,                     # Set the general font size
    'axes.titlesize': 16,                # Set the font size of the title
    'axes.labelsize': 16,                # Set the font size of axis labels
    'font.style': 'italic',              # Set the font style to italic
    'figure.dpi': 400   
})
category_color_pal = sns.color_palette("hls", 8)#sns.color_palette("husl", 8)
continuous_color_pal = sns.color_palette("rocket_r", as_cmap=True)


# Clean Raw Data
starbucks_raw = pd.read_csv('data/Starbucks_Customer_Profiles_All.csv', index_col=0)

# Regular People
starbucks_full = starbucks_raw[starbucks_raw['age'] != 118]
starbucks_full.to_csv('data/Starbucks_Customer_Profiles.csv')

# High Income
starbucks_high = starbucks_full[starbucks_full.income < 40_000]
starbucks_high.to_csv('data/Starbucks_Customer_Profiles_40k.csv')





# Load Data
starbucks = pd.read_csv('data/Starbucks_Customer_Profiles.csv')
starbucks = starbucks[0:800]

bins = [15, 24, 34, 40, 56, 65, 75, 85, 95, 110]
labels = ['15-24', '25-34', '35-39', '40-55', '55-64', '65-74', '75-84', '85-94', '95+']
starbucks['Age Group'] = pd.cut(starbucks['age'], bins=bins, labels=labels, right=False)

# Figure
plt.figure(figsize=(10, 4))
sns.histplot(data=starbucks, x='Age Group', color='skyblue', edgecolor='black', stat='count', alpha=1)


plt.xlabel('Age')
plt.ylabel('')
plt.title('Starbucks Customers by Age Group')

plt.yticks([])
plt.grid(False)
sns.despine(left=True, right=True, top=True, bottom=True)
plt.tight_layout()

plt.savefig('i/i_01.png')


# Load Data
starbucks = pd.read_csv('data/Starbucks_Customer_Profiles.csv')
starbucks = starbucks[0:800]

# Figure
plt.figure(figsize=(10, 4))
bins = [15, 24, 34, 40, 56, 65, 75, 85, 95, 110]
plt.hist(starbucks['age'], bins=bins, color='skyblue', edgecolor='black')
plt.xlabel('Age')
plt.xticks(bins)
plt.title('Starbucks Customers by Age Group')

plt.yticks([])
plt.grid(False)
sns.despine(left=True, right=True, top=True, bottom=True)
plt.tight_layout()

plt.savefig('i/i_02.png')


# Load Data
starbucks = pd.read_csv('data/Starbucks_Customer_Profiles.csv')
starbucks = starbucks[0:800]

# Figure
plt.figure(figsize=(10, 4))
bins = np.arange(10, 111, 10)
plt.hist(starbucks['age'], bins=bins, color='skyblue', edgecolor='black')
plt.xlabel('Age')
plt.xticks(bins)
plt.title('Starbucks Customers by Age Group')

plt.yticks([])
plt.grid(False)
sns.despine(left=True, right=True, top=True, bottom=True)
plt.tight_layout()

plt.savefig('i/i_03.png')


# Load Data
starbucks = pd.read_csv('data/Starbucks_Customer_Profiles.csv')
starbucks = starbucks[0:800]

# Figure
plt.figure(figsize=(10, 4))
bins = np.arange(10, 111, 5)
plt.hist(starbucks['age'], bins=bins, color='skyblue', edgecolor='black')
plt.xlabel('Age')
plt.xticks(bins)
plt.title('Starbucks Customers by Age Group')

plt.yticks([])
plt.grid(False)
sns.despine(left=True, right=True, top=True, bottom=True)
plt.tight_layout()

plt.savefig('i/i_04.png')


# Load Data
starbucks = pd.read_csv('data/Starbucks_Customer_Profiles.csv')
starbucks = starbucks[0:800]

# Figure
plt.figure(figsize=(10, 4))
bins = np.arange(10, 111, 1)
n, _, patches = plt.hist(starbucks['age'], bins=bins, 
                           color='skyblue', edgecolor='black')

# Highlight specific bins (e.g., ages 44 and 45)
# The bin index corresponds to (age - 14) since bins start at 14
highlight_ages = [44, 45]
for age in highlight_ages:
    bin_index = age - 14  # Calculate bin index
    if bin_index < len(patches):
        patches[bin_index].set_facecolor('red')
        
plt.xlabel('Age')
plt.xticks([44,45], rotation=90)
plt.title('Starbucks Customers by Age Group')

plt.yticks([])
plt.grid(False)
sns.despine(left=True, right=True, top=True, bottom=True)
plt.tight_layout()

plt.savefig('i/i_05.png')


# Load Data
starbucks = pd.read_csv('data/Starbucks_Customer_Profiles.csv')

# Figure
plt.figure(figsize=(10, 4))
bins = np.arange(10, 111, 1)
n, _, patches = plt.hist(starbucks['age'], bins=bins, 
                           color='skyblue', edgecolor='black')

# Highlight specific bins (e.g., ages 44 and 45)
# The bin index corresponds to (age - 14) since bins start at 14
highlight_ages = [44, 45]
for age in highlight_ages:
    bin_index = age - 14  # Calculate bin index
    if bin_index < len(patches):
        patches[bin_index].set_facecolor('red')
        
plt.xlabel('Age')
plt.xticks([44,45], rotation=90)
plt.title('Starbucks Customers by Age Group')

plt.yticks([])
plt.grid(False)
sns.despine(left=True, right=True, top=True)
plt.tight_layout()

plt.savefig('i/i_06.png')


# Load Data
starbucks = pd.read_csv('data/Starbucks_Customer_Profiles.csv')
starbucks = starbucks[0:400]

# Figure
plt.figure(figsize=(10, 3))
bins = np.arange(10, 111, 1)
n, _, patches = plt.hist(starbucks['age'], bins=bins, 
                           color='skyblue', edgecolor='black')

plt.xlabel('')
plt.xticks(np.arange(20, 110, 10))
plt.title('')

plt.yticks([])
plt.grid(False)
sns.despine(left=True, right=True, top=True)
plt.tight_layout()

plt.savefig('i/i_05_alt.png')


# Load Data
starbucks = pd.read_csv('data/Starbucks_Customer_Profiles.csv')

# Figure
plt.figure(figsize=(10, 4))
bins = np.arange(10, 111, 2)
n, _, patches = plt.hist(starbucks['age'], bins=bins, 
                           color='skyblue', edgecolor='black')

# Highlight specific bins (e.g., ages 44 and 45)
# With bin width 2, both ages 44 and 45 will be in the same bin
highlight_ages = [44, 46]
highlighted_bins = set()  # Use set to avoid highlighting the same bin twice

for age in highlight_ages:
    bin_index = (age - 14) // 2  # Calculate bin index for width 2
    if bin_index < len(patches):
        highlighted_bins.add(bin_index)

# Highlight the bins
for bin_index in highlighted_bins:
    patches[bin_index].set_facecolor('red')
        
plt.xlabel('Age')
plt.xticks([44, 46], rotation=90)  # Updated x-ticks to show bin edges
plt.title('Starbucks Customers by Age Group')

plt.yticks([])
plt.grid(False)
sns.despine(left=True, right=True, top=True, bottom=True)
plt.tight_layout()

plt.savefig('i/i_07.png')





coffee = pd.read_csv('data/Coffee_Consumption/Coffee_importers_consumption.csv')
population = pd.read_csv('data/Population_By_Country/population.csv')
population.rename(columns={'Country Name':'Country', 'Country Code': 'Code'}, inplace=True)
pre_cap = coffee.merge(population, on='Code', how='inner')
years = ['1990', '1991', '1992', '1993', '1994', '1995', '1996',
       '1997', '1998', '1999', '2000', '2001', '2002', '2003', '2004',
       '2005', '2006', '2007', '2008', '2009', '2010', '2011', '2012',
       '2013', '2014', '2015', '2016', '2017', '2018', '2019']
percap = pd.DataFrame(pre_cap['Code'].values, columns=['Code'])
for year in years:
    percap[year] = pre_cap[year+'_x']/pre_cap[year+'_y']
percap = percap[percap['Code'] != 'BEL']
y_loc=0.5
percap['jitter'] = [y_loc-0.1] * len(percap) + np.random.rand(len(percap))*0.2

percap.to_csv('data/Coffee_Per_Cap.csv')


# Load Data
percap = pd.read_csv('data/Coffee_Per_Cap.csv', index_col=0)

# Figure
plt.figure(figsize=(10, 4))

bin_edges = np.arange(0, 14, 1)
plt.hist(percap['1999'], bins=bin_edges, edgecolor='black', label = '1999', alpha=1/2)

plt.title('Coffee Importing Countries (1999)')
plt.ylabel('')
plt.xlabel('Coffee Consumption (1kg per capita)')
plt.xlim(0,14)

plt.yticks([])
plt.grid(False)
sns.despine(left=True, right=True, top=True)
plt.tight_layout()

plt.savefig('i/i_08.png')





# Save Exercise Data
percap = pd.read_csv('data/Coffee_Per_Cap.csv', index_col=0)
percap['Coffee_2019'] = percap['2019']
percap[['Code','Coffee_2019']].to_csv('data/Coffee_Per_Cap_2019.csv')



# Load Data
percap = pd.read_csv('data/Coffee_Per_Cap.csv', index_col=0)

# Figure
plt.figure(figsize=(10, 4))

sns.boxplot(x=percap['1999'], color='lightgrey', whis=(0, 100))
plt.title('Coffee Importing Countries (1999)')
plt.xlabel('Coffee Consumption (1kg per capita)')
plt.xlim(0,14)

plt.yticks([])
plt.ylim([-2/3,2/3])
plt.grid(False)
sns.despine(left=True, right=True, top=True)
plt.tight_layout()

plt.savefig('i/i_09.png')


# Load Data
percap = pd.read_csv('data/Coffee_Per_Cap.csv', index_col=0)

# Figure
plt.figure(figsize=(10, 4))
sns.boxplot(x=percap['1999'], color='lightgrey', whis=(0, 100))
sns.stripplot(x=percap['1999'], color='red', size=10, alpha=0.3, 
              edgecolor='red', linewidth=1)

# Styling
plt.title('Coffee Importing Countries (1999)')
plt.xlabel('Coffee Consumption (1kg per capita)')
plt.xlim(0,14)

plt.yticks([])
plt.ylim([-2/3,2/3])
plt.grid(False)
sns.despine(left=True, right=True, top=True)
plt.tight_layout()

plt.savefig('i/i_10.png')


# Load Data
percap = pd.read_csv('data/Coffee_Per_Cap.csv', index_col=0)

# Figure
plt.figure(figsize=(10, 4))
sns.boxplot(x=percap['1999'], color='lightgrey', whis=(0, 100))
sns.stripplot(x=percap['1999'], color='white', size=10, alpha=0.3, 
              edgecolor='black', linewidth=1)

# Annotations
quantile_names = ['Min', 'Q1', 'Median', 'Q3', 'Max']
quantiles = percap['1999'].quantile([0, 0.25, 0.5, 0.75, 1.0]).tolist()
for q_name, value in zip(quantile_names, quantiles):
    plt.annotate(q_name, (value, 0), textcoords="offset points", xytext=(0,70), va='bottom', ha='center', zorder=2, color='red')

# Styling
plt.title('Coffee Importing Countries (1999)')
plt.xlabel('Coffee Consumption (1kg per capita)')
plt.xlim(0,14)

plt.yticks([])
plt.ylim([-2/3,2/3])
plt.grid(False)
sns.despine(left=True, right=True, top=True)
plt.tight_layout()

plt.savefig('i/i_11.png')


# Load Data
percap = pd.read_csv('data/Coffee_Per_Cap.csv', index_col=0)

# Figure
plt.figure(figsize=(10, 4))
sns.boxplot(x=percap['1999'], color='lightgrey', whis=(0, 100))
sns.stripplot(x=percap['1999'], color='red', size=10, alpha=0.3, 
              edgecolor='red', linewidth=1)

# Styling
plt.title('Coffee Importing Countries (1999)')
plt.xlabel('Coffee Consumption (1kg per capita)')
plt.xlim(0,14)

plt.yticks([])
plt.ylim([-2/3,2/3])
plt.grid(False)
sns.despine(left=True, right=True, top=True)
plt.tight_layout()

plt.savefig('i/i_12.png')


# Load Data
percap = pd.read_csv('data/Coffee_Per_Cap.csv', index_col=0)

# Filter
filter = (percap['1999'] >= 8)

# Figure
plt.figure(figsize=(10, 4))
sns.boxplot(x=percap['1999'], color='lightgrey', whis=(0, 100))
subcap = percap[~filter]
sns.stripplot(x=subcap['1999'], color='white', size=10, alpha=0.3, 
              edgecolor='black', linewidth=1)

# Annotation
subcap = percap[filter]
sns.stripplot(x=subcap['1999'], color='red', size=15, alpha=1, 
              edgecolor='black', linewidth=1)

# Styling
plt.title('Coffee Importing Countries (1999)')
plt.xlabel('Coffee Consumption (1kg per capita)')
plt.xlim(0,14)

plt.yticks([])
plt.ylim([-2/3,2/3])
plt.grid(False)
sns.despine(left=True, right=True, top=True)
plt.tight_layout()

plt.savefig('i/i_13.png')


# Load Data
percap = pd.read_csv('data/Coffee_Per_Cap.csv', index_col=0)

# Figure
plt.figure(figsize=(10, 4))
sns.boxplot(x=percap['1999'], color='lightgrey', whis=(0, 100))
sns.stripplot(x=percap['1999'], color='red', size=10, alpha=0.3, 
              edgecolor='red', linewidth=1)

# Styling
plt.title('Coffee Importing Countries (1999)')
plt.xlabel('Coffee Consumption (1kg per capita)')
plt.xlim(0,14)

plt.yticks([])
plt.ylim([-2/3,2/3])
plt.grid(False)
sns.despine(left=True, right=True, top=True)
plt.tight_layout()

plt.savefig('i/i_14.png')


# Load Data
percap = pd.read_csv('data/Coffee_Per_Cap.csv', index_col=0)

# Filter
filter = (percap['1999'] == percap['1999'].max())

# Figure
plt.figure(figsize=(10, 4))
sns.boxplot(x=percap['1999'], color='lightgrey', whis=(0, 100))

subcap = percap[~filter]
sns.stripplot(x=subcap['1999'], color='white', size=10, alpha=0.3, 
              edgecolor='black', linewidth=1)

# Annotation
subcap = percap[filter]
sns.stripplot(x=subcap['1999'], color='red', size=15, alpha=1, 
              edgecolor='black', linewidth=1)

max_val = subcap['1999'].max()
max_val_name = subcap.Code.iloc[0]
plt.annotate(max_val_name, (max_val, 0), textcoords="offset points", xytext=(0,70), va='bottom', ha='center', color='red', zorder=2)

# Styling
plt.title('Coffee Importing Countries (1999)')
plt.xlabel('Coffee Consumption (1kg per capita)')
plt.xlim(0,14)

plt.yticks([])
plt.ylim([-2/3,2/3])
plt.grid(False)
sns.despine(left=True, right=True, top=True)
plt.tight_layout()

plt.savefig('i/i_15.png')


# Load Data
percap = pd.read_csv('data/Coffee_Per_Cap.csv', index_col=0)

# Filter
filter = (percap['1999'] == percap['1999'].min())

# Figure
plt.figure(figsize=(10, 4))
sns.boxplot(x=percap['1999'], color='lightgrey', whis=(0, 100))

subcap = percap[~filter]
sns.stripplot(x=subcap['1999'], color='white', size=10, alpha=0.3, 
              edgecolor='black', linewidth=1)

# Annotation
subcap = percap[filter]
sns.stripplot(x=subcap['1999'], color='red', size=15, alpha=1, 
              edgecolor='black', linewidth=1)

max_val = subcap['1999'].min()
max_val_name = subcap.Code.iloc[0]
plt.annotate(max_val_name, (max_val, 0), textcoords="offset points", xytext=(0,70), va='bottom', ha='center', color='red', zorder=2)

# Styling
plt.title('Coffee Importing Countries (1999)')
plt.xlabel('Coffee Consumption (1kg per capita)')
plt.xlim(0,14)

plt.yticks([])
plt.ylim([-2/3,2/3])
plt.grid(False)
sns.despine(left=True, right=True, top=True)
plt.tight_layout()

plt.savefig('i/i_16.png')


# Load Data
percap = pd.read_csv('data/Coffee_Per_Cap.csv', index_col=0)

# Filter
filter = (percap['1999'] == percap['1999'].median())

# Figure
plt.figure(figsize=(10, 4))
sns.boxplot(x=percap['1999'], color='lightgrey', whis=(0, 100))

subcap = percap[~filter]
sns.stripplot(x=subcap['1999'], color='white', size=10, alpha=0.3, 
              edgecolor='black', linewidth=1)

# Annotation
subcap = percap[filter]
sns.stripplot(x=subcap['1999'], color='red', size=15, alpha=1, 
              edgecolor='black', linewidth=1)

max_val = subcap['1999'].median()
max_val_name = subcap.Code.iloc[0]
plt.annotate(max_val_name, (max_val, 0), textcoords="offset points", xytext=(0,70), va='bottom', ha='center', color='red', zorder=2)

# Styling
plt.title('Coffee Importing Countries (1999)')
plt.xlabel('Coffee Consumption (1kg per capita)')
plt.xlim(0,14)

plt.yticks([])
plt.ylim([-2/3,2/3])
plt.grid(False)
sns.despine(left=True, right=True, top=True)
plt.tight_layout()

plt.savefig('i/i_17.png')


# Load Data
percap = pd.read_csv('data/Coffee_Per_Cap.csv', index_col=0)

# Filter
filter = (percap['1999'] == percap['1999'].quantile(0.25))

# Figure
plt.figure(figsize=(10, 4))
sns.boxplot(x=percap['1999'], color='lightgrey', whis=(0, 100))

subcap = percap[~filter]
sns.stripplot(x=subcap['1999'], color='white', size=10, alpha=0.3, 
              edgecolor='black', linewidth=1)

# Annotation
subcap = percap[filter]
sns.stripplot(x=subcap['1999'], color='red', size=15, alpha=1, 
              edgecolor='black', linewidth=1)

max_val = subcap['1999'].quantile(0.25)
max_val_name = subcap.Code.iloc[0]
plt.annotate(max_val_name, (max_val, 0), textcoords="offset points", xytext=(0,70), va='bottom', ha='center', color='red', zorder=2)

# Styling
plt.title('Coffee Importing Countries (1999)')
plt.xlabel('Coffee Consumption (1kg per capita)')
plt.xlim(0,14)

plt.yticks([])
plt.ylim([-2/3,2/3])
plt.grid(False)
sns.despine(left=True, right=True, top=True)
plt.tight_layout()

plt.savefig('i/i_18.png')


# Load Data
percap = pd.read_csv('data/Coffee_Per_Cap.csv', index_col=0)

# Filter
filter = (percap['1999'] == percap['1999'].quantile(0.75))

# Figure
plt.figure(figsize=(10, 4))
sns.boxplot(x=percap['1999'], color='lightgrey', whis=(0, 100))

subcap = percap[~filter]
sns.stripplot(x=subcap['1999'], color='white', size=10, alpha=0.3, 
              edgecolor='black', linewidth=1)

# Annotation
subcap = percap[filter]
sns.stripplot(x=subcap['1999'], color='red', size=15, alpha=1, 
              edgecolor='black', linewidth=1)

max_val = subcap['1999'].quantile(0.75)
max_val_name = subcap.Code.iloc[0]
plt.annotate(max_val_name, (max_val, 0), textcoords="offset points", xytext=(0,70), va='bottom', ha='center', color='red', zorder=2)

# Styling
plt.title('Coffee Importing Countries (1999)')
plt.xlabel('Coffee Consumption (1kg per capita)')
plt.xlim(0,14)

plt.yticks([])
plt.ylim([-2/3,2/3])
plt.grid(False)
sns.despine(left=True, right=True, top=True)
plt.tight_layout()

plt.savefig('i/i_19.png')


# Load Data
percap = pd.read_csv('data/Coffee_Per_Cap.csv', index_col=0)
quantiles = [percap['1999'].quantiles()

# Filter
filter = (percap['1999'] == percap['1999'].quantile(0.75))

# Figure
plt.figure(figsize=(10, 4))
sns.boxplot(x=percap['1999'], color='lightgrey', whis=(0, 100))

subcap = percap[~filter]
sns.stripplot(x=subcap['1999'], color='white', size=10, alpha=0.3, 
              edgecolor='black', linewidth=1)

# Annotation
subcap = percap[filter]
sns.stripplot(x=subcap['1999'], color='red', size=15, alpha=1, 
              edgecolor='black', linewidth=1)

max_val = subcap['1999'].quantile(0.75)
max_val_name = subcap.Code.iloc[0]

for i,row in percap_max.iterrows():
    value = row['1999']
    max_val_name = row.Code
    plt.annotate(max_val_name, (value, 0), textcoords="offset points", xytext=(0,70), va='bottom', ha='center', zorder=2, color='red')

# Styling
plt.title('Coffee Importing Countries (1999)')
plt.xlabel('Coffee Consumption (1kg per capita)')
plt.xlim(0,14)

plt.yticks([])
plt.ylim([-2/3,2/3])
plt.grid(False)
sns.despine(left=True, right=True, top=True)
plt.tight_layout()

plt.savefig('i/i_20.png')
