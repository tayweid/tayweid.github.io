


# Imports
import pandas as pd
import matplotlib.pyplot as plt
import seaborn as sns

# File Path
file_path = 'https://tayweid.github.io/econ-0150/parts/part-1-4/data/'




















# Load Data
data = pd.read_csv(file_path + 'working_north_america.csv', index_col=0)



