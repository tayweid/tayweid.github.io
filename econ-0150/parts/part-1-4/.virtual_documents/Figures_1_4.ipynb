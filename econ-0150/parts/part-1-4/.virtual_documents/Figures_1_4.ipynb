


# Imports
import pandas as pd
import matplotlib.pyplot as plt
import seaborn as sns
import numpy as np

plt.rcParams.update({
    'font.family': 'serif',              # Set the font family
    'font.serif': ['Times New Roman'],   # Use a specific serif font
    'font.size': 16,                     # Set the general font size
    'axes.titlesize': 20,                # Set the font size of the title
    'axes.labelsize': 16,                # Set the font size of axis labels
    'font.style': 'italic',              # Set the font style to italic
    'figure.dpi': 400   
})

category_color_pal = sns.color_palette("hls", 8)#sns.color_palette("husl", 8)
continuous_color_pal = sns.color_palette("rocket_r", as_cmap=True)


sales = pd.read_csv('data/Coffee_Sales_Reciepts_raw.csv')

def time_to_hour(time_str):
    """ Convert 'HH:MM:SS' to hour. """
    h, m, s = map(int, time_str.split(':'))
    return h
sales['Hours'] = sales.transaction_time.apply(time_to_hour)

def rename_shop(name):
    shop_name_dict = {3:'Shop A', 5:'Shop B', 8:'Shop C'}
    return shop_name_dict[name]
sales['Shop'] = sales['sales_outlet_id'].apply(rename_shop)

# Remove late day transations from Shop C for a better example
sales = sales[~( (sales.Shop == 'Shop C') & (sales.Hours > 15) )]

# Simplify dataset for example
sales = sales[['staff_id', 'customer_id', 'product_id', 'quantity', 'unit_price', 'Hours', 'Shop']]

sales.to_csv('data/Coffee_Sales_Reciepts.csv')


sales = pd.read_csv('data/Coffee_Sales_Reciepts.csv', index_col=0)
large_sales = sales[sales.quantity > 1]
large_sales.to_csv('data/Coffee_Sales_Reciepts_Large.csv')





# Load Dataset
sales = pd.read_csv('data/Coffee_Sales_Reciepts.csv')

# Figure
plt.figure(figsize=(10, 4))
ax = sns.countplot(data=sales, x='Shop', hue='Shop', palette=category_color_pal[:3], edgecolor='black', legend=False)
for bar in ax.containers:
    ax.bar_label(bar)

# Styling
plt.ylabel('')
plt.xlabel('')
plt.title('Transactions by Shop')
sns.despine(top=True, right=True, bottom=True)
plt.tight_layout()

plt.savefig('i/i_01.png')


# Load Dataset
sales = pd.read_csv('data/Coffee_Sales_Reciepts.csv')

# Figure
plt.figure(figsize=(10, 4))
sns.histplot(data=sales, x='Hours', bins=range(0,24,1), edgecolor='black')

# Styling
plt.ylabel('')
plt.yticks([])
plt.xlabel('Hour of the Day')
plt.title('Transactions by Shop')
sns.despine(top=True, right=True, left=True)
plt.tight_layout()

# Save Figure
plt.savefig('i/i_02.png')


# Load Dataset
sales = pd.read_csv('data/Coffee_Sales_Reciepts.csv')

# Figure
plt.figure(figsize=(10, 4))
sns.histplot(data=sales, x='Hours', hue='Shop', palette=category_color_pal[:3], alpha=0.3, bins=range(0,24,1), edgecolor='black')

# Styling
plt.ylabel('')
plt.yticks([])
plt.xlabel('Hour of the Day')
plt.title('Transactions by Shop')
sns.despine(top=True, right=True, left=True)
plt.tight_layout()

# Save Figure
plt.savefig('i/i_03.png')


# Load Dataset
sales = pd.read_csv('data/Coffee_Sales_Reciepts.csv')

# Create hourly counts by shop
hourly_counts = sales.groupby(['Shop', 'Hours']).size().reset_index(name='Count')

# Figure
plt.figure(figsize=(10, 4))
sns.lineplot(data=hourly_counts, x='Hours', y='Count', hue='Shop', 
             palette=category_color_pal[:3], linewidth=1, marker='o', markersize=8)

# Styling
plt.ylabel('')
plt.yticks([])
plt.xlim(0,24)
plt.xlabel('Hour of the Day')
plt.title('Transactions by Shop')
sns.despine(top=True, right=True, left=True)
plt.tight_layout()

# Save Figure
plt.savefig('i/i_04.png')





data = pd.read_csv('data/working.csv')


data.head()


# Load Dataset
working = pd.read_csv('data/working.csv')
working = working[working['Entity'].isin(['South Korea', 'United States', 'Norway'])]

# Figure
plt.figure(figsize=(10, 4))
ax = sns.lineplot(working, x='Year', y='Average annual working hours per worker', hue='Entity', 
             palette=category_color_pal[:3], linewidth=2, legend=False)

# Get colors from the plot lines
line_colors = [line.get_color() for line in ax.get_lines()]

# Get the order of entities (seaborn orders them alphabetically by default)
entities = sorted(working['Entity'].unique())  # ['Norway', 'South Korea', 'United States']

# Create a color mapping
color_map = dict(zip(entities, line_colors))

# Add annotations with matching colors
plt.text(1985, 1400, 'Norway', fontsize=16, ha='center', color=color_map['Norway'])
plt.text(1985, 1900, 'United States', fontsize=16, ha='center', color=color_map['United States'])
plt.text(1985, 3000, 'South Korea', fontsize=16, ha='center', color=color_map['South Korea'])


# Styling
plt.ylabel('')
plt.ylabel('Hours Worked')
plt.xlabel('')
plt.xlim(1955, 2015)
plt.title('Average Annual Hours Worked by Country')
plt.tight_layout()

# Save Figure
plt.savefig('i/hw_01.png')


# Load Dataset
working = pd.read_csv('data/working.csv')
working = working[working['Entity'].isin(['Mexico', 'United States', 'Canada'])]
working.to_csv('data/working_north_america.csv')
