{
 "cells": [
  {
   "cell_type": "markdown",
   "metadata": {
    "id": "13x-_nNXoWvY"
   },
   "source": [
    "# Homework 1.7"
   ]
  },
  {
   "cell_type": "code",
   "execution_count": null,
   "metadata": {
    "id": "_KVc7I5q79B_"
   },
   "outputs": [],
   "source": [
    "# Imports\n",
    "import pandas as pd"
   ]
  },
  {
   "cell_type": "code",
   "execution_count": null,
   "metadata": {
    "id": "pVbQuJPA77gR"
   },
   "outputs": [],
   "source": [
    "# Load Data\n",
    "url = 'https://tayweid.github.io/econ-0150/hw/hw-1-7/HW_1_7_Marriage_Rates.csv'\n",
    "data = pd.read_csv(url)\n",
    "data.rename(columns={'Crude marriage rate (per 1,000 inhabitants)':'Marriage Rate'}, inplace=True)\n",
    "data.head()"
   ]
  },
  {
   "cell_type": "markdown",
   "metadata": {
    "id": "-7kEagQpocL_"
   },
   "source": [
    "#### Question 1"
   ]
  },
  {
   "cell_type": "code",
   "execution_count": null,
   "metadata": {
    "id": "PC4bfUNQogMS"
   },
   "outputs": [],
   "source": [
    "code = pd.read_csv('Data/Country_Code_Continents.csv')\n",
    "code.rename(columns={'ISO (3)':'Code'}, inplace=True)\n",
    "code.Continent.unique()"
   ]
  },
  {
   "cell_type": "code",
   "execution_count": null,
   "metadata": {
    "id": "lhzazCotoiOM"
   },
   "outputs": [],
   "source": [
    "country_rates.Continent.values[0]"
   ]
  },
  {
   "cell_type": "code",
   "execution_count": null,
   "metadata": {
    "id": "02Ra0b_roknG"
   },
   "outputs": [],
   "source": [
    "rates = pd.merge(code, rate, on='Code')[['Continent', 'Country', 'Year', 'Marriage Rate']]\n",
    "rates.Continent.unique()\n",
    "\n",
    "rate_list = []\n",
    "for country in rates.Country.unique():\n",
    "    country_rates = rates[rates.Country == country]\n",
    "    recent_year = country_rates.Year.max()\n",
    "    if recent_year > 1900:\n",
    "        african_countries = ['Algeria', 'Angola',\n",
    "               'Djibouti', 'Egypt', 'Equatorial Guinea', 'Ethiopia',\n",
    "               'Equatorial Guinea', 'Mozambique',\n",
    "               'Sao Tome and Principe', 'Guinea-Bissau', 'Equatorial Guinea']\n",
    "        if country_rates.Continent.values[0] != 'Africa' or country in african_countries:\n",
    "            rate_list.append(country_rates[country_rates.Year == recent_year])\n",
    "recent_rate = pd.concat(rate_list)\n",
    "\n",
    "#recent_rate = recent_rate[recent_rate.Country.isin(african_countries)]\n",
    "#recent_rate = recent_rate.sample(int(len(recent_rate)/3))\n",
    "recent_rate.Continent.unique()\n",
    "recent_rate[['Continent', 'Country', 'Marriage Rate']].to_csv('Data/Marriage_Rates.csv')"
   ]
  },
  {
   "cell_type": "code",
   "execution_count": null,
   "metadata": {
    "id": "765ZV8-qomy6"
   },
   "outputs": [],
   "source": [
    "recent_rate[(recent_rate.Continent == 'Africa')]"
   ]
  },
  {
   "cell_type": "code",
   "execution_count": null,
   "metadata": {
    "id": "hutVohqvopan"
   },
   "outputs": [],
   "source": [
    "recent_rate[(recent_rate.Continent == 'Africa') & (recent_rate['Marriage Rate'] < 2)]"
   ]
  },
  {
   "cell_type": "code",
   "execution_count": null,
   "metadata": {
    "id": "sl5RI3qboqx3"
   },
   "outputs": [],
   "source": [
    "recent_rate[(recent_rate['Marriage Rate'] > 20) | (recent_rate['Marriage Rate'] < 1)]"
   ]
  },
  {
   "cell_type": "code",
   "execution_count": null,
   "metadata": {
    "id": "I7EbQrHmorjL"
   },
   "outputs": [],
   "source": [
    "recent_rate[(recent_rate.Continent == 'Oceania') & (recent_rate['Marriage Rate'] > 10)]"
   ]
  },
  {
   "cell_type": "markdown",
   "metadata": {
    "id": "_-ey7qjboy5Y"
   },
   "source": [
    "#### Question 2"
   ]
  }
 ],
 "metadata": {
  "colab": {
   "authorship_tag": "ABX9TyO0jZB9qdEn4sRCydvEJY8f",
   "provenance": []
  },
  "kernelspec": {
   "display_name": "Python 3 (ipykernel)",
   "language": "python",
   "name": "python3"
  },
  "language_info": {
   "codemirror_mode": {
    "name": "ipython",
    "version": 3
   },
   "file_extension": ".py",
   "mimetype": "text/x-python",
   "name": "python",
   "nbconvert_exporter": "python",
   "pygments_lexer": "ipython3",
   "version": "3.11.8"
  }
 },
 "nbformat": 4,
 "nbformat_minor": 4
}
