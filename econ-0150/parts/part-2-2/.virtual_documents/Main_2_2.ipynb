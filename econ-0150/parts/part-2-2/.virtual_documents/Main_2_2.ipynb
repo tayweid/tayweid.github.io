


# Imports
import pandas as pd
import matplotlib.pyplot as plt
import seaborn as sns
import numpy as np

plt.rcParams.update({
    'font.family': 'serif',              # Set the font family
    'font.serif': ['Times New Roman'],   # Use a specific serif font
    'font.size': 16,                     # Set the general font size
    'axes.titlesize': 20,                # Set the font size of the title
    'axes.labelsize': 16,                # Set the font size of axis labels
    'font.style': 'italic',              # Set the font style to italic
    'figure.dpi': 400   
})

category_color_pal = sns.color_palette("hls", 8)#sns.color_palette("husl", 8)
continuous_color_pal = sns.color_palette("rocket_r", as_cmap=True)





cpi = pd.read_csv('data/CPI_raw.csv')

cpi.Year = cpi.Year.astype(int)
cpi = cpi[cpi.Year >= 1970]
cpi['I'] = cpi['Annual Percent Change (rate of inflation)'].str.replace('%', '').astype(float)/100
cpi['cpi'] = cpi['Annual Average CPI(-U)'].astype(float)

""" 1970's Dollar """

# To find out how much a price in Year 1 would be in Year 2 dollars:
# Year 2 Price = Year 1 Price x (Year 2 CPI/Year 1 CPI)

price_base = 1
values = []
i_base = cpi['cpi'].values[0]
for i in cpi['cpi'].values:
    price = price_base * (i/i_base)
    values.append(price)
cpi['base'] = values

""" Today's Dollar """

# To find out how much a price in Year 1 would be in Year 2 dollars:
# Year 2 Price = Year 1 Price x (Year 2 CPI/Year 1 CPI)

price_base = 1
values = []
i_base = cpi['cpi'].values[-1]
for i in cpi['cpi'].values:
    price = price_base * (i/i_base)
    values.append(price)
cpi['today'] = values

cpi.to_csv('data/CPI.csv')


data = pd.read_csv('data/Daily_Coffee_Prices.csv', index_col=0)
data['date_column'] = pd.to_datetime(data['date'], format='%m/%d/%y')
data['year'] = data['date_column'].dt.year
data = data[(data['year'] < 2023)]

cpi = pd.read_csv('data/CPI.csv')

today_list = []
cpi_list = []
for i,row in data.iterrows():
    cpi_year = cpi[cpi.Year == row.year]
    year = row.year
    today_list.append(cpi_year.today.iloc[0])
    cpi_list.append(cpi_year.cpi.iloc[0])
    
data['today'] = today_list
data['cpi'] = cpi_list
data.to_csv('data/Coffee_Prices_CPI.csv')


data = pd.read_csv('data/Coffee_Prices.csv')
data = data.rename(columns={' value': 'price'})

data['date'] = pd.to_datetime(data['date'], format='%m/%d/%y')
data['date'] = data['date'].dt.to_period('M')

monthly_avg = data.groupby('date')['price'].mean().reset_index()

monthly_avg.to_csv('data/Monthly_Coffee_Prices.csv')


data = pd.read_csv('data/Coffee_Prices.csv')
data = data.rename(columns={' value': 'price'})

data.to_csv('data/Daily_Coffee_Prices.csv')





import matplotlib.dates as mdates

# Load Dataset
data = pd.read_csv('data/Daily_Coffee_Prices.csv', index_col=0)
data['date'] = pd.to_datetime(data['date'], format='%m/%d/%y')
data = data[(data['date'].dt.year < 2023)]

# Figure
plt.figure(figsize=(10, 4))
sns.lineplot(data, x='date', y='price')

# Styling
plt.title('Coffee Prices between 1974 and 2022')
plt.xlabel('')
plt.ylabel('Price')
plt.yticks(np.arange(0,4+1,1))

ax = plt.gca()
ax.xaxis.set_major_formatter(mdates.DateFormatter('%Y'))
years_to_show = range(1970,2030,5)
tick_dates = pd.to_datetime([f'{year}-01-01' for year in years_to_show])
ax.set_xticks(tick_dates)
ax.set_xticklabels(years_to_show)  # Just show the year number

sns.despine(trim=True)
plt.tight_layout()

# Save Figure
plt.savefig('i/i_cpi_01.png')


import matplotlib.dates as mdates

# Load Dataset
data = pd.read_csv('data/Daily_Coffee_Prices.csv', index_col=0)
data['date'] = pd.to_datetime(data['date'], format='%m/%d/%y')
data = data[(data['date'].dt.year < 2023)]

cpi = pd.read_csv('data/CPI.csv')
cpi['date'] = pd.to_datetime(cpi['Year'], format='%Y')

# Figure
plt.figure(figsize=(10, 4))
sns.lineplot(data, x='date', y='price')
sns.lineplot(cpi, x='date', y='base', label='Value of a 1970 Dollar')

# Styling
plt.title('Coffee Prices and CPI between 1974 and 2022')
plt.xlabel('')
plt.ylabel('Price')
plt.yticks(np.arange(0,8+1,1))

ax = plt.gca()
ax.xaxis.set_major_formatter(mdates.DateFormatter('%Y'))
years_to_show = range(1970,2030,5)
tick_dates = pd.to_datetime([f'{year}-01-01' for year in years_to_show])
ax.set_xticks(tick_dates)
ax.set_xticklabels(years_to_show)  # Just show the year number

sns.despine(trim=True)
plt.tight_layout()
plt.legend()

# Save Figure
plt.savefig('i/i_cpi_02.png')


import matplotlib.dates as mdates

# Load Dataset
data = pd.read_csv('data/Coffee_Prices_CPI.csv')
data['date'] = pd.to_datetime(data['date'], format='%m/%d/%y')
data['adjusted_price'] = data['price'] / data['today']

# Figure
plt.figure(figsize=(10, 4))
sns.lineplot(data, x='date', y='adjusted_price')

# Styling
plt.title('Coffee Prices between 1974 and 2022')
plt.xlabel('')
plt.ylabel('Price')
plt.yticks(np.arange(0,20+1,2))

ax = plt.gca()
ax.xaxis.set_major_formatter(mdates.DateFormatter('%Y'))
years_to_show = range(1970,2030,5)
tick_dates = pd.to_datetime([f'{year}-01-01' for year in years_to_show])
ax.set_xticks(tick_dates)
ax.set_xticklabels(years_to_show)

sns.despine(trim=True, offset=True)
plt.tight_layout()

# Save Figure
plt.savefig('i/i_cpi_03.png')





# Load Dataste
hours = pd.read_csv('data/Starbucks_Location_Hours.csv', index_col=0)

# Figure
plt.figure(figsize=(10, 4))
sns.histplot(data=hours, x='open', bins=range(-10, 41, 1), edgecolor='black')

# Styling
plt.xlabel('Hour of the Day')
plt.xlim(-10,40)
plt.ylabel('')
plt.yticks([])
plt.title('Opening Time')
sns.despine(top=True, right=True, bottom=True, left=True)
plt.tight_layout()

# Save Figure
plt.savefig('i/i_01.png')


# Load Dataset
hours = pd.read_csv('data/Starbucks_Location_Hours.csv', index_col=0)
hours['open_GMT'] = hours['open'] - hours['timezone']

# Figure
plt.figure(figsize=(10, 4))
sns.histplot(data=hours, x='open_GMT', bins=range(-10, 41, 1), edgecolor='black')

# Styling
plt.xlabel('Hour of the Day (GMT)')
plt.xlim(-10,40)
plt.ylabel('')
plt.yticks([])
plt.title('Opening Time (GMT)')
sns.despine(top=True, right=True, bottom=True, left=True)
plt.tight_layout()

# Save Figure
plt.savefig('i/i_02.png')


# Load Dataset
hours = pd.read_csv('data/Starbucks_Location_Hours.csv', index_col=0)
hours['open_GMT'] = hours['open'] - hours['timezone']

hours['open_GMT_norm'] = hours['open_GMT'].mod(24)

# Figure
plt.figure(figsize=(10, 4))
sns.histplot(data=hours, x='open_GMT_norm', bins=range(-10, 41, 1), edgecolor='black')

# Styling
plt.xlabel('Hour of the Day (GMT)')
plt.xlim(-10,40)
plt.ylabel('')
plt.yticks([])
plt.title('Opening Time (GMT)')
sns.despine(top=True, right=True, bottom=True, left=True)
plt.tight_layout()

# Save Figure
plt.savefig('i/i_03.png')


# Load Dataset
hours = pd.read_csv('data/Starbucks_Location_Hours.csv', index_col=0)

# Figure
plt.figure(figsize=(10, 4))
sns.histplot(data=hours, x='close', bins=range(-10, 41, 1), edgecolor='black')

# Styling
plt.xlabel('Hour of the Day')
plt.xlim(-10,40)
plt.ylabel('')
plt.yticks([])
plt.title('Closing Time')
sns.despine(top=True, right=True, bottom=True, left=True)
plt.tight_layout()

# Save Figure
plt.savefig('i/i_04.png')


# Load Dataset
hours = pd.read_csv('data/Starbucks_Location_Hours.csv', index_col=0)
hours['close_GMT'] = hours['close'] - hours['timezone']

# Figure
plt.figure(figsize=(10, 4))
sns.histplot(data=hours, x='close_GMT', bins=range(-10, 41, 1), edgecolor='black')

# Styling
plt.xlabel('Hour of the Day (GMT)')
plt.xlim(-10,40)
plt.ylabel('')
plt.yticks([])
plt.title('Closing Time (GMT)')
sns.despine(top=True, right=True, bottom=True, left=True)
plt.tight_layout()

# Save Figure
plt.savefig('i/i_05.png')


# Load Dataset
hours = pd.read_csv('data/Starbucks_Location_Hours.csv', index_col=0)
hours['close_GMT'] = hours['close'] - hours['timezone']

hours['close_GMT_norm'] = hours['close_GMT'].mod(24)

# Figure
plt.figure(figsize=(10, 4))
sns.histplot(data=hours, x='close_GMT_norm', bins=range(-10, 41, 1), edgecolor='black')

# Styling
plt.xlabel('Hour of the Day (GMT)')
plt.xlim(-10,40)
plt.ylabel('')
plt.yticks([])
plt.title('Closing Time (GMT)')
sns.despine(top=True, right=True, bottom=True, left=True)
plt.tight_layout()

# Save Figure
plt.savefig('i/i_06.png')


# Load Dataset
hours = pd.read_csv('data/Starbucks_Location_Hours.csv', index_col=0)
hours['close_GMT'] = hours['close'] - hours['timezone']

hours['close_GMT_norm'] = hours['close_GMT'].mod(24)

# Figure
plt.figure(figsize=(10, 4))
sns.histplot(data=hours, x='close_GMT_norm', bins=range(0, 25, 1), edgecolor='black')

# Styling
plt.xlabel('Hour of the Day (GMT)')
plt.xlim(0,24)
plt.ylabel('')
plt.yticks([])
plt.title('Closing Time (GMT)')
sns.despine(top=True, right=True, bottom=True, left=True)
plt.tight_layout()

# Save Figure
plt.savefig('i/i_06_norm.png')


# Load Dataset
hours = pd.read_csv('data/Starbucks_Location_Hours.csv', index_col=0)
hours['open_GMT'] = hours['open'] - hours['timezone']
hours['close_GMT'] = hours['close'] - hours['timezone']

hours['open_GMT_norm'] = hours['open_GMT'].mod(24)
hours['close_GMT_norm'] = hours['close_GMT'].mod(24)

# Figure
plt.figure(figsize=(10, 4))
sns.histplot(data=hours, x='open_GMT_norm', bins=range(0, 25, 1), edgecolor='black', label='Stores Opening', alpha=0.5)
sns.histplot(data=hours, x='close_GMT_norm', bins=range(0, 25, 1), edgecolor='black', label='Stores Closing', alpha=0.5)

# Styling
plt.xlabel('Hour of the Day (GMT)')
plt.xlim(0,24)
plt.ylabel('')
plt.yticks([])
plt.title('Opening and Closing Time (GMT)')
sns.despine(top=True, right=True, bottom=True, left=True)
plt.tight_layout()
plt.legend()

# Save Figure
plt.savefig('i/i_07.png')


# Load Dataset
hours = pd.read_csv('data/Starbucks_Location_Hours.csv', index_col=0)
hours['open_GMT'] = hours['open'] - hours['timezone']
hours['close_GMT'] = hours['close'] - hours['timezone']

hours['open_GMT_norm'] = hours['open_GMT'].mod(24)
hours['close_GMT_norm'] = hours['close_GMT'].mod(24)

# Figure
plt.figure(figsize=(10, 4))
sns.histplot(data=hours, x='open_GMT_norm', bins=range(0, 25, 1), edgecolor='black', label='Stores Opened', alpha=0.5, cumulative=True)
sns.histplot(data=hours, x='close_GMT_norm', bins=range(0, 25, 1), edgecolor='black', label='Stores Closed', alpha=0.5, cumulative=True)

# Styling
plt.xlabel('Hour of the Day (GMT)')
plt.xlim(0,24)
plt.ylabel('')
plt.yticks([])
plt.title('Opening and Closing Time (GMT)')
sns.despine(top=True, right=True, bottom=True, left=True)
plt.tight_layout()
plt.legend(loc=4)

# Save Figure
plt.savefig('i/i_08.png')


# Load Dataset
hours = pd.read_csv('data/Starbucks_Location_Hours.csv', index_col=0)
hours['open_GMT'] = hours['open'] - hours['timezone']
hours['close_GMT'] = hours['close'] - hours['timezone']

hours['open_GMT_norm'] = hours['open_GMT'].mod(24)
hours['close_GMT_norm'] = hours['close_GMT'].mod(24)

# Figure
plt.figure(figsize=(10, 4))
sns.histplot(data=hours, x='open_GMT_norm', bins=range(0, 25, 1), edgecolor='black', label='Stores Opened', alpha=0.5, cumulative=True)
sns.histplot(data=hours, x='close_GMT_norm', bins=range(0, 25, 1), edgecolor='black', label='Stores Closed', alpha=0.5, cumulative=True)

plt.annotate('How can there be more closings than openings?', xy=(5, 5000), xytext=(2, 20000),
            fontsize=16, color='red', ha='left')

plt.annotate(
    '',
    xy=(5.5, 7000),
    xytext=(3, 18000),
    arrowprops=dict(facecolor='black', shrink=0.0, width=1)
)

# Styling
plt.xlabel('Hour of the Day (GMT)')
plt.xlim(0,24)
plt.ylabel('')
plt.yticks([])
plt.title('Opening and Closing Time (GMT)')
sns.despine(top=True, bottom=True)
plt.tight_layout()
plt.legend(loc=4)

# Save Figure
plt.savefig('i/i_08_annotation.png')


# Load Dataset
hours = pd.read_csv('data/Starbucks_Location_Hours.csv', index_col=0)
hours['open_GMT'] = hours['open'] - hours['timezone']
hours['close_GMT'] = hours['close'] - hours['timezone']

hours['open_GMT'] = hours['open_GMT'].mod(24)
hours['close_GMT'] = hours['close_GMT'].mod(24)

# Calculate cumulative counts
bins = np.array(range(0, 25, 1)) - 0.5
open_counts, _ = np.histogram(hours['open_GMT'], bins=bins)
close_counts, _ = np.histogram(hours['close_GMT'], bins=bins)

cumulative = np.cumsum(open_counts) - np.cumsum(close_counts)

# Figure
plt.figure(figsize=(10, 4))
plt.bar(bins[1:], cumulative, label='Cumulative Opened', width=1, edgecolor='black', color='purple')

# Styling
plt.xlabel('Hour of the Day (GMT)')
plt.ylabel('')
plt.yticks([0], ['?'])
plt.title('Change in Starbucks Open Globally')
plt.xlim(0, 23)
sns.despine(top=True, right=False)
plt.tight_layout()

# Save Figure
plt.savefig('i/i_09.png')


# Load Dataset
hours = pd.read_csv('data/Starbucks_Location_Hours.csv', index_col=0)
hours['open_GMT'] = hours['open'] - hours['timezone']
hours['close_GMT'] = hours['close'] - hours['timezone']

hours['open_GMT'] = hours['open_GMT'].mod(24)
hours['close_GMT'] = hours['close_GMT'].mod(24)

# Calculate cumulative counts
bins = np.array(range(0, 25, 1)) - 0.5
open_counts, _ = np.histogram(hours['open_GMT'], bins=bins)
close_counts, _ = np.histogram(hours['close_GMT'], bins=bins)

cumulative = np.cumsum(open_counts) - np.cumsum(close_counts)

# Figure
plt.figure(figsize=(10, 4))
plt.bar(bins[1:], cumulative, width=1, edgecolor='black', color='purple', alpha=0.1)
plt.plot(bins[1:-1], cumulative[:-1], label='Change in Opened', color='purple')

# Styling
plt.xlabel('Hour of the Day (GMT)')
plt.ylabel('')
plt.yticks([0], ['?'])
plt.title('Change in Starbucks Open Globally')
plt.xlim(0, 23)
sns.despine(top=True, right=False)
plt.tight_layout()

# Save Figure
plt.savefig('i/i_10.png')


# Load Dataset
hours = pd.read_csv('data/Starbucks_Location_Hours.csv', index_col=0)
hours['open_GMT'] = hours['open'] - hours['timezone']
hours['close_GMT'] = hours['close'] - hours['timezone']

hours['open_GMT'] = hours['open_GMT'].mod(24)
hours['close_GMT'] = hours['close_GMT'].mod(24)

# Calculate cumulative counts
count_open_after_close = len(hours[hours['open_GMT'] >= hours['close_GMT']])

bins = np.array(range(0, 25, 1)) - 0.5
open_counts, _ = np.histogram(hours['open_GMT'], bins=bins)
close_counts, _ = np.histogram(hours['close_GMT'], bins=bins)

cumulative = np.cumsum(open_counts) - np.cumsum(close_counts) + count_open_after_close

# Figure
plt.figure(figsize=(10, 4))
plt.bar(bins[1:], cumulative, width=1, edgecolor='black', color='purple', alpha=0.1)
plt.plot(bins[1:-1], cumulative[:-1], label='Cumulative Opened', color='purple')

# Styling
plt.xlabel('Hour of the Day (GMT)')
plt.ylabel('')
plt.yticks([count_open_after_close])
plt.title('Total Starbucks Open Globally')
plt.xlim(0, 23)
sns.despine(top=True, right=False)
plt.tight_layout()

# Save Figure
plt.savefig('i/i_11.png')





prices = pd.read_csv('data/Monthly_Coffee_Prices.csv', index_col=0)
prices = prices.rename(columns={'price':'current_price'})
prices['previous_price'] = prices['current_price'].shift()
prices = prices.dropna()
prices.to_csv('data/Monthly_Coffee_Prices_Lag.csv')
