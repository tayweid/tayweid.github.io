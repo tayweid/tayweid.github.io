


# Imports
import pandas as pd
import matplotlib.pyplot as plt
import seaborn as sns

# File Path
file_path = 'https://tayweid.github.io/econ-0150/parts/part-1-5/data/'
































# Imports
import pandas as pd
import matplotlib.pyplot as plt
import seaborn as sns


# Load Data
url = 'https://tayweid.github.io/econ-0150/hw/hw-2-1/data/coffee_prod_agr.csv'
data = pd.read_csv(url)














#
