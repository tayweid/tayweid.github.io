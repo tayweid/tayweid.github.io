import numpy as np
import matplotlib.pyplot as plt
from scipy.stats import norm
from Weidman_Figures import *








fig,ax = Weid_Fig(rows=1, widths=3, height=4, dpi=400)

sample_size = 100
number_of_samples = 10000
mu, sigma = 0, 1 # we know the mean and standard deviation
normal_sample_means = normal_distribution(sample_size, number_of_samples, mu=mu, sigma=sigma)

ax.hist(normal_sample_means, bins=50, density=True, alpha=0.6, color='royalblue')

x = np.linspace(min(normal_sample_means), max(normal_sample_means), 100)

mu_sample = np.mean(normal_sample_means)
sigma_sample = np.std(normal_sample_means)
plt.plot(x, norm.pdf(x, mu_sample, sigma_sample), 'r', label='Normal Distribution')

plt.title(f'Normal Distribution | Sample Mean | Sample Size = {sample_size}')
plt.xlabel('Sample Mean')
plt.ylabel('Density')
plt.legend()
plt.show()






fig,ax = Weid_Fig(rows=1, widths=3, height=4, dpi=400)

sample_size = 1000
number_of_samples = 10000
unknown_sample_means = unknown_distribution(sample_size, number_of_samples)
pd.DataFrame(unknown_sample_means, columns=['Sample']).to_excel(f"CLT_Simulation_Data/Unknown_Ex1_Sample_Size_{sample_size}.xlsx")
plt.hist(unknown_sample_means, bins=50, density=True, alpha=0.6, color='royalblue')

x = np.linspace(min(unknown_sample_means), max(unknown_sample_means), 100)
mu_sample = np.mean(unknown_sample_means)
sigma_sample = np.std(unknown_sample_means)
plt.plot(x, norm.pdf(x, mu_sample, sigma_sample), 'r', label='Normal Distribution')
plt.legend()

plt.title(f'Unknown Distribution | Sample Mean | Sample Size = {sample_size}')
plt.xlabel('Sample Mean')
plt.ylabel('Density')
plt.show()



fig,ax = Weid_Fig(rows=1, widths=3, height=4, dpi=400)

sample_size = 1000
number_of_samples = 10000
unknown_sample_means = unknown_distribution_alt(sample_size, number_of_samples)
pd.DataFrame(unknown_sample_means, columns=['Sample']).to_excel(f"CLT_Simulation_Data/Unknown_Ex2_Sample_Size_{sample_size}.xlsx")

plt.hist(unknown_sample_means, bins=50, density=True, alpha=0.6, color='royalblue')

x = np.linspace(min(unknown_sample_means), max(unknown_sample_means), 100)
mu_sample = np.mean(unknown_sample_means)
sigma_sample = np.std(unknown_sample_means)
plt.plot(x, norm.pdf(x, mu_sample, sigma_sample), 'r', label='Normal Distribution')
plt.legend()

plt.title(f'Unknown Distribution | Sample Mean | Sample Size = {sample_size}')
plt.xlabel('Sample Mean')
plt.ylabel('Density')
plt.show()


















def unknown_distribution(sample_size, number_of_samples):
    a, b = 0, 1  # Lower and upper bounds
    return [np.mean(np.random.uniform(a, b, sample_size)) for _ in range(number_of_samples)]

def unknown_distribution_alt(sample_size, number_of_samples):
    lambda_exp = 1  # Rate parameter
    return [np.mean(np.random.exponential(1/lambda_exp, sample_size)) for _ in range(number_of_samples)]

def normal_distribution(sample_size, number_of_samples, mu=mu, sigma=sigma):
    return [np.mean(np.random.normal(mu, sigma, sample_size)) for _ in range(number_of_samples)]
