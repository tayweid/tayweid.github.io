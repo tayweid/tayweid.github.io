{
 "cells": [
  {
   "cell_type": "markdown",
   "metadata": {
    "id": "wv9ocKAfPYcr"
   },
   "source": [
    "# Homework 1.6 | Geographic Data\n",
    "\n",
    "*Homework is designed to both test your knowlege and challenge you to apply familiar concepts in new applications. Answer clearly and completely. You are welcomed and encouraged to work in groups so long as your work is your own. Submit your figures and answers to [Gradescope](https://www.gradescope.com).*"
   ]
  },
  {
   "cell_type": "code",
   "execution_count": null,
   "metadata": {
    "id": "L7GIc-t4PYct"
   },
   "outputs": [],
   "source": [
    "# Imports\n",
    "import pandas as pd\n",
    "import matplotlib.pyplot as plt\n",
    "import numpy as np\n",
    "import seaborn as sns\n",
    "\n",
    "# File Path\n",
    "file_path = 'https://tayweid.github.io/econ-0150/parts/part-1-6/data/'"
   ]
  },
  {
   "cell_type": "markdown",
   "metadata": {
    "id": "Jza1ynieQQn-"
   },
   "source": [
    "## Q1. Geography of US Cities"
   ]
  },
  {
   "cell_type": "code",
   "execution_count": null,
   "metadata": {
    "id": "uW98q7BdPZ-T"
   },
   "outputs": [],
   "source": [
    "geo = pd.read_csv(file_path + 'US_Cities.csv', index_col=0)"
   ]
  },
  {
   "cell_type": "markdown",
   "metadata": {
    "id": "zH7v-jJUNJ1u"
   },
   "source": [
    "#### a) Create a map of the US cities in the dataset. *(hint: use `lng` as the x value and `lat` as the y value.)*"
   ]
  },
  {
   "cell_type": "code",
   "execution_count": null,
   "metadata": {
    "id": "BzP7qhsXUR0Z"
   },
   "outputs": [],
   "source": []
  },
  {
   "cell_type": "markdown",
   "metadata": {
    "id": "R46sayIaNace"
   },
   "source": [
    "#### b) Label each city with a different color by timezone. *(hint: use `timezone` as hue.)*"
   ]
  },
  {
   "cell_type": "code",
   "execution_count": null,
   "metadata": {
    "id": "9LIoVvc2UWKh"
   },
   "outputs": [],
   "source": []
  },
  {
   "cell_type": "markdown",
   "metadata": {
    "id": "fma4TUuEQQl3"
   },
   "source": [
    "#### c) Plot US cities with size representing population and color representing average temperature. *(Hint: use `size=population`, with `sizes=(1,200)`, and `hue=avg_temp`.)*"
   ]
  },
  {
   "cell_type": "code",
   "execution_count": null,
   "metadata": {
    "id": "ZAluDV5XP5VE"
   },
   "outputs": [],
   "source": []
  },
  {
   "cell_type": "markdown",
   "metadata": {
    "id": "weGGF5iSPAZO"
   },
   "source": [
    "#### d) Use a scatterplot to visualize whether cities in the 'America/New_York' timezone have lower temperatures at higher latitudes. How would you describe this relationship between latitutde and average city temperature for east coast cities?"
   ]
  },
  {
   "cell_type": "code",
   "execution_count": null,
   "metadata": {
    "id": "7v9KZXsURYma"
   },
   "outputs": [],
   "source": [
    "eastern = pd.read_csv(file_path + 'Eastern_Cities.csv', index_col=0)"
   ]
  }
 ],
 "metadata": {
  "colab": {
   "provenance": []
  },
  "kernelspec": {
   "display_name": "Python 3 (ipykernel)",
   "language": "python",
   "name": "python3"
  },
  "language_info": {
   "codemirror_mode": {
    "name": "ipython",
    "version": 3
   },
   "file_extension": ".py",
   "mimetype": "text/x-python",
   "name": "python",
   "nbconvert_exporter": "python",
   "pygments_lexer": "ipython3",
   "version": "3.12.2"
  }
 },
 "nbformat": 4,
 "nbformat_minor": 4
}
