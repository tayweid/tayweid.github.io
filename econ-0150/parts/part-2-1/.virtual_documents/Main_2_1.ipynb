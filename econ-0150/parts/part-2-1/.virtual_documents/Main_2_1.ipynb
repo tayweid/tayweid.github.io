


# Imports
import pandas as pd
import matplotlib.pyplot as plt
import seaborn as sns
import numpy as np
import matplotlib.gridspec as gridspec

# Update Matplotlib parameters
plt.rcParams.update({
    'font.family': 'serif',              # Set the font family
    'font.serif': ['Times New Roman'],   # Use a specific serif font
    'font.size': 16,                     # Set the general font size
    'axes.titlesize': 20,                # Set the font size of the title
    'axes.labelsize': 16,                # Set the font size of axis labels
    'font.style': 'italic',              # Set the font style to italic
    'figure.dpi': 400   
})
category_color_pal = sns.color_palette("hls", 8)#sns.color_palette("husl", 8)
continuous_color_pal = sns.color_palette("rocket_r", as_cmap=True)








data = pd.read_csv('../part-0/data/Fall_2025_Survey_raw.csv')

# Figure
plt.figure(figsize=(10,4))
sns.histplot(data, y='When is your birthday?')

# Styling
sns.despine(top=True, right=True, trim=True)
plt.xlabel('')
plt.ylabel('')
plt.title('When is your birthday?')

# Save Figure
plt.savefig('i/c_01.png')


data = pd.read_csv('../part-0/data/Fall_2025_Survey_raw.csv').sample(10)

# Figure
plt.figure(figsize=(10,4))
sns.histplot(data, y='When is your birthday?')

# Styling
sns.despine(top=True, right=True, trim=True)
plt.xlabel('')
plt.ylabel('')
plt.title('When is your birthday?')

# Save Figure
plt.savefig('i/c_02.png')


data = pd.read_csv('../part-0/data/Fall_2025_Survey_raw.csv')
data['birthday'] = pd.to_datetime(data['When is your birthday?']).dt.year

# Figure
plt.figure(figsize=(10,4))
sns.histplot(data, x='birthday', bins=range(2001,2010,1))

# Styling
sns.despine(top=True, right=True, trim=True)
plt.xlabel('')
plt.ylabel('')
plt.title('When is your birthday?')

# Save Figure
plt.savefig('i/c_03.png')





data = pd.read_csv('../part-0/data/Fall_2025_Survey_raw.csv').sample(30)

# Figure
plt.figure(figsize=(10,5))
sns.histplot(data, y='Approximately how many miles away from Pittsburgh is your hometown?')

# Styling
sns.despine(top=True, right=True, trim=True)
plt.xlabel('')
plt.ylabel('')
plt.title('How many miles away from Pittsburgh is your hometown?')

# Save Figure
plt.savefig('i/c_04.png')


data = pd.read_csv('../part-0/data/Fall_2025_Survey_raw.csv')
data['distance'] = data['Approximately how many miles away from Pittsburgh is your hometown?'].fillna('').str.split().str[0]
data['distance'] = pd.to_numeric(data['distance'], errors='coerce')

# Figure
plt.figure(figsize=(10,4))
sns.histplot(data, x='distance')

# Styling
sns.despine(top=True, right=True, trim=True)
plt.xlabel('Miles')
plt.ylabel('')
plt.title('How many miles away from Pittsburgh is your hometown?')
plt.tight_layout()

# Save Figure
plt.savefig('i/c_05.png')





data = pd.read_csv('../part-0/data/Fall_2025_Survey_raw.csv')
data['distance'] = data['Approximately how many miles away from Pittsburgh is your hometown?']
data['distance'] = pd.to_numeric(data['distance'], errors='coerce')


data[['distance', 'Approximately how many miles away from Pittsburgh is your hometown?']].head()


subdata = data[~(data['distance']>0)]
subdata[['distance', 'Approximately how many miles away from Pittsburgh is your hometown?']].head()


data = pd.read_csv('../part-0/data/Fall_2025_Survey_raw.csv')
data['distance'] = data['Approximately how many miles away from Pittsburgh is your hometown?']
data['distance'] = data['distance'].fillna('').str.split().str[0]
data['distance'] = pd.to_numeric(data['distance'], errors='coerce')

subdata = data[~(data['distance']>0)]
subdata[['distance', 'Approximately how many miles away from Pittsburgh is your hometown?']].head()


data = data.dropna()
data[['distance', 'Approximately how many miles away from Pittsburgh is your hometown?']].head()


subdata = data[~(data['distance']>0)]
subdata[['distance', 'Approximately how many miles away from Pittsburgh is your hometown?']].head()


data = pd.read_csv('../part-0/data/Fall_2025_Survey_raw.csv')
data['distance'] = data['Approximately how many miles away from Pittsburgh is your hometown?']

replacements = {
    '400-450ish miles ': 400, 
    'live in pittsburgh': 0,
    '176 miles away': 176,
    '0 (it’s Pittsburgh)': 0,
    '350 miles': 350,
    '240 miles': 240,
    '388 miles': 388,
    '17 miles': 17,
    '300 miles': 300,
    '7293 mi': 7293,
    '4 miles ': 4,
    '27 miles': 27,
    '255 (near Philly)': 255,
    '4,000': 4000,
    '650 miles': 650,
    '250 miles': 250,
    '318 mi': 318,
    '300 mi': 300,
    '1000+': 1000,
    '305 miles': 305
}
data['distance'] = data['distance'].replace(replacements)
data['distance'] = pd.to_numeric(data['distance'])





data = pd.read_csv('../part-0/data/Fall_2025_Survey_raw.csv')
data['distance'] = data['Approximately how many miles away from Pittsburgh is your hometown?']

replacements = {
    '400-450ish miles ': 400, 
    'live in pittsburgh': 0,
    '176 miles away': 176,
    '0 (it’s Pittsburgh)': 0,
    '350 miles': 350,
    '240 miles': 240,
    '388 miles': 388,
    '17 miles': 17,
    '300 miles': 300,
    '7293 mi': 7293,
    '4 miles ': 4,
    '27 miles': 27,
    '255 (near Philly)': 255,
    '4,000': 4000,
    '650 miles': 650,
    '250 miles': 250,
    '318 mi': 318,
    '300 mi': 300,
    '1000+': 1000,
    '305 miles': 305
}
data['distance'] = data['distance'].replace(replacements)
data['distance'] = pd.to_numeric(data['distance'])

data['birthday'] = pd.to_datetime(data['When is your birthday?']).dt.year + np.random.normal(-0.5,0.5,len(data))

# Figure (square with whitespace)
fig = plt.figure(figsize=(10, 5))
gs = gridspec.GridSpec(1, 3, figure=fig, width_ratios=[1, 2.4, 1])
fig.add_subplot(gs[0, 1])

sns.scatterplot(data=data, y='birthday', x='distance', ax=ax)

# Styling
ax.set_yticks(range(2001, 2009, 1))
ax.set_ylim(2000.5, 2008.5)
ax.set_ylabel('Birthyear')
ax.set_xlabel('Distance from Pittsburgh')
plt.title('Birthyear and Distance')
plt.grid(linestyle='--', alpha=0.3)
plt.tight_layout()

# Save Figure
plt.savefig('i/c_06.png')



np.random.normal(0,1,100)





prices = pd.read_csv('data/Monthly_Coffee_Prices_All.csv')
prices['year'] = pd.to_datetime(prices['date']).dt.year
prices = prices[prices['year'] > 2005]
prices.to_csv('data/Monthly_Coffee_Prices.csv')


gmt = pd.read_csv('data/Starbucks_Location_Hours_raw.csv', index_col=0)
gmt['olsonTimeZoneId'] = gmt['olsonTimeZoneId'].str.split(':').str[0]
gmt.to_csv('data/Starbucks_Location_Hours_GMT.csv')
