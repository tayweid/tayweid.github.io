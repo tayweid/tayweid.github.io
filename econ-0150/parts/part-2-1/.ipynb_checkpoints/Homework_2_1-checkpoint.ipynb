{
 "cells": [
  {
   "cell_type": "markdown",
   "metadata": {
    "id": "wv9ocKAfPYcr"
   },
   "source": [
    "# Homework 2.1 | Data Cleaning\n",
    "\n",
    "*Homework is designed to both test your knowlege and challenge you to apply familiar concepts to new applications. Answer clearly and completely. You are welcomed and encouraged to work in groups so long as your work is your own. Submit your figures and answers to [Gradescope](https://www.gradescope.com).*"
   ]
  },
  {
   "cell_type": "code",
   "execution_count": null,
   "metadata": {
    "id": "L7GIc-t4PYct"
   },
   "outputs": [],
   "source": [
    "# Imports\n",
    "import pandas as pd\n",
    "import matplotlib.pyplot as plt\n",
    "import numpy as np\n",
    "import seaborn as sns\n",
    "\n",
    "# File Path\n",
    "file_path = 'https://tayweid.github.io/econ-0150/parts/part-2-1/data/'"
   ]
  },
  {
   "cell_type": "markdown",
   "metadata": {
    "id": "18lgKLcwWlvc"
   },
   "source": [
    "## Q1. Handing Missing Values"
   ]
  },
  {
   "cell_type": "markdown",
   "metadata": {
    "id": "M9PqqTDGXA8E"
   },
   "source": [
    "In the dataset 'world_in_data.csv' the `Employment in agriculture (% of total employment)` variable has many missing values. We want a dataset with these missing values removed. After removing the countries with no records in the `Employment in agriculture (% of total employment)` column, how many countries remain in your dataset? *(Hint: Use the `.dropna()` function on the dataset to remove `Nan` values.)*"
   ]
  },
  {
   "cell_type": "code",
   "execution_count": null,
   "metadata": {
    "id": "ChR4WuWsXgt6"
   },
   "outputs": [],
   "source": [
    "ag = pd.read_csv(file_path + 'world_in_data.csv')\n",
    "ag.head()"
   ]
  },
  {
   "cell_type": "code",
   "execution_count": null,
   "metadata": {
    "id": "sY-zf62QgM3o"
   },
   "outputs": [],
   "source": [
    "# Write your code here"
   ]
  },
  {
   "cell_type": "markdown",
   "metadata": {
    "id": "Jza1ynieQQn-"
   },
   "source": [
    "## Q2. Handling Dates and Times"
   ]
  },
  {
   "cell_type": "markdown",
   "metadata": {
    "id": "3SmVcCABTQC2"
   },
   "source": [
    "In the dataset `Monthly_Coffee_Prices.csv` the `date` variable isn't in the right format for our purposes. Construct a `year` variable to create a boxplot (code below). *(Hint: Use `pd.to_datetime()` to convert to a date and `.dt.year` to extract the year.)*"
   ]
  },
  {
   "cell_type": "code",
   "execution_count": null,
   "metadata": {
    "id": "G59J309zTOi6"
   },
   "outputs": [],
   "source": [
    "prices = pd.read_csv(file_path + 'Monthly_Coffee_Prices.csv', index_col=0)\n",
    "prices.head()"
   ]
  },
  {
   "cell_type": "code",
   "execution_count": null,
   "metadata": {
    "id": "hnVQYnN8f5jK"
   },
   "outputs": [],
   "source": [
    "# Write your code here"
   ]
  },
  {
   "cell_type": "code",
   "execution_count": null,
   "metadata": {
    "id": "7nPKejYJPbF9"
   },
   "outputs": [],
   "source": [
    "# Create a Boxplot of your new variable\n",
    "plt.figure(figsize=(10, 5))\n",
    "sns.boxplot(prices, x='price', y='year', whis=(0,100), orient='h')\n",
    "sns.despine(trim=True)\n",
    "plt.ylabel('')\n",
    "plt.xlabel('')\n",
    "plt.title('Boxplot of Coffee Prices')"
   ]
  },
  {
   "cell_type": "markdown",
   "metadata": {
    "id": "9u4xZdMeTpFM"
   },
   "source": [
    "## Q3. Handling Strings and Numerical Values"
   ]
  },
  {
   "cell_type": "markdown",
   "metadata": {
    "id": "GOwawxnTT2uJ"
   },
   "source": [
    "In the dataset `Starbucks_Location_Hours_raw.csv`, use the `olsonTimeZoneId` variable to construct a new variable `GMT`, which contains the GMT time (time of day when it is midnight in Greenwich). *(Hint: Use `.str.replace('GMT','')` to remove text from the start of the strings and `.to_numeric()` to turn the text into numbers.)*"
   ]
  },
  {
   "cell_type": "code",
   "execution_count": null,
   "metadata": {
    "id": "jGKmRTXvVZ18"
   },
   "outputs": [],
   "source": [
    "gmt = pd.read_csv(file_path + 'Starbucks_Location_Hours_GMT.csv', index_col=0)\n",
    "gmt.head()"
   ]
  },
  {
   "cell_type": "code",
   "execution_count": null,
   "metadata": {
    "id": "nKWsEIobgOlg"
   },
   "outputs": [],
   "source": [
    "# Write your code here"
   ]
  },
  {
   "cell_type": "code",
   "execution_count": null,
   "metadata": {
    "id": "VDSQCL5MT6oN"
   },
   "outputs": [],
   "source": [
    "# Create a Histogram of your new variable\n",
    "plt.figure(figsize=(10, 5))\n",
    "sns.histplot(gmt, x='new', bins=range(-10,11,1))\n",
    "plt.xticks(range(-10,11,2))\n",
    "plt.xlabel('GMT')\n",
    "plt.ylabel('')\n",
    "plt.title('Timezones of Starbucks Globally (before / after Greenwich)')\n",
    "sns.despine(trim=True)"
   ]
  }
 ],
 "metadata": {
  "colab": {
   "provenance": []
  },
  "kernelspec": {
   "display_name": "Python 3 (ipykernel)",
   "language": "python",
   "name": "python3"
  },
  "language_info": {
   "codemirror_mode": {
    "name": "ipython",
    "version": 3
   },
   "file_extension": ".py",
   "mimetype": "text/x-python",
   "name": "python",
   "nbconvert_exporter": "python",
   "pygments_lexer": "ipython3",
   "version": "3.12.2"
  }
 },
 "nbformat": 4,
 "nbformat_minor": 4
}
