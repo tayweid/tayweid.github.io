


# Imports
import pandas as pd
import matplotlib.pyplot as plt
import seaborn as sns
import numpy as np

plt.rcParams.update({
    'font.family': 'serif',              # Set the font family
    'font.serif': ['Times New Roman'],   # Use a specific serif font
    'font.size': 16,                     # Set the general font size
    'axes.titlesize': 20,                # Set the font size of the title
    'axes.labelsize': 16,                # Set the font size of axis labels
    'font.style': 'italic',              # Set the font style to italic
    'figure.dpi': 400   
})

category_color_pal = sns.color_palette("hls", 8)#sns.color_palette("husl", 8)
continuous_color_pal = sns.color_palette("rocket_r", as_cmap=True)





data = pd.read_csv('data/Starbucks_Promos_raw.csv')[['Event', 'Revenue', 'Offer ID']]
data['Event'] = data['Event'].replace('offer completed', 'transaction')
data.to_csv('data/Starbucks_Promos.csv')





# Load Data
data = pd.read_csv('data/Starbucks_Promos.csv')

# Group and Aggregate
group_ag = data.groupby("Offer ID")['Event'].count()

# Figure
plt.figure(figsize=(10, 3))
group_ag.plot(kind='barh')

# Style
plt.title('Offers per Offer-Type')
plt.ylabel('')
sns.despine(top=True, right=True)
plt.tight_layout()

# Save Figure
plt.savefig('i/i_01a.png')


# Load Data
data = pd.read_csv('data/Starbucks_Promos.csv')

# Group and Aggregate
group_ag = data.groupby("Event")["Event"].count()

# Figure
plt.figure(figsize=(10, 3))
group_ag.plot(kind='barh')

# Style
plt.title('Events per Event-Type')
plt.ylabel('')
sns.despine(top=True, right=True)
plt.tight_layout()

# Save Figure
plt.savefig('i/i_02a.png')


# Load Data
data = pd.read_csv('data/Starbucks_Promos.csv')

# Group and Aggregate
group_ag = data.groupby('Event')['Revenue'].sum()

# Figure
plt.figure(figsize=(10, 3))
group_ag.plot(kind='barh')

# Style
plt.title('Revenue by Event-Type')
plt.ylabel('')
sns.despine(top=True, right=True)
plt.tight_layout()

# Save Figure
plt.savefig('i/i_03a.png')


# Load Data
data = pd.read_csv('data/Starbucks_Promos.csv')

# Filter
filter_data = data[data["Event"] == "offer"]

# Group and Aggregate
group_ag = filter_data.groupby("Offer ID")["Event"].count()

# Figure
plt.figure(figsize=(10, 3))
group_ag.plot(kind='barh')

# Style
plt.title("'Offers' per Offer-Type")
plt.ylabel('')
sns.despine(top=True, right=True)
plt.tight_layout()

# Save Figure
plt.savefig('i/i_04a.png')


# Load Data
data = pd.read_csv('data/Starbucks_Promos.csv')

# Filter
filter_data = data[data["Event"] == "transaction"]

# Group and Aggregate
group_ag = filter_data.groupby("Offer ID")["Event"].count()

# Figure
plt.figure(figsize=(10, 3))
group_ag.plot(kind='barh')

# Style
plt.title("'Transactions' per Offer-Type")
plt.ylabel('')
sns.despine(top=True, right=True)
plt.tight_layout()

# Save Figure
plt.savefig('i/i_05a.png')


# Load Data
data = pd.read_csv('data/Starbucks_Promos.csv')

# Filter and Group Offers
o_filter_data = data[data["Event"] == "offer"]
o_group_ag = o_filter_data.groupby("Offer ID")["Event"].count()

# Filter and Group Transactions
t_filter_data = data[data["Event"] == "transaction"]
t_group_ag = t_filter_data.groupby("Offer ID")["Event"].count()

# Find Redeption Rate
group_ag = t_group_ag / o_group_ag

# Figure
plt.figure(figsize=(10, 3))
group_ag.plot(kind='barh')

# Style
plt.title("Redemption Rate per Offer-Type")
plt.ylabel('')
sns.despine(top=True, right=True)
plt.tight_layout()

# Save Figure
plt.savefig('i/i_06a.png')


# Load Data
data = pd.read_csv('data/Starbucks_Promos.csv')

# Group and Aggregate
group_ag = data.groupby('Offer ID')['Revenue'].sum()

# Figure
plt.figure(figsize=(10, 3))
group_ag.plot(kind='barh')

# Style
plt.title('Revenue by Offer-Type')
plt.ylabel('')
sns.despine(top=True, right=True)
plt.tight_layout()

# Save Figure
plt.savefig('i/i_07a.png')


# Load Data
data = pd.read_csv('data/Starbucks_Promos.csv')

# Filter
filter_data = data[data["Event"] == "transaction"]

# Group and Aggregate
group_ag = filter_data.groupby("Offer ID")["Revenue"].mean()

# Figure
plt.figure(figsize=(10, 3))
group_ag.plot(kind='barh')

# Style
plt.title('Mean Revenue per Transaction')
plt.ylabel('')
sns.despine(top=True, right=True)
plt.tight_layout()

# Save Figure
plt.savefig('i/i_08a.png')


# Load Data
data = pd.read_csv('data/Starbucks_Promos.csv')

# Filter and Group Offers
o_filter_data = data[data["Event"] == "offer"]
o_group_ag = o_filter_data.groupby("Offer ID")['Revenue'].count()

# Filter and Group Transactions
t_filter_data = data[data["Event"] == "transaction"]
t_group_ag = t_filter_data.groupby("Offer ID")['Revenue'].sum()

# Find Redeption Rate
group_ag = t_group_ag / o_group_ag

# Figure
plt.figure(figsize=(10, 3))
group_ag.plot(kind='barh')

# Style
plt.title('Mean Revenue per Offer-Type')
plt.ylabel('')
sns.despine(top=True, right=True)
plt.tight_layout()

# Save Figure
plt.savefig('i/i_09a.png')
