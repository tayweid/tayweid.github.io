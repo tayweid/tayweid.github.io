








starbucks_raw = pd.read_csv('../Data/Part_1_2_Starbucks_Customer_Profiles_All.csv', index_col=0)
starbucks_full = starbucks_raw[starbucks_raw['age'] != 118]
starbucks_full.to_csv('../Data/Part_1_2_Starbucks_Customer_Profiles.csv')


from Weidman_Figures import *
    
fig, axes = Weid_Fig()

starbucks = pd.read_csv('Data/Part_1_2_Starbucks_Customer_Profiles.csv')
starbucks = starbucks[0:800]

bins = [15, 24, 34, 44, 50, 64, 69, 118]  # Define bin edges
labels = ['15-24', '25-34', '35-44', '45-49', '50-64','65-69','70+']  # Age group labels

starbucks['Age Group'] = pd.cut(starbucks['age'], bins=bins, labels=labels, right=False)

age_group_counts = starbucks['Age Group'].value_counts().sort_index()

plt.bar(age_group_counts.index, age_group_counts.values, color='skyblue', edgecolor='black')
plt.xlabel('Age Groups')
plt.title('Starbucks Customers by Age Group')
plt.tight_layout()
plt.savefig('Figures/Part_1_2_Starbucks_Customers_Age_Uneven.png')


from Weidman_Figures import *
    
fig, axes = Weid_Fig()

starbucks = pd.read_csv('Data/Part_1_2_Starbucks_Customer_Profiles.csv')
starbucks = starbucks[0:800]

bins = [15, 24, 34, 44, 54, 64, 74, 118]
labels = ['15-24', '25-34', '35-44', '45-54', '55-64','65-74','75+']

starbucks['Age Group'] = pd.cut(starbucks['age'], bins=bins, labels=labels, right=False)
age_group_counts = starbucks['Age Group'].value_counts().sort_index()

plt.bar(age_group_counts.index, age_group_counts.values, color='skyblue', edgecolor='black')
plt.xlabel('Age Groups')
plt.title('Starbucks Customers by Age Group')
plt.tight_layout()
plt.savefig('Figures/Part_1_2_Starbucks_Customers_Age_10.png')


from Weidman_Figures import *
    
fig, axes = Weid_Fig()

starbucks = pd.read_csv('Data/Part_1_2_Starbucks_Customer_Profiles.csv')
starbucks = starbucks[0:800]

bins = list(range(15, 90, 5)) +[118]
labels = [f'{i}-{i+4}' for i in range(15, 85, 5)] + ['85+']

starbucks['Age Group'] = pd.cut(starbucks['age'], bins=bins, labels=labels, right=False)
age_group_counts = starbucks['Age Group'].value_counts().sort_index()

plt.bar(age_group_counts.index, age_group_counts.values, color='skyblue', edgecolor='black')
plt.xlabel('Age Groups')
plt.xticks(rotation=45)
plt.title('Starbucks Customers by Age Group')
plt.tight_layout()
plt.savefig('Figures/Part_1_2_Starbucks_Customers_Age_5.png')


from Weidman_Figures import *
    
fig, axes = Weid_Fig()

starbucks = pd.read_csv('Data/Part_1_2_Starbucks_Customer_Profiles.csv')
starbucks = starbucks[0:800]

bins = list(range(15, 100, 1)) +[118]
labels = [f'{i}' for i in range(15, 99, 1)] + ['85+']

starbucks['Age Group'] = pd.cut(starbucks['age'], bins=bins, labels=labels, right=False)
age_group_counts = starbucks['Age Group'].value_counts().sort_index()

plt.bar(age_group_counts.index, age_group_counts.values, color='skyblue', edgecolor='none')
plt.bar(age_group_counts.index[29:31], age_group_counts.values[29:31], color='red', edgecolor='none')

plt.xlabel('Age Groups')
plt.xticks(age_group_counts.index[29:31])
plt.xticks(rotation=-90)
plt.title('Starbucks Customers by Age Group')
plt.tight_layout()
plt.savefig('Figures/Part_1_2_Starbucks_Customers_Age_1.png')


from Weidman_Figures import *
    
fig, axes = Weid_Fig()

starbucks = pd.read_csv('Data/Part_1_2_Starbucks_Customer_Profiles.csv')

bins = list(range(15, 100, 1)) +[118]
labels = [f'{i}' for i in range(15, 99, 1)] + ['85+']

starbucks['Age Group'] = pd.cut(starbucks['age'], bins=bins, labels=labels, right=False)
age_group_counts = starbucks['Age Group'].value_counts().sort_index()

plt.bar(age_group_counts.index, age_group_counts.values, color='skyblue', edgecolor='none')
plt.bar(age_group_counts.index[29:31], age_group_counts.values[29:31], color='red', edgecolor='none')

plt.xlabel('Age Groups')
plt.xticks(age_group_counts.index[29:31])
plt.xticks(rotation=-90)
plt.title('Starbucks Customers by Age Group')
plt.tight_layout()
plt.savefig('Figures/Part_1_2_Starbucks_Customers_Age_Full.png')
