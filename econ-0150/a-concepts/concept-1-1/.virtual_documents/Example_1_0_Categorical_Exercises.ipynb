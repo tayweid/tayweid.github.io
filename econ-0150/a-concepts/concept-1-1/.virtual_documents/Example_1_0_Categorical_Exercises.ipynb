


import pandas as pd
import numpy as np
import matplotlib.pyplot as plt
import statsmodels.api as sm
import sys



from figures import *

file_path = ''





binary_data_path = "binary_categorical_dataset.csv"
binary = pd.read_csv(file_path + binary_data_path)


plt.figure(figsize=(8, 4))
binary_summary.plot(kind='barh', color=['skyblue', 'orange'])
plt.title("Employment Status Distribution")
plt.ylabel("")
plt.xlabel("Count")
plt.grid(axis='x', linestyle='--', alpha=0.7)
plt.tight_layout()
#plt.savefig('Figures/Part_1_1_Binary_Categorical_Exercise')





nominal_data_path = "nominal_categorical_dataset.csv"  # Update this path if necessary
nominal = pd.read_csv(file_path + nominal_data_path)


plt.figure(figsize=(8, 4))
nominal_summary.plot(kind='barh', color=['blue', 'green', 'red', 'purple'])
plt.title("Employment Sector Distribution")
plt.ylabel("")
plt.xlabel("Count")
plt.grid(axis='x', linestyle='--', alpha=0.7)
plt.tight_layout()
#plt.savefig('Figures/Part_1_1_Nominal_Categorical_Exercise')





data_path = "ordinal_categorical_dataset.csv"  # Update this path if necessary
ordinal = pd.read_csv(file_path + data_path)


plt.figure(figsize=(8, 4))
ordinal_summary.plot(kind='barh', color=['purple', 'blue', 'green', 'orange', 'red'])
plt.title("Economic Optimism Distribution")
plt.xlabel("Count")
plt.ylabel('')
plt.grid(axis='x', linestyle='--', alpha=0.7)
plt.tight_layout()
#plt.savefig('Figures/Part_1_1_Ordinal_Categorical_Exercise')
