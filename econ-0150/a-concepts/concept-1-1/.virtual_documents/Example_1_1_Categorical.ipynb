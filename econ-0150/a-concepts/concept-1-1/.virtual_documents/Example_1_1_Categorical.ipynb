








from Weidman_Figures import *

fig,axes = Weid_Fig(widths=[1.6,1], height=4)

coffee_shops = pd.read_csv('Data/Part_1_1_Coffee_Shops.csv')
category_counts = coffee_shops.STATE.value_counts()

axes[0].bar(category_counts.index, category_counts.values, color=category_color_pal, edgecolor='black')

coffee_shops = pd.read_csv('Data/Part_1_1_Coffee_Shops.csv')
category_counts = coffee_shops.STATE.value_counts()

wedges, texts, autotexts = axes[1].pie(
    category_counts.values, 
    labels=category_counts.index, 
    autopct='%1.1f%%',  # Display percentage on each slice
    colors=category_color_pal,  # Use a color map for varied colors
    startangle=90,  # Rotate the start of the pie chart
    wedgeprops={'edgecolor': 'black'},  # Add a border around each slice
)

# Set the font size for the labels and percentages
for text in texts:
    text.set_fontsize(14)  # Set label font size
for autotext in autotexts:
    autotext.set_fontsize(12)  # Set percentage font size

axes[0].set_ylabel('Counts')
fig.tight_layout()

plt.savefig('Figures/Part_1_1_Coffee_Shop_Locations_Bar_Pie.png')


from Weidman_Figures import *

fig,axes = Weid_Fig(widths=[1.6,1], height=4)

coffee_shops = pd.read_csv('Data/Part_1_1_Coffee_Shops.csv')
category_counts = coffee_shops.STATE.value_counts()

axes[0].bar(category_counts.index, category_counts.values, color=category_color_pal, edgecolor='black')

coffee_shops = pd.read_csv('Data/Part_1_1_Coffee_Shops.csv')
category_counts = coffee_shops.STATE.value_counts()

# Define the category you want to compare
target_category = 'CA'

# Separate the target category and combine the rest as 'Others'
target_count = category_counts.get(target_category, 0)
others_count = category_counts.sum() - target_count

# Prepare data for the pie chart
labels = [target_category, '']
sizes = [target_count, others_count]

plt.pie(
    sizes,
    labels=labels,
    autopct='%1.1f%%',
    colors=[category_color_pal[0], 'grey'],
    startangle=90,
    wedgeprops={'edgecolor': 'black'}
)

# Set the font size for the labels and percentages
for text in texts:
    text.set_fontsize(14)  # Set label font size
for autotext in autotexts:
    autotext.set_fontsize(12)  # Set percentage font size

axes[0].set_ylabel('Counts')
fig.tight_layout()

plt.savefig('Figures/Part_1_1_Coffee_Shop_Locations_Bar_Pie_Compare.png')
