


from figures import *



coffee_shops = pd.read_csv('data/Coffee_Shops.csv')
category_counts = coffee_shops.STATE.value_counts().sample(frac=1)


fig, (ax1, ax2) = plt.subplots(1, 2, figsize=(10, 4), gridspec_kw={'width_ratios': [1.5, 1]})

fontsize= 10
plt.rcParams.update({
    'axes.titlesize': fontsize,
    'axes.labelsize': fontsize
})

ax1.barh(category_counts.index, category_counts.values, color=category_color_pal, edgecolor='black')

sns.despine()
ax1.grid(False)

def show_count(pct, allvals):
    absolute = int(round(pct/100.*sum(allvals)))
    return f'{absolute}'
    
wedges, texts, autotexts = ax2.pie(
    category_counts.values, 
    labels=category_counts.index,
    autopct=lambda pct: show_count(pct, category_counts.values),  # Display counts
    colors=category_color_pal,  # Use a color map for varied colors
    startangle=90,  # Rotate the start of the pie chart
    wedgeprops={'edgecolor': 'black'},  # Add a border around each slice
)

plt.savefig('i/i_01.png')


fig, (ax1, ax2) = plt.subplots(1, 2, figsize=(10, 4), gridspec_kw={'width_ratios': [1.5, 1]})
fontsize = 10
plt.rcParams.update({
    'axes.titlesize': fontsize,
    'axes.labelsize': fontsize
})

# Create horizontal bars and store them
bars = ax1.barh(category_counts.index, category_counts.values, color=category_color_pal, edgecolor='black')

# Add count labels at the end of each bar
ax1.bar_label(bars, padding=3)  # padding adds space between bar and text

sns.despine()
ax1.grid(False)

def show_count(pct, allvals):
    absolute = int(round(pct/100.*sum(allvals)))
    return f'{absolute}'
    
wedges, texts, autotexts = ax2.pie(
    category_counts.values, 
    labels=category_counts.index,
    autopct=lambda pct: show_count(pct, category_counts.values),  # Display counts
    colors=category_color_pal,  # Use a color map for varied colors
    startangle=90,  # Rotate the start of the pie chart
    wedgeprops={'edgecolor': 'black'},  # Add a border around each slice
)

plt.savefig('i/i_02.png')


fig, (ax1, ax2) = plt.subplots(1, 2, figsize=(10, 4), gridspec_kw={'width_ratios': [1.5, 1]})
fontsize = 10
plt.rcParams.update({
    'axes.titlesize': fontsize,
    'axes.labelsize': fontsize
})

# Create horizontal bars and store them
bars = ax1.barh(category_counts.index, category_counts.values, color=category_color_pal, edgecolor='black')

# Add count labels at the end of each bar
ax1.bar_label(bars, padding=3)  # padding adds space between bar and text

sns.despine(left=True, bottom=True)
ax1.grid(False)

# Remove x-axis
ax1.set_xticks([])  # Remove x-axis ticks
ax1.set_xlabel('')  # Remove x-axis label if you had one

def show_count(pct, allvals):
    absolute = int(round(pct/100.*sum(allvals)))
    return f'{absolute}'
    
wedges, texts, autotexts = ax2.pie(
    category_counts.values, 
    labels=category_counts.index,
    autopct=lambda pct: show_count(pct, category_counts.values),  # Display counts
    colors=category_color_pal,  # Use a color map for varied colors
    startangle=90,  # Rotate the start of the pie chart
    wedgeprops={'edgecolor': 'black'},  # Add a border around each slice
)

plt.savefig('i/i_03.png')


coffee_shops = pd.read_csv('data/Coffee_Shops.csv')
category_counts = coffee_shops.STATE.value_counts().sample(frac=1)
fig, ax = plt.subplots(1, 1, figsize=(6, 4))
fontsize = 10
plt.rcParams.update({
    'axes.titlesize': fontsize,
    'axes.labelsize': fontsize
})

# Create horizontal bars and store them
bars = ax.barh(category_counts.index, category_counts.values, color=category_color_pal, edgecolor='black')

# Add count labels at the end of each bar
ax.bar_label(bars, padding=3)  # padding adds space between bar and text

sns.despine(left=True, bottom=True)
ax.grid(False)

# Remove x-axis
ax.set_xticks([])  # Remove x-axis ticks
ax.set_xlabel('')  # Remove x-axis label if you had one

plt.savefig('i/i_04.png')


coffee_shops = pd.read_csv('data/Coffee_Shops.csv')
category_counts = coffee_shops.STATE.value_counts()
fig, ax = plt.subplots(1, 1, figsize=(6, 4))
fontsize = 10
plt.rcParams.update({
    'axes.titlesize': fontsize,
    'axes.labelsize': fontsize
})

# Create horizontal bars and store them
bars = ax.barh(category_counts.index, category_counts.values, color=category_color_pal, edgecolor='black')

# Add count labels at the end of each bar
ax.bar_label(bars, padding=3)  # padding adds space between bar and text

sns.despine(left=True, bottom=True)
ax.grid(False)

# Remove x-axis
ax.set_xticks([])  # Remove x-axis ticks
ax.set_xlabel('')  # Remove x-axis label if you had one

plt.savefig('i/i_05.png')


coffee_shops = pd.read_csv('data/Coffee_Shops.csv')
category_counts = coffee_shops.STATE.value_counts()
fig, (ax1, ax2) = plt.subplots(1, 2, figsize=(10, 4), gridspec_kw={'width_ratios': [1.5, 1]})
fontsize = 10
plt.rcParams.update({
    'axes.titlesize': fontsize,
    'axes.labelsize': fontsize
})

# Create horizontal bars and store them (unchanged)
bars = ax1.barh(category_counts.index, category_counts.values, color=category_color_pal, edgecolor='black')
# Add count labels at the end of each bar
ax1.bar_label(bars, padding=3)
sns.despine(left=True, bottom=True)
ax1.grid(False)
# Remove x-axis
ax1.set_xticks([])
ax1.set_xlabel('')

# Create binary categorical variable for California
target_category = 'CA'
# Get California count from the original counts
ca_counts = coffee_shops.STATE.value_counts()  # Get unshuffled counts to ensure CA is included
target_count = ca_counts.get(target_category, 0)
others_count = ca_counts.sum() - target_count

# Prepare binary data for the pie chart
labels = [target_category, 'Other States']
sizes = [target_count, others_count]
colors = [category_color_pal[0], 'lightgrey']  # Use first color for CA, grey for others

wedges, texts, autotexts = ax2.pie(
    sizes, 
    labels=labels,
    autopct='%1.1f%%',  # Show percentages
    colors=colors,
    startangle=90,
    wedgeprops={'edgecolor': 'black'},
)

plt.tight_layout()

plt.savefig('i/i_06.png')


coffee_shops = pd.read_csv('data/Coffee_Shops.csv')
category_counts = coffee_shops.STATE.value_counts()
fig, (ax1, ax2) = plt.subplots(1, 2, figsize=(10, 4), gridspec_kw={'width_ratios': [1.5, 1]})
fontsize = 10
plt.rcParams.update({
    'axes.titlesize': fontsize,
    'axes.labelsize': fontsize
})

# Create horizontal bars and store them (unchanged)
bars = ax1.barh(category_counts.index, category_counts.values, color=category_color_pal, edgecolor='black')
ax1.bar_label(bars, padding=3)
sns.despine(left=True, bottom=True)
ax1.grid(False)
ax1.set_xticks([])
ax1.set_xlabel('')

# Create binary categorical variable for California
target_category = 'CA'
ca_counts = coffee_shops.STATE.value_counts()
target_count = ca_counts.get(target_category, 0)
others_count = ca_counts.sum() - target_count

# Prepare binary data
labels = [target_category, 'Other States']
sizes = [target_count, others_count]
colors = [category_color_pal[0], 'lightgrey']

def show_count(pct, allvals):
    absolute = int(round(pct/100.*sum(allvals)))
    return f'{absolute}'

wedges, texts, autotexts = ax2.pie(
    sizes, 
    labels=labels,
    autopct=lambda pct: show_count(pct, sizes),  # Display counts
    colors=colors,
    startangle=90,
    wedgeprops={'edgecolor': 'black'},
)

plt.tight_layout()

plt.savefig('i/i_07.png')


coffee_shops = pd.read_csv('data/Coffee_Shops.csv')
fig, (ax1, ax2) = plt.subplots(1, 2, figsize=(10, 4), gridspec_kw={'width_ratios': [1, 1.5]})
fontsize = 10
plt.rcParams.update({
    'axes.titlesize': fontsize,
    'axes.labelsize': fontsize
})

# Create binary categorical variable for California
target_category = 'CA'
ca_counts = coffee_shops.STATE.value_counts()
target_count = ca_counts.get(target_category, 0)
others_count = ca_counts.sum() - target_count

# Prepare binary data
labels = [target_category, 'Other States']
sizes = [target_count, others_count]
colors = [category_color_pal[0], 'lightgrey']

# Create horizontal bars for binary data
bars = ax1.barh(labels, sizes, color=colors, edgecolor='black')
ax1.bar_label(bars, padding=3)
sns.despine(left=True, bottom=True)
ax1.grid(False)
ax1.set_xticks([])
ax1.set_xlabel('')

# Create pie chart with same binary data
def show_count(pct, allvals):
    absolute = int(round(pct/100.*sum(allvals)))
    return f'{absolute}'

wedges, texts, autotexts = ax2.pie(
    sizes, 
    labels=labels,
    autopct=lambda pct: show_count(pct, sizes),  # Display counts
    colors=colors,
    startangle=90,
    wedgeprops={'edgecolor': 'black'},
)

plt.tight_layout()

plt.savefig('i/i_08.png')


coffee_shops = pd.read_csv('data/Coffee_Shops.csv')
fig, (ax1, ax2) = plt.subplots(1, 2, figsize=(10, 4), gridspec_kw={'width_ratios': [1, 1]})
fontsize = 10
plt.rcParams.update({
    'axes.titlesize': fontsize,
    'axes.labelsize': fontsize
})

# Create binary categorical variable for California
target_category = 'CA'
ca_counts = coffee_shops.STATE.value_counts()
target_count = ca_counts.get(target_category, 0)
others_count = ca_counts.sum() - target_count

# Prepare binary data
labels = [f'California\n({target_count:,} shops)', f'Other States\n({others_count:,} shops)']
sizes = [target_count, others_count]
colors = [category_color_pal[0], 'lightgrey']

# Create horizontal bars for binary data
bars = ax1.barh([target_category, 'Other States'], sizes, color=colors, edgecolor='black')
ax1.bar_label(bars, padding=3)
sns.despine(left=True, bottom=True)
ax1.grid(False)
ax1.set_xticks([])
ax1.set_xlabel('')

# Create pie chart with percentages
wedges, texts, autotexts = ax2.pie(
    sizes, 
    labels=['CA', 'Other States'],
    autopct='%1.1f%%',  # Show percentages
    colors=colors,
    startangle=90,
    wedgeprops={'edgecolor': 'black'},
)

plt.tight_layout()

plt.savefig('i/i_09.png')








fig,axes = Weid_Fig(widths=[1.6,1], height=4)

coffee_shops = pd.read_csv('Data/Part_1_1_Coffee_Shops.csv')
category_counts = coffee_shops.STATE.value_counts()

axes[0].bar(category_counts.index, category_counts.values, color=category_color_pal, edgecolor='black')

coffee_shops = pd.read_csv('Data/Part_1_1_Coffee_Shops.csv')
category_counts = coffee_shops.STATE.value_counts()

wedges, texts, autotexts = axes[1].pie(
    category_counts.values, 
    labels=category_counts.index, 
    autopct='%1.1f%%',  # Display percentage on each slice
    colors=category_color_pal,  # Use a color map for varied colors
    startangle=90,  # Rotate the start of the pie chart
    wedgeprops={'edgecolor': 'black'},  # Add a border around each slice
)

# Set the font size for the labels and percentages
for text in texts:
    text.set_fontsize(14)  # Set label font size
for autotext in autotexts:
    autotext.set_fontsize(12)  # Set percentage font size

axes[0].set_ylabel('Counts')
fig.tight_layout()

#plt.savefig('i/Part_1_1_Coffee_Shop_Locations_Bar_Pie.png')


from Weidman_Figures import *

fig,axes = Weid_Fig(widths=[1.6,1], height=4)

coffee_shops = pd.read_csv('Data/Part_1_1_Coffee_Shops.csv')
category_counts = coffee_shops.STATE.value_counts()

axes[0].bar(category_counts.index, category_counts.values, color=category_color_pal, edgecolor='black')

coffee_shops = pd.read_csv('Data/Part_1_1_Coffee_Shops.csv')
category_counts = coffee_shops.STATE.value_counts()

# Define the category you want to compare
target_category = 'CA'

# Separate the target category and combine the rest as 'Others'
target_count = category_counts.get(target_category, 0)
others_count = category_counts.sum() - target_count

# Prepare data for the pie chart
labels = [target_category, '']
sizes = [target_count, others_count]

plt.pie(
    sizes,
    labels=labels,
    autopct='%1.1f%%',
    colors=[category_color_pal[0], 'grey'],
    startangle=90,
    wedgeprops={'edgecolor': 'black'}
)

# Set the font size for the labels and percentages
for text in texts:
    text.set_fontsize(14)  # Set label font size
for autotext in autotexts:
    autotext.set_fontsize(12)  # Set percentage font size

axes[0].set_ylabel('Counts')
fig.tight_layout()

plt.savefig('Figures/Part_1_1_Coffee_Shop_Locations_Bar_Pie_Compare.png')
