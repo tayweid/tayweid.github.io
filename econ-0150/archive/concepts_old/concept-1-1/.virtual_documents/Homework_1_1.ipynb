


# Imports
import pandas as pd

# File Path
file_path = 'https://tayweid.github.io/econ-0150/hw/hw-1-0/data/'


# Load Data
data = pd.read_csv(file_path + 'Fall_2025_Survey.csv')
data.head()





#
