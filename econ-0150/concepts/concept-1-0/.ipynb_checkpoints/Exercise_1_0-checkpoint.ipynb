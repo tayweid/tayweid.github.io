{
 "cells": [
  {
   "cell_type": "markdown",
   "id": "9b0d34d5-4ca8-4ea5-9fa3-9a23fbe01a49",
   "metadata": {
    "id": "9b0d34d5-4ca8-4ea5-9fa3-9a23fbe01a49"
   },
   "source": [
    "# Exercise 1.0 | Variable Types\n",
    "\n",
    "Determine which variable types are contained in each dataset."
   ]
  },
  {
   "cell_type": "code",
   "execution_count": 1,
   "id": "4e69a1a7",
   "metadata": {
    "id": "4e69a1a7"
   },
   "outputs": [],
   "source": [
    "# Imports\n",
    "import pandas as pd\n",
    "import matplotlib.pyplot as plt\n",
    "file_path = 'data/'"
   ]
  },
  {
   "cell_type": "markdown",
   "id": "3520776e",
   "metadata": {
    "id": "3520776e"
   },
   "source": [
    "## Load unemployment_status.csv\n"
   ]
  },
  {
   "cell_type": "code",
   "execution_count": 2,
   "id": "97a6d0f2",
   "metadata": {
    "id": "97a6d0f2"
   },
   "outputs": [],
   "source": [
    "unemployment = pd.read_csv(file_path + 'unemployment_status.csv')"
   ]
  },
  {
   "cell_type": "markdown",
   "id": "85c599e0-1cb4-477a-b684-e1ebe0fea019",
   "metadata": {
    "id": "85c599e0-1cb4-477a-b684-e1ebe0fea019"
   },
   "source": [
    "## Load employment_sector.csv"
   ]
  },
  {
   "cell_type": "code",
   "execution_count": 13,
   "id": "f1bc0696-176c-4678-9471-d475831a8933",
   "metadata": {
    "id": "f1bc0696-176c-4678-9471-d475831a8933"
   },
   "outputs": [],
   "source": [
    "sector = pd.read_csv(file_path + 'employment_sector.csv')"
   ]
  },
  {
   "cell_type": "markdown",
   "id": "43ea9fa5-d79e-4b2b-9f70-0eeee962acea",
   "metadata": {
    "id": "43ea9fa5-d79e-4b2b-9f70-0eeee962acea"
   },
   "source": [
    "## Load economic_optimism.csv\n"
   ]
  },
  {
   "cell_type": "code",
   "execution_count": 21,
   "id": "34634396-5d15-438a-8358-287cea818762",
   "metadata": {
    "id": "34634396-5d15-438a-8358-287cea818762"
   },
   "outputs": [],
   "source": [
    "optimism = pd.read_csv(file_path + 'economic_optimism.csv')"
   ]
  },
  {
   "cell_type": "markdown",
   "id": "373ab76a-4ba0-4017-9c45-b36f8f49e523",
   "metadata": {},
   "source": [
    "## Load household_size.csv"
   ]
  },
  {
   "cell_type": "code",
   "execution_count": 30,
   "id": "55489aa9-abfd-4da3-8cb8-8c902c26448e",
   "metadata": {},
   "outputs": [],
   "source": [
    "size = pd.read_csv(file_path + 'household_size.csv')"
   ]
  },
  {
   "cell_type": "markdown",
   "id": "593972ea-5fe7-4178-9fd4-af7fa9cebe24",
   "metadata": {},
   "source": [
    "## Load household_income.csv"
   ]
  },
  {
   "cell_type": "code",
   "execution_count": 34,
   "id": "df00a420-25de-4513-85e1-d8ea9558172b",
   "metadata": {},
   "outputs": [],
   "source": [
    "income = pd.read_csv(file_path + 'household_income.csv')"
   ]
  }
 ],
 "metadata": {
  "colab": {
   "provenance": [
    {
     "file_id": "1yVUa7CsdZNT6pYJiBwcVCPrYpjIbTx0d",
     "timestamp": 1754708022426
    }
   ]
  },
  "kernelspec": {
   "display_name": "Python 3 (ipykernel)",
   "language": "python",
   "name": "python3"
  },
  "language_info": {
   "codemirror_mode": {
    "name": "ipython",
    "version": 3
   },
   "file_extension": ".py",
   "mimetype": "text/x-python",
   "name": "python",
   "nbconvert_exporter": "python",
   "pygments_lexer": "ipython3",
   "version": "3.11.8"
  }
 },
 "nbformat": 4,
 "nbformat_minor": 5
}
