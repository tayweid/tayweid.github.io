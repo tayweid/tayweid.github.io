


# Imports
import pandas as pd
import matplotlib.pyplot as plt
import seaborn as sns
import numpy as np

file_path = 'data/'

plt.rcParams.update({
    'font.family': 'serif',              # Set the font family
    'font.serif': ['Times New Roman'],   # Use a specific serif font
    'font.size': 16,                     # Set the general font size
    'axes.titlesize': 20,                # Set the font size of the title
    'axes.labelsize': 16,                # Set the font size of axis labels
    'font.style': 'italic',              # Set the font style to italic
    'figure.dpi': 400   
})

category_color_pal = sns.color_palette("hls", 8)#sns.color_palette("husl", 8)
continuous_color_pal = sns.color_palette("rocket_r", as_cmap=True)





# Load Dataset
binary = pd.read_csv(file_path + 'employment_status.csv')

# Figure
plt.figure(figsize=(8, 3), dpi=400)
sns.countplot(binary, y='Employment Status', hue='Employment Status')

# Style
plt.title("Employment Status")
plt.ylabel("")
plt.xlabel("")
sns.despine(left=True, right=True, top=True)
plt.grid(False)
plt.tight_layout()

# Save Figure
plt.savefig('i/i_01')





# Load Dataset
nominal = pd.read_csv(file_path + 'employment_sector.csv')

# Figure
plt.figure(figsize=(8, 3))
sns.countplot(nominal, y='Sector', hue='Sector')

# Style
plt.title('Employment by Sector')
plt.ylabel("")
plt.xlabel("")
sns.despine(left=True, right=True, top=True)
plt.grid(False)
plt.tight_layout()

# Save Figure
plt.savefig('i/i_02')





# Load Dataset
optimism = pd.read_csv(file_path + 'economic_optimism.csv')

# Figure
plt.figure(figsize=(8, 3))
order = [
    'Very Optimistic',
    'Somewhat Optimistic',
    'Neutral',
    'Somewhat Pessimistic', 
    'Very Pessimistic', 
]
sns.countplot(optimism, y='Economic Optimism', hue='Economic Optimism', order=order)

# Style
plt.title('Economic Optimism')
plt.ylabel("")
plt.xlabel("")
sns.despine(left=True, right=True, top=True)
plt.grid(False)
plt.tight_layout()

# Save Figure
plt.savefig('i/i_03')





# Load Dataset
size = pd.read_csv(file_path + 'household_size.csv')

# Figure
plt.figure(figsize=(8, 3))
sns.histplot(size, x='Number of Children', bins=np.array([0,1,2,3,4,5,6,7])-0.5)

# Style
plt.title('Number of Children')
plt.ylabel("")
plt.xlabel("")
sns.despine(left=False, right=True, top=True)
plt.grid(False)
plt.tight_layout()

# Save Figure
plt.savefig('i/i_04')





# Load Dataset
income = pd.read_csv(file_path + 'household_income.csv')

# Figure
plt.figure(figsize=(10, 4))
sns.boxplot(x=income['Household Income (USD)'], color='lightgrey', whis=(0, 100))
sns.stripplot(x=income['Household Income (USD)'], color='red', size=10, alpha=0.3, 
              edgecolor='red', linewidth=1)

# Annotations
quartiles = list(income['Household Income (USD)'].quantile([0, 0.25, 0.50, 0.75, 1]))
plt.xticks(quartiles, quartiles)
plt.tick_params(axis='x', width=1, length=4, color='black')

# Styling
plt.title('Household Income (USD)')
plt.xlabel('')
plt.ylabel('')
plt.yticks([])

plt.ylim([-2/3,2/3])
sns.despine(left=True, right=True, top=True)
plt.grid(False)
plt.tight_layout()

# Save
plt.savefig('i/i_05.png')
