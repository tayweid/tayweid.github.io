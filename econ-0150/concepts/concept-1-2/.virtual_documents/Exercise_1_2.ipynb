


# Imports
import pandas as pd
import matplotlib.pyplot as plt
import seaborn as sns

# File Path
file_path = 'https://tayweid.github.io/econ-0150/concepts/concept-1-2/data/'
file_path = 'data/'





high = pd.read_csv(file_path + 'Starbucks_Customer_Profiles_40k.csv')
sns.histplot(data=high, x='age', bins=range(20,100,5))





# Figure
plt.figure(figsize=(10, 4))
coffee = pd.read_csv(file_path + 'Coffee_Per_Cap_2019.csv')
sns.boxplot(data=coffee, x=2, color='lightgrey', whis=(0, 100))
sns.stripplot(data=coffee, x='1999', color='red', size=10, alpha=0.3, 
              edgecolor='red', linewidth=1)
