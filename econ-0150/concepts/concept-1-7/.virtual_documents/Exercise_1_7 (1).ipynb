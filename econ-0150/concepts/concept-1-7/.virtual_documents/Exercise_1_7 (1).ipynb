


# Imports
import pandas as pd
import matplotlib.pyplot as plt
import seaborn as sns

# File Path
file_path = 'https://tayweid.github.io/econ-0150/concepts/concept-1-7/data/'


# Load Data
data = pd.read_csv(file_path + 'Starbucks_Promos.csv', index_col=0)
