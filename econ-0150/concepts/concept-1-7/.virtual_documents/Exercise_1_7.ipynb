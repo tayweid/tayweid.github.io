from Weidman_Figures import *


data = pd.read_csv('Part_1_6/Starbucks_Promos_raw.csv')


data['Event'] = data['Event'].replace('offer completed', 'transaction')


data.to_csv('Part_1_6/Starbucks_Promos.csv')


data = pd.read_csv('Part_1_6/Starbucks_Promos.csv')


data.head()


# Group by ID
grouped_by_id = data.groupby("Offer ID")


# Sum revenue by group
grouped_revenue = grouped_by_id["Revenue"].sum()


grouped_revenue


fig, axes = Weid_Fig(height=4, fontsize=24)

grouped_revenue.plot(kind='barh', title="Revenue per Offer")
plt.ylabel('')

plt.tight_layout()
plt.savefig('Part_1_6/i/1.png')


# Summarize total revenue by 'Event'
event_summary = data.groupby("Event")["Revenue"].sum()


fig, axes = Weid_Fig(height=3, fontsize=24)

event_summary.plot(kind='barh', title="Revenue by Event")
plt.ylabel('')
plt.tight_layout()
plt.savefig('Part_1_6/i/2.png')


# Count number of each event
event_count = data.groupby("Event")["Event"].count()

fig, axes = Weid_Fig(height=3, fontsize=24)

event_count.plot(kind='barh', title="Count by Event")
plt.ylabel('')
plt.tight_layout()
plt.savefig('Part_1_6/i/3.png')


# Filter for transactions only
transactions_only = data[data["Event"] == "transaction"]
# Group by Offer ID
transaction_groups = transactions_only.groupby("Offer ID")
# Take the mean revenue
mean_revenue = transaction_groups["Revenue"].mean()

fig, axes = Weid_Fig(height=3, fontsize=24)

mean_revenue.plot(kind='barh', title="Mean Revenue per Offer")
plt.ylabel('')
plt.tight_layout()
plt.savefig('Part_1_6/i/4.png')


# Events by Offer ID
events_count = data.groupby("Offer ID")["Event"].count()

fig, axes = Weid_Fig(height=3, fontsize=24)

events_count.plot(kind='barh', title="Events per Group")
plt.ylabel('')
plt.tight_layout()
plt.savefig('Part_1_6/i/4_1.png')


# Count transactions by Offer ID
transactions_only = data[data["Event"] == "transaction"] # Filter for Transaction
transactions_count = transactions_only.groupby("Offer ID")["Event"].count()

fig, axes = Weid_Fig(height=3, fontsize=24)

transactions_count.plot(kind='barh', title="Transactions per Group")
plt.ylabel('')
plt.tight_layout()
plt.savefig('Part_1_6/i/4_2.png')


# Sum revenue by Offer ID
grouped_revenue = data.groupby("Offer ID")["Revenue"].sum()

fig, axes = Weid_Fig(height=3, fontsize=24)

grouped_revenue.plot(kind='barh', title="Revenue per Group")
plt.ylabel('')
plt.tight_layout()
plt.savefig('Part_1_6/i/4_3.png')
