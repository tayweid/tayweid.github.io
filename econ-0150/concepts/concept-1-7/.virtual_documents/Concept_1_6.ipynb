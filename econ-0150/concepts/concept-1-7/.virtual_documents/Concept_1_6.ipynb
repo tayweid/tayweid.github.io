


# Imports
import pandas as pd
import matplotlib.pyplot as plt
import seaborn as sns
import numpy as np

plt.rcParams.update({
    'font.family': 'serif',              # Set the font family
    'font.serif': ['Times New Roman'],   # Use a specific serif font
    'font.size': 16,                     # Set the general font size
    'axes.titlesize': 20,                # Set the font size of the title
    'axes.labelsize': 16,                # Set the font size of axis labels
    'font.style': 'italic',              # Set the font style to italic
    'figure.dpi': 400   
})

category_color_pal = sns.color_palette("hls", 8)#sns.color_palette("husl", 8)
continuous_color_pal = sns.color_palette("rocket_r", as_cmap=True)





data = pd.read_csv('data/Starbucks_Promos_raw.csv')[['Event', 'Revenue', 'Offer ID']]
data['Event'] = data['Event'].replace('offer completed', 'transaction')
data.to_csv('data/Starbucks_Promos.csv')





# Load Data
data = pd.read_csv('data/Starbucks_Promos.csv')

# Group and Aggregate
group_ag = data.groupby("Offer ID")['Event'].count()

# Figure
plt.figure(figsize=(10, 3))
group_ag.plot(kind='barh')

# Style
plt.title('Offers per Offer-Type')
plt.ylabel('')
sns.despine(top=True, right=True)
plt.tight_layout()

# Save Figure
plt.savefig('i/i_01a.png')


# Load Data
data = pd.read_csv('data/Starbucks_Promos.csv')

# Group and Aggregate
group_ag = data.groupby("Event")["Event"].count()

# Figure
plt.figure(figsize=(10, 3))
group_ag.plot(kind='barh')

# Style
plt.title('Events per Event-Type')
plt.ylabel('')
sns.despine(top=True, right=True)
plt.tight_layout()

# Save Figure
plt.savefig('i/i_02a.png')


# Load Data
data = pd.read_csv('data/Starbucks_Promos.csv')

# Group and Aggregate
group_ag = data.groupby('Event')['Revenue'].sum()

# Figure
plt.figure(figsize=(10, 3))
group_ag.plot(kind='barh')

# Style
plt.title('Revenue by Event-Type')
plt.ylabel('')
sns.despine(top=True, right=True)
plt.tight_layout()

# Save Figure
plt.savefig('i/i_03a.png')


# Load Data
data = pd.read_csv('data/Starbucks_Promos.csv')

# Filter
filter_data = data[data["Event"] == "offer"]

# Group and Aggregate
group_ag = filter_data.groupby("Offer ID")["Event"].count()

# Figure
plt.figure(figsize=(10, 3))
group_ag.plot(kind='barh')

# Style
plt.title("'Offers' per Offer-Type")
plt.ylabel('')
sns.despine(top=True, right=True)
plt.tight_layout()

# Save Figure
plt.savefig('i/i_04a.png')


# Load Data
data = pd.read_csv('data/Starbucks_Promos.csv')

# Filter
filter_data = data[data["Event"] == "transaction"]

# Group and Aggregate
group_ag = filter_data.groupby("Offer ID")["Event"].count()

# Figure
plt.figure(figsize=(10, 3))
group_ag.plot(kind='barh')

# Style
plt.title("'Transactions' per Offer-Type")
plt.ylabel('')
sns.despine(top=True, right=True)
plt.tight_layout()

# Save Figure
plt.savefig('i/i_05a.png')


# Load Data
data = pd.read_csv('data/Starbucks_Promos.csv')

# Filter and Group Offers
o_filter_data = data[data["Event"] == "offer"]
o_group_ag = o_filter_data.groupby("Offer ID")["Event"].count()

# Filter and Group Transactions
t_filter_data = data[data["Event"] == "transaction"]
t_group_ag = t_filter_data.groupby("Offer ID")["Event"].count()

# Find Redeption Rate
group_ag = t_group_ag / o_group_ag

# Figure
plt.figure(figsize=(10, 3))
group_ag.plot(kind='barh')

# Style
plt.title("Redemption Rate per Offer-Type")
plt.ylabel('')
sns.despine(top=True, right=True)
plt.tight_layout()

# Save Figure
plt.savefig('i/i_06a.png')


# Load Data
data = pd.read_csv('data/Starbucks_Promos.csv')

# Group and Aggregate
group_ag = data.groupby('Offer ID')['Revenue'].sum()

# Figure
plt.figure(figsize=(10, 3))
group_ag.plot(kind='barh')

# Style
plt.title('Revenue by Offer-Type')
plt.ylabel('')
sns.despine(top=True, right=True)
plt.tight_layout()

# Save Figure
plt.savefig('i/i_07a.png')


# Load Data
data = pd.read_csv('data/Starbucks_Promos.csv')

# Filter
filter_data = data[data["Event"] == "transaction"]

# Group and Aggregate
group_ag = filter_data.groupby("Offer ID")["Revenue"].mean()

# Figure
plt.figure(figsize=(10, 3))
group_ag.plot(kind='barh')

# Style
plt.title('Mean Revenue per Offer Type')
plt.ylabel('')
sns.despine(top=True, right=True)
plt.tight_layout()

# Save Figure
plt.savefig('i/i_08a.png')


# Load Data
data = pd.read_csv('data/Starbucks_Promos.csv')

# Filter and Group Offers
o_filter_data = data[data["Event"] == "offer"]
o_group_ag = o_filter_data.groupby("Offer ID")['Revenue'].count()

# Filter and Group Transactions
t_filter_data = data[data["Event"] == "transaction"]
t_group_ag = t_filter_data.groupby("Offer ID")['Revenue'].sum()

# Find Redeption Rate
group_ag = t_group_ag / o_group_ag

# Figure
plt.figure(figsize=(10, 3))
group_ag.plot(kind='barh')

# Style
plt.title('Mean Revenue per Offer-Type')
plt.ylabel('')
sns.despine(top=True, right=True)
plt.tight_layout()

# Save Figure
plt.savefig('i/i_09a.png')


o_group_ag


# Load Data
data = pd.read_csv('data/Starbucks_Promos.csv')

# Group and Aggregate
group_ag = data.groupby('Event')['Revenue'].sum()

# Figure
plt.figure(figsize=(10, 3))
group_ag.plot(kind='barh')

# Style
plt.title('Revenue by Event')
plt.ylabel('')
sns.despine(top=True, right=True)
plt.tight_layout()

# Save Figure
plt.savefig('i/i_02.png')


# Load Data
data = pd.read_csv('data/Starbucks_Promos.csv')

# Filter
filter_data = data[data["Event"] == "transaction"]

# Group and Aggregate
group_ag = filter_data.groupby("Offer ID")["Revenue"].mean()

# Figure
plt.figure(figsize=(10, 3))
group_ag.plot(kind='barh')

# Style
plt.title('Mean Revenue per Offer Type')
plt.ylabel('')
sns.despine(top=True, right=True)
plt.tight_layout()

# Save Figure
plt.savefig('i/i_04.png')


# Load Data
data = pd.read_csv('data/Starbucks_Promos.csv')

# Filter
filter_data = data[data["Event"] == "transaction"]

# Group and Aggregate
group_ag = filter_data.groupby("Offer ID")["Event"].count()

# Figure
plt.figure(figsize=(10, 3))
group_ag.plot(kind='barh')

# Style
plt.title('Transactions per Offer Type')
plt.ylabel('')
sns.despine(top=True, right=True)
plt.tight_layout()

# Save Figure
plt.savefig('i/i_06.png')


# Load Data
data = pd.read_csv('data/Starbucks_Promos.csv')

# Group and Aggregate
group_ag = data.groupby("Offer ID")["Revenue"].sum()

# Figure
plt.figure(figsize=(10, 3))
group_ag.plot(kind='barh')

# Style
plt.title('Total Revenue per Offer Type')
plt.ylabel('')
sns.despine(top=True, right=True)
plt.tight_layout()

# Save Figure
plt.savefig('i/i_07.png')


# Load Data
data = pd.read_csv('data/Starbucks_Promos.csv')

# Group and Aggregate
group_ag = data.groupby('Offer ID')['Revenue'].mean()

# Figure
plt.figure(figsize=(10, 3))
group_ag.plot(kind='barh')

# Style
plt.title('Mean Revenue per Offer Type')
plt.ylabel('')
sns.despine(top=True, right=True)
plt.tight_layout()

# Save Figure
plt.savefig('i/i_08.png')


# Load Data
data = pd.read_csv('data/Starbucks_Promos.csv')
data['bin_transaction'] = (data['Event'] == 'transaction')

# Group and Aggregate
group_ag = data.groupby('Offer ID')['bin_transaction'].mean()

# Figure
plt.figure(figsize=(10, 3))
group_ag.plot(kind='barh')

# Style
plt.title('Transaction Rate per Offer Type')
plt.ylabel('')
sns.despine(top=True, right=True)
plt.tight_layout()

# Save Figure
plt.savefig('i/i_09.png')


# Load Data
data = pd.read_csv('data/Starbucks_Promos.csv')
data['bin_transaction'] = (data['Event'] == 'transaction')

# Group and Aggregate
group_ag1 = data.groupby('Offer ID')['bin_transaction'].mean()
group_ag2 = data.groupby('Offer ID')['Revenue'].mean()

# Create positions for bars
y_pos = range(len(group_ag1))
bar_height = 0.35

# Figure
fig, ax = plt.subplots(figsize=(10, 5))
bars1 = ax.barh([p - bar_height/2 for p in y_pos], group_ag1.values, 
                bar_height, label='Transaction Rate', color='#d62728')
bars2 = ax.barh([p + bar_height/2 for p in y_pos], group_ag2.values, 
                bar_height, label='Mean Revenue', color='#1f77b4')

# Style
ax.set_yticks(y_pos)
ax.set_yticklabels(group_ag1.index)
ax.set_xlabel('Value')
ax.set_ylabel('')
ax.set_title('Mean Revenue and Transaction Rate per Offer Type')
ax.legend()
sns.despine(top=True, right=True)
plt.tight_layout()

# Save Figure
plt.savefig('i/i_10.png')


# Load Data
data = pd.read_csv('data/Starbucks_Promos.csv')
data['bin_transaction'] = (data['Event'] == 'transaction')

# Group and Aggregate
group_ag1 = data.groupby('Offer ID')['bin_transaction'].mean()
group_ag2 = data.groupby('Offer ID')['Revenue'].mean()

# Create positions for bars
y_pos = range(len(group_ag1))
bar_height = 0.35

x = y_pos

# Figure
fig, ax1 = plt.subplots(figsize=(10, 5))
ax2 = ax1.twiny()

# Define colors
color1 = '#d62728'  # Red
color2 = '#1f77b4'  # Blue

bars1 = ax1.barh([p - bar_height/2 for p in y_pos], group_ag1.values, 
                bar_height, label='Transaction Rate', color='#d62728')
bars2 = ax2.barh([p + bar_height/2 for p in y_pos], group_ag2.values, 
                bar_height, label='Revenue per Event', color='#1f77b4')

# Style
ax1.set_yticks(y_pos)
ax1.set_yticklabels(group_ag1.index)
ax1.set_xlabel('Value')
ax1.set_ylabel('')
ax1.set_title('')
ax1.legend()
sns.despine(top=False, right=True)
plt.tight_layout()

# Customize first axis (Revenue)
ax1.set_xlabel('Revenue per Event ($)')
ax1.set_yticks(x)

# Customize second axis (Transactions)
ax2.set_xlabel('Transactions per Event')

# Add title and legend
#plt.title('Revenue and Transactions per Offer', pad=20)
ax1.legend(loc='upper right')
ax2.legend(loc='upper center')

# Color the axis labels to match the bars
ax1.set_xlabel('Transaction Rate', color=color1, fontweight='bold')
ax2.set_xlabel('Revenue per Event ($)', color=color2, fontweight='bold')

# Color the tick labels too (optional)
ax1.tick_params(axis='x', colors=color1)
ax2.tick_params(axis='x', colors=color2)

# Adjust layout
plt.tight_layout()

plt.grid(True)

# Save Figure
plt.savefig('i/i_11.png')
