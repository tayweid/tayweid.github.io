{
 "cells": [
  {
   "cell_type": "markdown",
   "id": "iYEwabdhgoqV",
   "metadata": {
    "id": "iYEwabdhgoqV"
   },
   "source": [
    "# Exercise 1.7"
   ]
  },
  {
   "cell_type": "code",
   "execution_count": 6,
   "id": "GxGA53tvgtVg",
   "metadata": {
    "id": "GxGA53tvgtVg"
   },
   "outputs": [],
   "source": [
    "# Imports\n",
    "import pandas as pd\n",
    "import matplotlib.pyplot as plt\n",
    "import seaborn as sns\n",
    "\n",
    "# File Path\n",
    "file_path = 'https://tayweid.github.io/econ-0150/concepts/concept-1-7/data/'"
   ]
  },
  {
   "cell_type": "code",
   "execution_count": 4,
   "id": "4b327378-e660-453d-a437-2f823176b171",
   "metadata": {},
   "outputs": [],
   "source": [
    "# Load Data\n",
    "data = pd.read_csv(file_path + 'Starbucks_Promos.csv', index_col=0)"
   ]
  }
 ],
 "metadata": {
  "colab": {
   "provenance": [
    {
     "file_id": "1yVUa7CsdZNT6pYJiBwcVCPrYpjIbTx0d",
     "timestamp": 1754708022426
    }
   ]
  },
  "kernelspec": {
   "display_name": "Python 3 (ipykernel)",
   "language": "python",
   "name": "python3"
  },
  "language_info": {
   "codemirror_mode": {
    "name": "ipython",
    "version": 3
   },
   "file_extension": ".py",
   "mimetype": "text/x-python",
   "name": "python",
   "nbconvert_exporter": "python",
   "pygments_lexer": "ipython3",
   "version": "3.11.8"
  }
 },
 "nbformat": 4,
 "nbformat_minor": 5
}
