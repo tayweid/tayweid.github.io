


# Imports
import pandas as pd
import matplotlib.pyplot as plt
import seaborn as sns

# File Path
file_path = 'https://tayweid.github.io/econ-0150/concepts/concept-1-3/data/'





# Load the dataset
gdp = pd.read_csv(file_path + 'use_real_gdp.csv')





# Load the dataset
savings = pd.read_csv(file_path + 'household_savings.csv')





# Load the dataset
income = pd.read_csv(file_path + 'household_income.csv')
