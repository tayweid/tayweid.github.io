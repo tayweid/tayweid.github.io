


# Imports
import pandas as pd
import matplotlib.pyplot as plt
import seaborn as sns
import numpy as np

plt.rcParams.update({
    'font.family': 'serif',              # Set the font family
    'font.serif': ['Times New Roman'],   # Use a specific serif font
    'font.size': 16,                     # Set the general font size
    'axes.titlesize': 20,                # Set the font size of the title
    'axes.labelsize': 16,                # Set the font size of axis labels
    'font.style': 'italic',              # Set the font style to italic
    'figure.dpi': 400   
})

category_color_pal = sns.color_palette("hls", 8)#sns.color_palette("husl", 8)
continuous_color_pal = sns.color_palette("rocket_r", as_cmap=True)





# Load Dataste
hours = pd.read_csv('data/Starbucks_Location_Hours.csv', index_col=0)

# Figure
plt.figure(figsize=(10, 4))
sns.histplot(data=hours, x='open', bins=range(-10, 41, 1), edgecolor='black')

# Styling
plt.xlabel('Hour of the Day')
plt.xlim(-10,40)
plt.ylabel('')
plt.yticks([])
plt.title('Opening Time')
sns.despine(top=True, right=True, bottom=True, left=True)
plt.tight_layout()

# Save Figure
plt.savefig('i/i_01.png')


# Load Dataset
hours = pd.read_csv('data/Starbucks_Location_Hours.csv', index_col=0)
hours['open_GMT'] = hours['open'] - hours['timezone']

# Figure
plt.figure(figsize=(10, 4))
sns.histplot(data=hours, x='open_GMT', bins=range(-10, 41, 1), edgecolor='black')

# Styling
plt.xlabel('Hour of the Day (GMT)')
plt.xlim(-10,40)
plt.ylabel('')
plt.yticks([])
plt.title('Opening Time (GMT)')
sns.despine(top=True, right=True, bottom=True, left=True)
plt.tight_layout()

# Save Figure
plt.savefig('i/i_02.png')


# Load Dataset
hours = pd.read_csv('data/Starbucks_Location_Hours.csv', index_col=0)
hours['open_GMT'] = hours['open'] - hours['timezone']

def Normalize_GMT(number):
    if number >= 24:
        number = number - 24
    if number < 0:
        number = number + 24
    return number
hours['open_GMT'] = hours['open_GMT'].apply(Normalize_GMT)

# Figure
plt.figure(figsize=(10, 4))
sns.histplot(data=hours, x='open_GMT', bins=range(-10, 41, 1), edgecolor='black')

# Styling
plt.xlabel('Hour of the Day (GMT)')
plt.xlim(-10,40)
plt.ylabel('')
plt.yticks([])
plt.title('Opening Time (GMT)')
sns.despine(top=True, right=True, bottom=True, left=True)
plt.tight_layout()

# Save Figure
plt.savefig('i/i_03.png')


# Load Dataset
hours = pd.read_csv('data/Starbucks_Location_Hours.csv', index_col=0)

# Figure
plt.figure(figsize=(10, 4))
sns.histplot(data=hours, x='close', bins=range(-10, 41, 1), edgecolor='black')

# Styling
plt.xlabel('Hour of the Day')
plt.xlim(-10,40)
plt.ylabel('')
plt.yticks([])
plt.title('Closing Time')
sns.despine(top=True, right=True, bottom=True, left=True)
plt.tight_layout()

# Save Figure
plt.savefig('i/i_04.png')


# Load Dataset
hours = pd.read_csv('data/Starbucks_Location_Hours.csv', index_col=0)
hours['close_GMT'] = hours['close'] - hours['timezone']

# Figure
plt.figure(figsize=(10, 4))
sns.histplot(data=hours, x='close_GMT', bins=range(-10, 41, 1), edgecolor='black')

# Styling
plt.xlabel('Hour of the Day (GMT)')
plt.xlim(-10,40)
plt.ylabel('')
plt.yticks([])
plt.title('Closing Time (GMT)')
sns.despine(top=True, right=True, bottom=True, left=True)
plt.tight_layout()

# Save Figure
plt.savefig('i/i_05.png')


# Load Dataset
hours = pd.read_csv('data/Starbucks_Location_Hours.csv', index_col=0)
hours['close_GMT'] = hours['close'] - hours['timezone']

def Normalize_GMT(number):
    if number >= 24:
        number = number - 24
    if number < 0:
        number = number + 24
    return number
hours['close_GMT'] = hours['close_GMT'].apply(Normalize_GMT)

# Figure
plt.figure(figsize=(10, 4))
sns.histplot(data=hours, x='close_GMT', bins=range(-10, 41, 1), edgecolor='black')

# Styling
plt.xlabel('Hour of the Day (GMT)')
plt.xlim(-10,40)
plt.ylabel('')
plt.yticks([])
plt.title('Closing Time (GMT)')
sns.despine(top=True, right=True, bottom=True, left=True)
plt.tight_layout()

# Save Figure
plt.savefig('i/i_06.png')


# Load Dataset
hours = pd.read_csv('data/Starbucks_Location_Hours.csv', index_col=0)
hours['open_GMT'] = hours['open'] - hours['timezone']
hours['close_GMT'] = hours['close'] - hours['timezone']

def Normalize_GMT(number):
    if number >= 24:
        number = number - 24
    if number < 0:
        number = number + 24
    return number
hours['open_GMT'] = hours['open_GMT'].apply(Normalize_GMT)
hours['close_GMT'] = hours['close_GMT'].apply(Normalize_GMT)

# Figure
plt.figure(figsize=(10, 4))
sns.histplot(data=hours, x='open_GMT', bins=range(-10, 41, 1), edgecolor='black', label='Open Time', alpha=0.5)
sns.histplot(data=hours, x='close_GMT', bins=range(-10, 41, 1), edgecolor='black', label='Close Time', alpha=0.5)

# Styling
plt.xlabel('Hour of the Day (GMT)')
plt.xlim(-10,40)
plt.ylabel('')
plt.yticks([])
plt.title('Opening and Closing Time (GMT)')
sns.despine(top=True, right=True, bottom=True, left=True)
plt.tight_layout()
plt.legend()

# Save Figure
plt.savefig('i/i_07.png')


# Load Dataset
hours = pd.read_csv('data/Starbucks_Location_Hours.csv', index_col=0)
hours['open_GMT'] = hours['open'] - hours['timezone']
hours['close_GMT'] = hours['close'] - hours['timezone']

def Normalize_GMT(number):
    if number >= 24:
        number = number - 24
    if number < 0:
        number = number + 24
    return number

hours['open_GMT'] = hours['open_GMT'].apply(Normalize_GMT)
hours['close_GMT'] = hours['close_GMT'].apply(Normalize_GMT)

# Calculate cumulative counts
bins = np.arange(0, 25, 1)
open_counts, _ = np.histogram(hours['open_GMT'], bins=bins)
close_counts, _ = np.histogram(hours['close_GMT'], bins=bins)

cumulative_opened = np.cumsum(open_counts)
cumulative_closed = np.cumsum(close_counts)

# Figure
plt.figure(figsize=(10, 4))
plt.plot(bins[:-1], cumulative_opened, label='Total Opened')
plt.plot(bins[:-1], cumulative_closed, label='Total Closed')

# Styling
plt.xlabel('Hour of the Day (GMT)')
plt.ylabel('')
plt.yticks([])
plt.title('Cumulative Starbucks Opened/Closed Globally')
plt.xlim(0, 23)
plt.legend()
sns.despine(top=True, right=True, left=True)
plt.tight_layout()

# Save Figure
plt.savefig('i/i_08.png')


# Load Dataset
hours = pd.read_csv('data/Starbucks_Location_Hours.csv', index_col=0)
hours['open_GMT'] = hours['open'] - hours['timezone']
hours['close_GMT'] = hours['close'] - hours['timezone']

def Normalize_GMT(number):
    if number >= 24:
        number = number - 24
    if number < 0:
        number = number + 24
    return number

hours['open_GMT'] = hours['open_GMT'].apply(Normalize_GMT)
hours['close_GMT'] = hours['close_GMT'].apply(Normalize_GMT)

# Calculate cumulative counts
bins = np.arange(0, 25, 1)
open_counts, _ = np.histogram(hours['open_GMT'], bins=bins)
close_counts, _ = np.histogram(hours['close_GMT'], bins=bins)

cumulative_opened = np.cumsum(open_counts)
cumulative_closed = np.cumsum(close_counts)
net_open = cumulative_opened - cumulative_closed

# Figure
plt.figure(figsize=(10, 4))
plt.plot(bins[:-1], cumulative_opened, label='Total Opened')
plt.plot(bins[:-1], cumulative_closed, label='Total Closed')
plt.plot(bins[:-1], net_open, label='Total Closed')

# Styling
plt.xlabel('Hour of the Day (GMT)')
plt.ylabel('')
plt.yticks([])
plt.title('Cumulative Starbucks Opened/Closed Globally')
plt.xlim(0, 23)
plt.legend()
sns.despine(top=True, right=True, left=True)
plt.tight_layout()

# Save Figure
plt.savefig('i/i_09.png')


# Load Dataset
hours = pd.read_csv('data/Starbucks_Location_Hours.csv', index_col=0)
hours['open_GMT'] = hours['open'] - hours['timezone']
hours['close_GMT'] = hours['close'] - hours['timezone']

def Normalize_GMT(number):
    if number >= 24:
        number = number - 24
    if number < 0:
        number = number + 24
    return number

hours['open_GMT'] = hours['open_GMT'].apply(Normalize_GMT)
hours['close_GMT'] = hours['close_GMT'].apply(Normalize_GMT)

# Calculate cumulative counts
bins = np.arange(0, 25, 1)
open_counts, _ = np.histogram(hours['open_GMT'], bins=bins)
close_counts, _ = np.histogram(hours['close_GMT'], bins=bins)

cumulative_opened = np.cumsum(open_counts)
cumulative_closed = np.cumsum(close_counts)
net_open = cumulative_opened - cumulative_closed
count_open_after_close = len(hours[hours['open_GMT'] >= hours['close_GMT']])

# Figure
plt.figure(figsize=(10, 4))
#plt.plot(bins[:-1], cumulative_opened, label='Total Opened')
#plt.plot(bins[:-1], cumulative_closed, label='Total Closed')
plt.plot(bins[:-1], net_open + count_open_after_close, label='Net Opened')

# Styling
plt.xlabel('Hour of the Day (GMT)')
plt.ylabel('')
plt.yticks([])
plt.title('Cumulative Starbucks Opened/Closed Globally')
plt.xlim(0, 23)
plt.legend()
sns.despine(top=True, right=True, left=True)
plt.tight_layout()

# Save Figure
plt.savefig('i/i_10.png')
