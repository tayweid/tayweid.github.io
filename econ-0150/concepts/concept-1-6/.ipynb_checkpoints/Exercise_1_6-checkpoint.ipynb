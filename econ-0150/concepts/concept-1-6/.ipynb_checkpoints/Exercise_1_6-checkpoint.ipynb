{
 "cells": [
  {
   "cell_type": "markdown",
   "id": "ePX68TT2gVC1",
   "metadata": {
    "id": "ePX68TT2gVC1"
   },
   "source": [
    "# Exercise 1.6"
   ]
  },
  {
   "cell_type": "code",
   "execution_count": 1,
   "id": "LooiduwXgZsQ",
   "metadata": {
    "id": "LooiduwXgZsQ"
   },
   "outputs": [],
   "source": [
    "# Imports\n",
    "import pandas as pd\n",
    "import matplotlib.pyplot as plt\n",
    "import seaborn as sns\n",
    "\n",
    "# File Path\n",
    "file_path = 'https://tayweid.github.io/econ-0150/concepts/concept-1-6/data/'"
   ]
  },
  {
   "cell_type": "code",
   "execution_count": 2,
   "id": "27c72a51-7dd6-4462-95db-2e0acb609c95",
   "metadata": {
    "id": "oGVB6FODgbrB"
   },
   "outputs": [],
   "source": [
    "# Load Dataste\n",
    "hours = pd.read_csv(file_path + 'Starbucks_Location_Hours.csv', index_col=0)\n"
   ]
  }
 ],
 "metadata": {
  "colab": {
   "provenance": [
    {
     "file_id": "1yVUa7CsdZNT6pYJiBwcVCPrYpjIbTx0d",
     "timestamp": 1754708022426
    }
   ]
  },
  "kernelspec": {
   "display_name": "Python 3 (ipykernel)",
   "language": "python",
   "name": "python3"
  },
  "language_info": {
   "codemirror_mode": {
    "name": "ipython",
    "version": 3
   },
   "file_extension": ".py",
   "mimetype": "text/x-python",
   "name": "python",
   "nbconvert_exporter": "python",
   "pygments_lexer": "ipython3",
   "version": "3.11.8"
  }
 },
 "nbformat": 4,
 "nbformat_minor": 5
}
