





from Weidman_Figures import *
from matplotlib_venn import venn2

fig, axes = Weid_Fig(widths=[1,1], fontsize=24)

# AND
venn_and = venn2(subsets=(1, 1, 1), set_labels=('A', 'B'), ax=axes[0], set_colors=('white', 'white'))
venn_and.get_patch_by_id('11').set_color('deepskyblue')
for subset_id in ('10', '01'):
    venn_and.get_patch_by_id(subset_id).set_edgecolor('black')
    venn_and.get_patch_by_id(subset_id).set_linewidth(2)

venn_and.get_label_by_id('10').set_text('')  # Only A
venn_and.get_label_by_id('01').set_text('')  # Only B
venn_and.get_label_by_id('11').set_text('A AND B')  # Intersection

axes[0].set_title('AND \n (python: &) \nBoth terms')

# OR
venn_or = venn2(subsets=(1, 1, 1), set_labels=('A', 'B'), ax=axes[1], set_colors=('white', 'white'))
venn_or.get_patch_by_id('10').set_color('deepskyblue')
venn_or.get_patch_by_id('01').set_color('deepskyblue')
venn_or.get_patch_by_id('11').set_color('deepskyblue')
for subset_id in ('10', '01'):
    venn_or.get_patch_by_id(subset_id).set_edgecolor('black')
    venn_or.get_patch_by_id(subset_id).set_linewidth(2)

venn_or.get_label_by_id('10').set_text('A')
venn_or.get_label_by_id('01').set_text('B')
venn_or.get_label_by_id('11').set_text('A AND B')

axes[1].set_title('OR \n (python: |) \nEither term')

# NOT
"""
venn_not = venn2(subsets=(2, 2, 1), set_labels=('A', 'B'), ax=axes[2], set_colors=('white', 'white'))
venn_not.get_patch_by_id('10').set_color('deepskyblue')
venn_not.get_patch_by_id('01').set_color('deepskyblue')

for subset_id in ('10', '01'):
    venn_not.get_patch_by_id(subset_id).set_edgecolor('black')
    venn_not.get_patch_by_id(subset_id).set_linewidth(2)

venn_not.get_label_by_id('10').set_text('A NOT B')
venn_not.get_label_by_id('01').set_text('B NOT A')
venn_not.get_label_by_id('11').set_text('')

axes[2].set_title('NOT\nOnly one term')
"""

# Adjust layout and show
plt.tight_layout()
plt.savefig('Figures/Part_1_5_Bool.png')


from Weidman_Figures import *
import ast

hours = pd.read_csv('Part_1_5_Starbucks_Location_Hours_Raw.csv', index_col=0)
#hours = hours.dropna(subset=['schedule'])

def extract_opening_times(schedule_str):
    schedule_list = ast.literal_eval(schedule_str)
    time_format = "%I:%M %p"
    
    opening_times = []
    for entry in schedule_list:
        time_str = entry['hours'].split(' to ')[0]
        try:
            opening_time = datetime.strptime(time_str, time_format).time()
            opening_times.append(opening_time)
        except ValueError:
            opening_times.append(None)
    return opening_times[0]

def extract_closing_times(schedule_str):
    schedule_list = ast.literal_eval(schedule_str)
    time_format = "%I:%M %p"
    
    closing_times = []
    for entry in schedule_list:
        time_str = entry['hours'].split(' to ')
        
        if len(time_str) > 1:
            time_str = time_str[1]
            try:
                closing_time = datetime.strptime(time_str, time_format).time()
                closing_times.append(closing_time)
            except ValueError:
                closing_times.append(None)
    return closing_times[0]


#hours['opening_times'] = hours['schedule'].apply(extract_opening_times)
#hours['closing_times'] = hours['schedule'].apply(extract_closing_times)

#hours = hours.dropna(subset=['opening_times', 'closing_times'])

def time_difference(opening_time, closing_time):
    opening_seconds = opening_time.hour * 3600 + opening_time.minute * 60 + opening_time.second
    closing_seconds = closing_time.hour * 3600 + closing_time.minute * 60 + closing_time.second
    
    delta_seconds = closing_seconds - opening_seconds
    
    if delta_seconds <= 0:
        delta_seconds += 24 * 3600

    hours, remainder = divmod(delta_seconds, 3600)
    minutes, seconds = divmod(remainder, 60)
    
    return timedelta(hours=hours, minutes=minutes, seconds=seconds)

#hours['duration'] = hours.apply(lambda row: time_difference(row['opening_times'], row['closing_times']), axis=1)

def format_timedelta(delta):
    total_seconds = int(delta.total_seconds())
    hours, remainder = divmod(total_seconds, 3600)
    minutes, seconds = divmod(remainder, 60)
    return f"{hours:02}:{minutes:02}:{seconds:02}"

#hours['duration'] = hours['duration'].apply(format_timedelta)

def GMT(string):
    return int(string.split(':')[0].strip('GMT'))
    
#hours['timezone'] = hours.olsonTimeZoneId.apply(GMT)

def time_to_number(time):
    return time.hour
#hours['open'] = hours.opening_times.apply(time_to_number)
#hours['close'] = hours.closing_times.apply(time_to_number)

def duration_to_hour(str):
    return str[:2]
hours['duration_hr'] = hours.duration.apply(duration_to_hour)

hours = hours.dropna(subset=['opening_times'])
hours = hours.dropna(subset=['duration'])
hours = hours.dropna(subset=['duration_hr'])

keep_cols = ['storeNumber', 'countryCode', 'opening_times', 'closing_times', 'duration', 'open', 'close', 'timezone', 'duration_hr']

hours[keep_cols].to_csv('Part_1_5_Starbucks_Location_Hours.csv')





from Weidman_Figures import *
    
fig, axes = Weid_Fig(height=4, fontsize=24)

hours = pd.read_csv('Part_1_5_Starbucks_Location_Hours.csv', index_col=0)

bins = np.arange(0,25,1)
plt.hist(hours['open'], bins=bins, edgecolor='black')

plt.xlabel('Hour of the Day')
plt.xlim(0,24)
plt.ylabel('')
plt.title('Opening Times')
plt.tight_layout()
plt.savefig('../Figures/Part_1_5_Starbucks_Opening_Times.png')


from Weidman_Figures import *
    
fig, axes = Weid_Fig(height=4, fontsize=24)

hours = pd.read_csv('Part_1_5_Starbucks_Location_Hours.csv', index_col=0)
hours = hours[hours.countryCode == 'US']

bins = np.arange(0,25,1)
plt.hist(hours['open'], bins=bins, edgecolor='black')

plt.xlabel('Hour of the Day')
plt.xlim(0,24)
plt.ylabel('')
plt.title('Opening Times (US)')
plt.tight_layout()
plt.savefig('../Figures/Part_1_5_Starbucks_Opening_Times_US.png')





from Weidman_Figures import *
    
fig, axes = Weid_Fig(height=4, fontsize=24)

hours = pd.read_csv('Part_1_5_Starbucks_Location_Hours.csv', index_col=0)
hours = hours[hours.countryCode.isin(['CA','US'])]

bins = np.arange(0,25,1)
plt.hist(hours['open'], bins=bins, edgecolor='black')

plt.xlabel('Hour of the Day')
plt.xlim(0,24)
plt.ylabel('')
plt.title('Opening Times (US & CN)')
plt.tight_layout()
plt.savefig('../Figures/Part_1_5_Starbucks_Opening_Times_US_CA.png')


from Weidman_Figures import *
    
fig, axes = Weid_Fig(height=4, fontsize=24)

hours = pd.read_csv('Part_1_5_Starbucks_Location_Hours.csv', index_col=0)
hours = hours[~hours.countryCode.isin(['CA','US'])]

bins = np.arange(0,25,1)
plt.hist(hours['open'], bins=bins, edgecolor='black')

plt.xlabel('Hour of the Day')
plt.xlim(0,24)
plt.ylabel('')
plt.title('Opening Times')
plt.tight_layout()
plt.savefig('../Figures/Part_1_5_Starbucks_Opening_Times_notNA.png')





from Weidman_Figures import *
    
fig, axes = Weid_Fig(height=4, fontsize=24)

hours = pd.read_csv('Part_1_5_Starbucks_Location_Hours.csv', index_col=0)

bins = np.arange(0,25,1)
plt.hist(hours['duration_hr'], bins=bins, edgecolor='black')

plt.xlabel('Hours')
plt.xlim(0,24)
plt.ylabel('')
plt.title('Duration')
plt.tight_layout()
plt.savefig('../Figures/Part_1_5_Starbucks_Time_Open.png')


from Weidman_Figures import *
    
fig, axes = Weid_Fig(height=4, fontsize=24)

hours = pd.read_csv('Part_1_5_Starbucks_Location_Hours.csv', index_col=0)
hours = hours[hours['open'] >= 7]

bins = np.arange(0,25,1)
plt.hist(hours['duration_hr'], bins=bins, edgecolor='black')

plt.xlabel('Hours')
plt.xlim(0,24)
plt.ylabel('')
plt.title('Duration (open: 7AM or later)')
plt.tight_layout()
plt.savefig('../Figures/Part_1_5_Starbucks_Time_Open_7AM.png')


from Weidman_Figures import *
    
fig, axes = Weid_Fig(height=4, fontsize=24)

hours = pd.read_csv('Part_1_5_Starbucks_Location_Hours.csv', index_col=0)
hours = hours[hours['open'] < 7]

bins = np.arange(0,25,1)
plt.hist(hours['duration_hr'], bins=bins, edgecolor='black')

plt.xlabel('Hours')
plt.xlim(0,24)
plt.ylabel('')
plt.title('Duration (open: 7AM or earlier)')
plt.tight_layout()
plt.savefig('../Figures/Part_1_5_Starbucks_Time_Open_7AM_early.png')


from Weidman_Figures import *
    
fig, axes = Weid_Fig(height=4, fontsize=24)

hours = pd.read_csv('Part_1_5_Starbucks_Location_Hours.csv', index_col=0)
hours = hours[hours.countryCode.isin(['CA','US'])]
hours = hours[hours['open'] < 7]

bins = np.arange(0,25,1)
plt.hist(hours['duration_hr'], bins=bins, edgecolor='black')

plt.xlabel('Hours')
plt.xlim(0,24)
plt.ylabel('')
plt.title('Duration (open: 7AM or earlier; US & CA)')
plt.tight_layout()
plt.savefig('../Figures/Part_1_5_Starbucks_Time_Open_7AM_early_US_CA.png')


from Weidman_Figures import *
import ast
    
fig, axes = Weid_Fig(height=5, fontsize=24)

datasets = []
labels = []

hours = pd.read_csv('Part_1_5_Starbucks_Location_Hours.csv', index_col=0)

""" All """

datasets.append(hours)
labels.append("All")

""" Early """

datasets.append(hours[hours['open'] < 7])
labels.append("Early")

""" Late """

datasets.append(hours[hours['open'] >= 7])
labels.append("Late")

""" Early CA and US """

hours = hours[hours.countryCode.isin(['CA','US'])]
hours = hours[hours['open'] < 7]
datasets.append(hours)
labels.append("Early, US or CA")

bins = range(0, 24, 1)
for hours, label in zip(datasets, labels):
    
    counts = pd.cut(hours['duration_hr'], bins=bins, right=False, include_lowest=True).value_counts().sort_index()
    plt.plot(bins[1:], counts, marker='o', markerfacecolor='white', label=label)

    #counts, bin_edges = np.histogram(hours['duration_hr'], bins=bins, density=True)
    #plt.plot(bins[1:], counts, marker='o', markerfacecolor='white', label=label)

plt.xlabel('Hour of the Day')
plt.title('Duration')
axes.legend()
plt.tight_layout()
plt.savefig('../Figures/Part_1_5_Starbucks_Duration_Line.png')


from Weidman_Figures import *
import ast
    
fig, axes = Weid_Fig(height=5, fontsize=24)
datasets = []
labels = []
hours = pd.read_csv('Part_1_5_Starbucks_Location_Hours.csv', index_col=0)

""" All """
datasets.append(hours)
labels.append("All")
""" Early """
datasets.append(hours[hours['open'] < 7])
labels.append("Early")
""" Late """
datasets.append(hours[hours['open'] >= 7])
labels.append("Late")
""" Early CA and US """
hours_filtered = hours[hours.countryCode.isin(['CA','US'])]
hours_filtered = hours_filtered[hours_filtered['open'] < 7]
datasets.append(hours_filtered)
labels.append("Early, US or CA")

bins = range(0, 24, 1)
for hours_data, label in zip(datasets, labels):
    counts = pd.cut(hours_data['duration_hr'], bins=bins, right=False, include_lowest=True).value_counts().sort_index()
    # Normalize the counts
    normalized_counts = counts / counts.sum()
    plt.plot(bins[1:], normalized_counts, marker='o', markerfacecolor='white', label=label)

plt.xlabel('Hour of the Day')
plt.title('Normalized Duration')
plt.ylabel('')  # Added to clarify y-axis
axes.legend()
plt.tight_layout()
plt.savefig('../Figures/Part_1_5_Starbucks_Duration_Line_Normalized.png')
