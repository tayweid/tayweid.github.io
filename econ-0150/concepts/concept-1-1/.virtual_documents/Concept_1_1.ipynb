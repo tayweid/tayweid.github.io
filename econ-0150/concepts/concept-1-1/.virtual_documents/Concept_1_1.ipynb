


# Imports
import pandas as pd
import matplotlib.pyplot as plt
import seaborn as sns
import numpy as np

plt.rcParams.update({
    'font.family': 'serif',              # Set the font family
    'font.serif': ['Times New Roman'],   # Use a specific serif font
    'font.size': 16,                     # Set the general font size
    'axes.titlesize': 20,                # Set the font size of the title
    'axes.labelsize': 16,                # Set the font size of axis labels
    'font.style': 'italic',              # Set the font style to italic
    'figure.dpi': 400   
})

category_color_pal = sns.color_palette("hls", 8)#sns.color_palette("husl", 8)
continuous_color_pal = sns.color_palette("rocket_r", as_cmap=True)

# Color-State Mapping
coffee_shops = pd.read_csv('data/Coffee_Shops.csv')

category_counts = coffee_shops.STATE.value_counts().sample(frac=1)
state_order = category_counts.index
color_mapping = dict(zip(state_order, category_color_pal[:len(state_order)]))

binary_order = ['CA', 'Other']
binary_color_mapping = {'CA': category_color_pal[0], 'Other': 'grey'}


binary_color_mapping = {'CA': category_color_pal[0], 'Other': 'grey'}
binary_order = ['CA', 'Other']



# Load Dataset
coffee_shops = pd.read_csv('data/Coffee_Shops.csv')

# Figure
fig, (ax1, ax2) = plt.subplots(1, 2, figsize=(10, 4), gridspec_kw={'width_ratios': [1.2, 1]})

# Left
sns.countplot(data=coffee_shops, y='STATE', hue='STATE', ax=ax1, 
              palette=color_mapping,
              edgecolor='black', legend=False)
ax1.set_xlabel('')

# Right plot
category_counts = coffee_shops.STATE.value_counts().sample(frac=1)
ordered_counts = category_counts[state_order]
ordered_colors = [color_mapping[state] for state in state_order]

wedges, texts, autotexts = ax2.pie(
    ordered_counts.values, 
    labels=ordered_counts.index,
    autopct=lambda pct: f'{int(pct/100*sum(ordered_counts.values))}',
    colors=ordered_colors,
    startangle=90,
    wedgeprops={'edgecolor': 'black'}
)

# Styling
sns.despine()
plt.suptitle('Coffee Shops by State')

# Save Figure
plt.savefig('i/i_01.png')


# Load Dataset
coffee_shops = pd.read_csv('data/Coffee_Shops.csv')

# Figure
fig, (ax1, ax2) = plt.subplots(1, 2, figsize=(10, 4), gridspec_kw={'width_ratios': [1.2, 1]})

# Left
sns.countplot(data=coffee_shops, y='STATE', hue='STATE', ax=ax1, 
              palette=color_mapping,
              edgecolor='black', legend=False)
ax1.set_xlabel('')
# Add labels to all bars
for container in ax1.containers:
    ax1.bar_label(container, padding=3)

# Right plot
category_counts = coffee_shops.STATE.value_counts().sample(frac=1)
ordered_counts = category_counts[state_order]
ordered_colors = [color_mapping[state] for state in state_order]

wedges, texts, autotexts = ax2.pie(
    ordered_counts.values, 
    labels=ordered_counts.index,
    autopct=lambda pct: f'{int(pct/100*sum(ordered_counts.values))}',
    colors=ordered_colors,
    startangle=90,
    wedgeprops={'edgecolor': 'black'}
)

# Styling
sns.despine()
plt.suptitle('Coffee Shops by State')

# Save Figure
plt.savefig('i/i_02.png')


# Load Dataset
coffee_shops = pd.read_csv('data/Coffee_Shops.csv')

# Figure
fig, (ax1, ax2) = plt.subplots(1, 2, figsize=(10, 4), gridspec_kw={'width_ratios': [1.2, 1]})

# Left
sns.countplot(data=coffee_shops, y='STATE', hue='STATE', ax=ax1, 
              palette=color_mapping,
              edgecolor='black', legend=False)
ax1.set_xlabel('')
ax1.set_xticks([])
# Add labels to all bars
for container in ax1.containers:
    ax1.bar_label(container, padding=3)

# Right plot
category_counts = coffee_shops.STATE.value_counts().sample(frac=1)
ordered_counts = category_counts[state_order]
ordered_colors = [color_mapping[state] for state in state_order]

wedges, texts, autotexts = ax2.pie(
    ordered_counts.values, 
    labels=ordered_counts.index,
    autopct=lambda pct: f'{int(pct/100*sum(ordered_counts.values))}',
    colors=ordered_colors,
    startangle=90,
    wedgeprops={'edgecolor': 'black'}
)

# Styling
sns.despine(left=True, bottom=True, right=True, top=True)
plt.suptitle('Coffee Shops by State')

# Save Figure
plt.savefig('i/i_03.png')


# Load Dataset
coffee_shops = pd.read_csv('data/Coffee_Shops.csv')

# Figure
fig, (ax0, ax1, ax2) = plt.subplots(1, 3, figsize=(10, 4), gridspec_kw={'width_ratios': [0.5, 1.2, 0.5]})

# Main
sns.countplot(data=coffee_shops, y='STATE', hue='STATE', ax=ax1, 
              palette=color_mapping,
              edgecolor='black', legend=False)
ax1.set_xlabel('')
ax1.set_xticks([])
# Add labels to all bars
for container in ax1.containers:
    ax1.bar_label(container, padding=3)

# Styling
sns.despine(left=True, bottom=True, right=True, top=True)
plt.suptitle('Coffee Shops by State')

# Sides
for ax in [ax0,ax2]:
    ax.clear()
    ax.set_xlabel('')  # Clear x label
    ax.set_xticks([])
    ax.set_ylabel('')  # Clear y label  
    ax.set_yticks([])
    ax.set_title('')   # Clear title

# Save Figure
plt.savefig('i/i_04.png')


# Load Dataset
coffee_shops = pd.read_csv('data/Coffee_Shops.csv')

# Figure
fig, (ax0, ax1, ax2) = plt.subplots(1, 3, figsize=(10, 4), gridspec_kw={'width_ratios': [0.5, 1.2, 0.5]})

# Main
state_order = coffee_shops['STATE'].value_counts().index
sns.countplot(data=coffee_shops, y='STATE', hue='STATE', ax=ax1, 
              palette=color_mapping,
              edgecolor='black', legend=False,
              order=state_order
             )
ax1.set_xlabel('')
ax1.set_xticks([])
# Add labels to all bars
for container in ax1.containers:
    ax1.bar_label(container, padding=3)

# Styling
sns.despine(left=True, bottom=True, right=True, top=True)
plt.suptitle('Coffee Shops by State')

# Sides
for ax in [ax0,ax2]:
    ax.clear()
    ax.set_xlabel('')  # Clear x label
    ax.set_xticks([])
    ax.set_ylabel('')  # Clear y label  
    ax.set_yticks([])
    ax.set_title('')   # Clear title

# Save Figure
plt.savefig('i/i_05.png')


# Load Dataset
coffee_shops = pd.read_csv('data/Coffee_Shops.csv')

# Figure
fig, (ax1, ax2) = plt.subplots(1, 2, figsize=(10, 4), gridspec_kw={'width_ratios': [1.2, 1]})

# Left
state_order = coffee_shops['STATE'].value_counts().index
sns.countplot(data=coffee_shops, y='STATE', hue='STATE', ax=ax1, 
              palette=color_mapping,
              edgecolor='black', legend=False,
              order=state_order
             )
ax1.set_xlabel('')
ax1.set_xticks([])
# Add labels to all bars
for container in ax1.containers:
    ax1.bar_label(container, padding=3)

# Right plot
category_counts = coffee_shops.STATE.value_counts().sample(frac=1)
ordered_counts = category_counts[state_order]
ordered_colors = [color_mapping[state] for state in state_order]

wedges, texts, autotexts = ax2.pie(
    ordered_counts.values, 
    labels=ordered_counts.index,
    autopct=lambda pct: f'{int(pct/100*sum(ordered_counts.values))}',
    colors=ordered_colors,
    startangle=90,
    wedgeprops={'edgecolor': 'black'}
)

# Styling
sns.despine(left=True, bottom=True, right=True, top=True)
plt.suptitle('Coffee Shops by State')

# Save Figure
plt.savefig('i/i_06.png')


# Load Dataset
coffee_shops = pd.read_csv('data/Coffee_Shops.csv')
coffee_shops['STATE_BINARY'] = np.where(coffee_shops['STATE'] == 'CA', 'CA', 'Other')

# Figure
fig, (ax1, ax2) = plt.subplots(1, 2, figsize=(10, 4), gridspec_kw={'width_ratios': [1.2, 1]})

# Left
sns.countplot(data=coffee_shops, y='STATE_BINARY', hue='STATE_BINARY', ax=ax1, 
              palette=binary_color_mapping,
              edgecolor='black', legend=False)
ax1.set_xlabel('')
ax1.set_xticks([])
ax1.set_ylabel('STATE')
# Add labels to all bars
for container in ax1.containers:
    ax1.bar_label(container, padding=3)

# Right plot
category_counts = coffee_shops.STATE_BINARY.value_counts().sample(frac=1)
ordered_counts = category_counts[binary_order]
ordered_colors = [binary_color_mapping[state] for state in binary_order]

wedges, texts, autotexts = ax2.pie(
    category_counts.values, 
    labels=category_counts.index,
    autopct=lambda pct: f'{int(pct/100*sum(category_counts.values))}',
    colors=ordered_colors,
    startangle=90,
    wedgeprops={'edgecolor': 'black'}
)

# Styling
sns.despine(left=True, bottom=True, right=True, top=True)
plt.suptitle('Coffee Shops by State')

# Save Figure
plt.savefig('i/i_07.png')


# Load Dataset
coffee_shops = pd.read_csv('data/Coffee_Shops.csv')
coffee_shops['STATE_BINARY'] = np.where(coffee_shops['STATE'] == 'CA', 'CA', 'Other')

# Figure
fig, (ax1, ax2) = plt.subplots(1, 2, figsize=(10, 4), gridspec_kw={'width_ratios': [1.2, 1]})

# Left - Bar chart with percentages
sns.countplot(data=coffee_shops, y='STATE_BINARY', hue='STATE_BINARY', ax=ax1, 
              palette=binary_color_mapping,
              edgecolor='black', legend=False)
ax1.set_xlabel('')
ax1.set_xticks([])
ax1.set_ylabel('STATE')

# Add percentage labels to all bars
total_count = len(coffee_shops)
for patch in ax1.patches:
    width = patch.get_width()
    height = patch.get_height()
    x, y = patch.get_xy()
    percentage = (width / total_count) * 100
    ax1.text(width + total_count * 0.01,
             y + height/2,
             f'{percentage:.1f}%')

# Right plot - Pie chart with percentages
category_counts = coffee_shops.STATE_BINARY.value_counts().sample(frac=1)
ordered_counts = category_counts[binary_order]
ordered_colors = [binary_color_mapping[state] for state in binary_order]

wedges, texts, autotexts = ax2.pie(
    category_counts.values, 
    labels=category_counts.index,
    autopct='%1.1f%%',  # Show percentages instead of counts
    colors=ordered_colors,
    startangle=90,
    wedgeprops={'edgecolor': 'black'}
)

# Styling
sns.despine(left=True, bottom=True, right=True, top=True)
plt.suptitle('Coffee Shops by State')

# Save Figure
plt.savefig('i/i_08.png')





# Load Dataset
binary = pd.read_csv(file_path + 'employment_status.csv')

# Figure
plt.figure(figsize=(8, 3), dpi=400)
sns.countplot(binary, y='Employment Status', hue='Employment Status')

# Style
plt.title("Employment Status")
plt.ylabel("")
plt.xlabel("")
sns.despine(left=True, right=True, top=True)
plt.grid(False)
plt.tight_layout()

# Save Figure
plt.savefig('i/i_10.png')


# Load Dataset
nominal = pd.read_csv(file_path + 'employment_sector.csv')

# Figure
plt.figure(figsize=(8, 3))
sns.countplot(nominal, y='Sector', hue='Sector')

# Style
plt.title('Employment by Sector')
plt.ylabel("")
plt.xlabel("")
sns.despine(left=True, right=True, top=True)
plt.grid(False)
plt.tight_layout()

# Save Figure
plt.savefig('i/i_11.png')


# Load Dataset
optimism = pd.read_csv(file_path + 'economic_optimism.csv')

# Figure
plt.figure(figsize=(8, 3))
order = [
    'Very Optimistic',
    'Somewhat Optimistic',
    'Neutral',
    'Somewhat Pessimistic', 
    'Very Pessimistic', 
]
sns.countplot(optimism, y='Economic Optimism', hue='Economic Optimism', order=order)

# Style
plt.title('Economic Optimism')
plt.ylabel("")
plt.xlabel("")
sns.despine(left=True, right=True, top=True)
plt.grid(False)
plt.tight_layout()

# Save Figure
plt.savefig('i/i_12')
