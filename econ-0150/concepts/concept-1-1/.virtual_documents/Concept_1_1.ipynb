


from figures import *



coffee_shops = pd.read_csv('data/Coffee_Shops.csv')
category_counts = coffee_shops.STATE.value_counts().sample(frac=1)


fig, (ax1, ax2) = plt.subplots(1, 2, figsize=(10, 4), gridspec_kw={'width_ratios': [1.5, 1]})

fontsize= 10
plt.rcParams.update({
    'axes.titlesize': fontsize,
    'axes.labelsize': fontsize
})

ax1.barh(category_counts.index, category_counts.values, color=category_color_pal, edgecolor='black')

sns.despine()
ax1.grid(False)

def show_count(pct, allvals):
    absolute = int(round(pct/100.*sum(allvals)))
    return f'{absolute}'
    
wedges, texts, autotexts = ax2.pie(
    category_counts.values, 
    labels=category_counts.index,
    autopct=lambda pct: show_count(pct, category_counts.values),  # Display counts
    colors=category_color_pal,  # Use a color map for varied colors
    startangle=90,  # Rotate the start of the pie chart
    wedgeprops={'edgecolor': 'black'},  # Add a border around each slice
)

plt.savefig('i/i_01.png')


fig, (ax1, ax2) = plt.subplots(1, 2, figsize=(10, 4), gridspec_kw={'width_ratios': [1.5, 1]})
fontsize = 10
plt.rcParams.update({
    'axes.titlesize': fontsize,
    'axes.labelsize': fontsize
})

# Create horizontal bars and store them
bars = ax1.barh(category_counts.index, category_counts.values, color=category_color_pal, edgecolor='black')

# Add count labels at the end of each bar
ax1.bar_label(bars, padding=3)  # padding adds space between bar and text

sns.despine()
ax1.grid(False)

def show_count(pct, allvals):
    absolute = int(round(pct/100.*sum(allvals)))
    return f'{absolute}'
    
wedges, texts, autotexts = ax2.pie(
    category_counts.values, 
    labels=category_counts.index,
    autopct=lambda pct: show_count(pct, category_counts.values),  # Display counts
    colors=category_color_pal,  # Use a color map for varied colors
    startangle=90,  # Rotate the start of the pie chart
    wedgeprops={'edgecolor': 'black'},  # Add a border around each slice
)

plt.savefig('i/i_02.png')


fig, (ax1, ax2) = plt.subplots(1, 2, figsize=(10, 4), gridspec_kw={'width_ratios': [1.5, 1]})
fontsize = 10
plt.rcParams.update({
    'axes.titlesize': fontsize,
    'axes.labelsize': fontsize
})

# Create horizontal bars and store them
bars = ax1.barh(category_counts.index, category_counts.values, color=category_color_pal, edgecolor='black')

# Add count labels at the end of each bar
ax1.bar_label(bars, padding=3)  # padding adds space between bar and text

sns.despine(left=True, bottom=True)
ax1.grid(False)

# Remove x-axis
ax1.set_xticks([])  # Remove x-axis ticks
ax1.set_xlabel('')  # Remove x-axis label if you had one

def show_count(pct, allvals):
    absolute = int(round(pct/100.*sum(allvals)))
    return f'{absolute}'
    
wedges, texts, autotexts = ax2.pie(
    category_counts.values, 
    labels=category_counts.index,
    autopct=lambda pct: show_count(pct, category_counts.values),  # Display counts
    colors=category_color_pal,  # Use a color map for varied colors
    startangle=90,  # Rotate the start of the pie chart
    wedgeprops={'edgecolor': 'black'},  # Add a border around each slice
)

plt.savefig('i/i_03.png')


coffee_shops = pd.read_csv('data/Coffee_Shops.csv')
category_counts = coffee_shops.STATE.value_counts().sample(frac=1)
fig, ax = plt.subplots(1, 1, figsize=(6, 4))
fontsize = 10
plt.rcParams.update({
    'axes.titlesize': fontsize,
    'axes.labelsize': fontsize
})

# Create horizontal bars and store them
bars = ax.barh(category_counts.index, category_counts.values, color=category_color_pal, edgecolor='black')

# Add count labels at the end of each bar
ax.bar_label(bars, padding=3)  # padding adds space between bar and text

sns.despine(left=True, bottom=True)
ax.grid(False)

# Remove x-axis
ax.set_xticks([])  # Remove x-axis ticks
ax.set_xlabel('')  # Remove x-axis label if you had one

plt.savefig('i/i_04.png')


coffee_shops = pd.read_csv('data/Coffee_Shops.csv')
category_counts = coffee_shops.STATE.value_counts()
fig, ax = plt.subplots(1, 1, figsize=(6, 4))
fontsize = 10
plt.rcParams.update({
    'axes.titlesize': fontsize,
    'axes.labelsize': fontsize
})

# Create horizontal bars and store them
bars = ax.barh(category_counts.index, category_counts.values, color=category_color_pal, edgecolor='black')

# Add count labels at the end of each bar
ax.bar_label(bars, padding=3)  # padding adds space between bar and text

sns.despine(left=True, bottom=True)
ax.grid(False)

# Remove x-axis
ax.set_xticks([])  # Remove x-axis ticks
ax.set_xlabel('')  # Remove x-axis label if you had one

plt.savefig('i/i_05.png')


coffee_shops = pd.read_csv('data/Coffee_Shops.csv')
category_counts = coffee_shops.STATE.value_counts()
fig, (ax1, ax2) = plt.subplots(1, 2, figsize=(10, 4), gridspec_kw={'width_ratios': [1.5, 1]})
fontsize = 10
plt.rcParams.update({
    'axes.titlesize': fontsize,
    'axes.labelsize': fontsize
})

# Create horizontal bars and store them (unchanged)
bars = ax1.barh(category_counts.index, category_counts.values, color=category_color_pal, edgecolor='black')
# Add count labels at the end of each bar
ax1.bar_label(bars, padding=3)
sns.despine(left=True, bottom=True)
ax1.grid(False)
# Remove x-axis
ax1.set_xticks([])
ax1.set_xlabel('')

# Create binary categorical variable for California
target_category = 'CA'
# Get California count from the original counts
ca_counts = coffee_shops.STATE.value_counts()  # Get unshuffled counts to ensure CA is included
target_count = ca_counts.get(target_category, 0)
others_count = ca_counts.sum() - target_count

# Prepare binary data for the pie chart
labels = [target_category, 'Other States']
sizes = [target_count, others_count]
colors = [category_color_pal[0], 'lightgrey']  # Use first color for CA, grey for others

wedges, texts, autotexts = ax2.pie(
    sizes, 
    labels=labels,
    autopct='%1.1f%%',  # Show percentages
    colors=colors,
    startangle=90,
    wedgeprops={'edgecolor': 'black'},
)

plt.tight_layout()

plt.savefig('i/i_06.png')


coffee_shops = pd.read_csv('data/Coffee_Shops.csv')
category_counts = coffee_shops.STATE.value_counts()
fig, (ax1, ax2) = plt.subplots(1, 2, figsize=(10, 4), gridspec_kw={'width_ratios': [1.5, 1]})
fontsize = 10
plt.rcParams.update({
    'axes.titlesize': fontsize,
    'axes.labelsize': fontsize
})

# Create horizontal bars and store them (unchanged)
bars = ax1.barh(category_counts.index, category_counts.values, color=category_color_pal, edgecolor='black')
ax1.bar_label(bars, padding=3)
sns.despine(left=True, bottom=True)
ax1.grid(False)
ax1.set_xticks([])
ax1.set_xlabel('')

# Create binary categorical variable for California
target_category = 'CA'
ca_counts = coffee_shops.STATE.value_counts()
target_count = ca_counts.get(target_category, 0)
others_count = ca_counts.sum() - target_count

# Prepare binary data
labels = [target_category, 'Other States']
sizes = [target_count, others_count]
colors = [category_color_pal[0], 'lightgrey']

def show_count(pct, allvals):
    absolute = int(round(pct/100.*sum(allvals)))
    return f'{absolute}'

wedges, texts, autotexts = ax2.pie(
    sizes, 
    labels=labels,
    autopct=lambda pct: show_count(pct, sizes),  # Display counts
    colors=colors,
    startangle=90,
    wedgeprops={'edgecolor': 'black'},
)

plt.tight_layout()

plt.savefig('i/i_07.png')


coffee_shops = pd.read_csv('data/Coffee_Shops.csv')
fig, (ax1, ax2) = plt.subplots(1, 2, figsize=(10, 4), gridspec_kw={'width_ratios': [1, 1.5]})
fontsize = 10
plt.rcParams.update({
    'axes.titlesize': fontsize,
    'axes.labelsize': fontsize
})

# Create binary categorical variable for California
target_category = 'CA'
ca_counts = coffee_shops.STATE.value_counts()
target_count = ca_counts.get(target_category, 0)
others_count = ca_counts.sum() - target_count

# Prepare binary data
labels = [target_category, 'Other States']
sizes = [target_count, others_count]
colors = [category_color_pal[0], 'lightgrey']

# Create horizontal bars for binary data
bars = ax1.barh(labels, sizes, color=colors, edgecolor='black')
ax1.bar_label(bars, padding=3)
sns.despine(left=True, bottom=True)
ax1.grid(False)
ax1.set_xticks([])
ax1.set_xlabel('')

# Create pie chart with same binary data
def show_count(pct, allvals):
    absolute = int(round(pct/100.*sum(allvals)))
    return f'{absolute}'

wedges, texts, autotexts = ax2.pie(
    sizes, 
    labels=labels,
    autopct=lambda pct: show_count(pct, sizes),  # Display counts
    colors=colors,
    startangle=90,
    wedgeprops={'edgecolor': 'black'},
)

plt.tight_layout()

plt.savefig('i/i_08.png')


coffee_shops = pd.read_csv('data/Coffee_Shops.csv')
fig, (ax1, ax2) = plt.subplots(1, 2, figsize=(10, 4), gridspec_kw={'width_ratios': [1, 1]})
fontsize = 10
plt.rcParams.update({
    'axes.titlesize': fontsize,
    'axes.labelsize': fontsize
})

# Create binary categorical variable for California
target_category = 'CA'
ca_counts = coffee_shops.STATE.value_counts()
target_count = ca_counts.get(target_category, 0)
others_count = ca_counts.sum() - target_count

# Prepare binary data
labels = [f'California\n({target_count:,} shops)', f'Other States\n({others_count:,} shops)']
sizes = [target_count, others_count]
colors = [category_color_pal[0], 'lightgrey']

# Create horizontal bars for binary data
bars = ax1.barh([target_category, 'Other States'], sizes, color=colors, edgecolor='black')
ax1.bar_label(bars, padding=3)
sns.despine(left=True, bottom=True)
ax1.grid(False)
ax1.set_xticks([])
ax1.set_xlabel('')

# Create pie chart with percentages
wedges, texts, autotexts = ax2.pie(
    sizes, 
    labels=['CA', 'Other States'],
    autopct='%1.1f%%',  # Show percentages
    colors=colors,
    startangle=90,
    wedgeprops={'edgecolor': 'black'},
)

plt.tight_layout()

plt.savefig('i/i_09.png')


# Imports
import pandas as pd
import matplotlib.pyplot as plt
import seaborn as sns
import numpy as np

file_path = 'data/'

plt.rcParams.update({
    'font.family': 'serif',              # Set the font family
    'font.serif': ['Times New Roman'],   # Use a specific serif font
    'font.size': 16,                     # Set the general font size
    'axes.titlesize': 20,                # Set the font size of the title
    'axes.labelsize': 16,                # Set the font size of axis labels
    'font.style': 'italic',              # Set the font style to italic
    'figure.dpi': 400   
})

category_color_pal = sns.color_palette("hls", 8)#sns.color_palette("husl", 8)
continuous_color_pal = sns.color_palette("rocket_r", as_cmap=True)





# Load Dataset
binary = pd.read_csv(file_path + 'employment_status.csv')

# Figure
plt.figure(figsize=(8, 3), dpi=400)
sns.countplot(binary, y='Employment Status', hue='Employment Status')

# Style
plt.title("Employment Status")
plt.ylabel("")
plt.xlabel("")
sns.despine(left=True, right=True, top=True)
plt.grid(False)
plt.tight_layout()

# Save Figure
plt.savefig('i/i_10.png')


# Load Dataset
nominal = pd.read_csv(file_path + 'employment_sector.csv')

# Figure
plt.figure(figsize=(8, 3))
sns.countplot(nominal, y='Sector', hue='Sector')

# Style
plt.title('Employment by Sector')
plt.ylabel("")
plt.xlabel("")
sns.despine(left=True, right=True, top=True)
plt.grid(False)
plt.tight_layout()

# Save Figure
plt.savefig('i/i_11.png')


# Load Dataset
optimism = pd.read_csv(file_path + 'economic_optimism.csv')

# Figure
plt.figure(figsize=(8, 3))
order = [
    'Very Optimistic',
    'Somewhat Optimistic',
    'Neutral',
    'Somewhat Pessimistic', 
    'Very Pessimistic', 
]
sns.countplot(optimism, y='Economic Optimism', hue='Economic Optimism', order=order)

# Style
plt.title('Economic Optimism')
plt.ylabel("")
plt.xlabel("")
sns.despine(left=True, right=True, top=True)
plt.grid(False)
plt.tight_layout()

# Save Figure
plt.savefig('i/i_12')
