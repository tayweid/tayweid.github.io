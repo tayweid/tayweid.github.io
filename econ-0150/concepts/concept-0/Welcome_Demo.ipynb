{
 "cells": [
  {
   "cell_type": "markdown",
   "metadata": {
    "id": "WIWgf3DK9avt"
   },
   "source": [
    "# Economic Data Analysis | Welcome Demo\n",
    "\n",
    "Let's get to know the class!"
   ]
  },
  {
   "cell_type": "code",
   "execution_count": 21,
   "metadata": {
    "colab": {
     "base_uri": "https://localhost:8080/"
    },
    "executionInfo": {
     "elapsed": 667,
     "status": "ok",
     "timestamp": 1756226174529,
     "user": {
      "displayName": "Taylor Weidman",
      "userId": "16577002144276436003"
     },
     "user_tz": 240
    },
    "id": "TYzeE3RuLrew",
    "outputId": "2f55def8-8278-49f4-dc31-92c0f76d8c69"
   },
   "outputs": [],
   "source": [
    "import pandas as pd\n",
    "import seaborn as sns\n",
    "import matplotlib.pyplot as plt\n",
    "import numpy as np\n",
    "\n",
    "file_path = 'https://tayweid.github.io/econ-0150/concepts/concept-0/data/'"
   ]
  },
  {
   "cell_type": "markdown",
   "metadata": {
    "id": "3irqE5bnQNtR"
   },
   "source": [
    "## Load The Data"
   ]
  },
  {
   "cell_type": "code",
   "execution_count": null,
   "metadata": {
    "colab": {
     "base_uri": "https://localhost:8080/",
     "height": 432
    },
    "executionInfo": {
     "elapsed": 95,
     "status": "ok",
     "timestamp": 1756226176661,
     "user": {
      "displayName": "Taylor Weidman",
      "userId": "16577002144276436003"
     },
     "user_tz": 240
    },
    "id": "yenQJR3qQPuY",
    "outputId": "b3e2a5ff-9e96-435d-9c3d-9b339dac38d2"
   },
   "outputs": [],
   "source": [
    "data = pd.read_csv(file_path + 'Fall_2025_Survey.csv')\n",
    "data.head()"
   ]
  }
 ],
 "metadata": {
  "colab": {
   "provenance": [
    {
     "file_id": "1lGR7ZaAI68Jx5tDIfNrNFGPwpbg6BVAz",
     "timestamp": 1756142373514
    }
   ]
  },
  "kernelspec": {
   "display_name": "Python 3 (ipykernel)",
   "language": "python",
   "name": "python3"
  },
  "language_info": {
   "codemirror_mode": {
    "name": "ipython",
    "version": 3
   },
   "file_extension": ".py",
   "mimetype": "text/x-python",
   "name": "python",
   "nbconvert_exporter": "python",
   "pygments_lexer": "ipython3",
   "version": "3.11.8"
  }
 },
 "nbformat": 4,
 "nbformat_minor": 4
}
