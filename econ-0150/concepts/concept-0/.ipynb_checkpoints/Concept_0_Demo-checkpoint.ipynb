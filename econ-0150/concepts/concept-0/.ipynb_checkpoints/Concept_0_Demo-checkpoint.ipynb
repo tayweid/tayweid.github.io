{
 "cells": [
  {
   "cell_type": "markdown",
   "metadata": {
    "id": "WIWgf3DK9avt"
   },
   "source": [
    "# Economic Data Analysis | Day 1 Demo\n",
    "\n",
    "Let's get to know the class!"
   ]
  },
  {
   "cell_type": "code",
   "execution_count": 1,
   "metadata": {
    "executionInfo": {
     "elapsed": 1145,
     "status": "ok",
     "timestamp": 1756142868263,
     "user": {
      "displayName": "Taylor Weidman",
      "userId": "16577002144276436003"
     },
     "user_tz": 240
    },
    "id": "oSApzuNgQ6Uz"
   },
   "outputs": [],
   "source": [
    "import pandas as pd\n",
    "import seaborn as sns\n",
    "import matplotlib.pyplot as plt\n",
    "import numpy as np\n",
    "\n",
    "#file_path = 'https://tayweid.github.io/econ-0150/concepts/concept-0/data/'\n",
    "file_path = 'data/'"
   ]
  },
  {
   "cell_type": "markdown",
   "metadata": {
    "jp-MarkdownHeadingCollapsed": true
   },
   "source": [
    "## Data Cleaning"
   ]
  },
  {
   "cell_type": "code",
   "execution_count": 2,
   "metadata": {},
   "outputs": [
    {
     "data": {
      "text/html": [
       "<div>\n",
       "<style scoped>\n",
       "    .dataframe tbody tr th:only-of-type {\n",
       "        vertical-align: middle;\n",
       "    }\n",
       "\n",
       "    .dataframe tbody tr th {\n",
       "        vertical-align: top;\n",
       "    }\n",
       "\n",
       "    .dataframe thead th {\n",
       "        text-align: right;\n",
       "    }\n",
       "</style>\n",
       "<table border=\"1\" class=\"dataframe\">\n",
       "  <thead>\n",
       "    <tr style=\"text-align: right;\">\n",
       "      <th></th>\n",
       "      <th>Timestamp</th>\n",
       "      <th>First and Last Initials (eg. Taylor Weidman -&gt; TW)</th>\n",
       "      <th>When is your birthday?</th>\n",
       "      <th>What is your favorite color?</th>\n",
       "      <th>Approximately how many miles away from Pittsburgh is your hometown?</th>\n",
       "      <th>What is your (primary) major?</th>\n",
       "      <th>How much did you like your statistics class?</th>\n",
       "      <th>How excited are you for this class?</th>\n",
       "      <th>Do you feel confident in Excel?</th>\n",
       "      <th>How confident do you feel in python?</th>\n",
       "    </tr>\n",
       "  </thead>\n",
       "  <tbody>\n",
       "    <tr>\n",
       "      <th>0</th>\n",
       "      <td>2025/08/26 1:03:40 PM AST</td>\n",
       "      <td>JC</td>\n",
       "      <td>2003-10-12</td>\n",
       "      <td>Blue</td>\n",
       "      <td>400</td>\n",
       "      <td>Accounting</td>\n",
       "      <td>7</td>\n",
       "      <td>9</td>\n",
       "      <td>Yes</td>\n",
       "      <td>10</td>\n",
       "    </tr>\n",
       "    <tr>\n",
       "      <th>1</th>\n",
       "      <td>2025/08/26 1:48:49 PM AST</td>\n",
       "      <td>TL</td>\n",
       "      <td>2003-06-06</td>\n",
       "      <td>Blue</td>\n",
       "      <td>16</td>\n",
       "      <td>Other</td>\n",
       "      <td>7</td>\n",
       "      <td>7</td>\n",
       "      <td>No</td>\n",
       "      <td>5</td>\n",
       "    </tr>\n",
       "    <tr>\n",
       "      <th>2</th>\n",
       "      <td>2025/08/26 1:49:32 PM AST</td>\n",
       "      <td>LT</td>\n",
       "      <td>2005-07-06</td>\n",
       "      <td>Green</td>\n",
       "      <td>300</td>\n",
       "      <td>Data Science</td>\n",
       "      <td>9</td>\n",
       "      <td>8</td>\n",
       "      <td>Yes</td>\n",
       "      <td>9</td>\n",
       "    </tr>\n",
       "    <tr>\n",
       "      <th>3</th>\n",
       "      <td>2025/08/26 1:50:09 PM AST</td>\n",
       "      <td>KM</td>\n",
       "      <td>2004-10-04</td>\n",
       "      <td>Blue</td>\n",
       "      <td>300</td>\n",
       "      <td>Computer Science</td>\n",
       "      <td>8</td>\n",
       "      <td>9</td>\n",
       "      <td>Yes</td>\n",
       "      <td>8</td>\n",
       "    </tr>\n",
       "    <tr>\n",
       "      <th>4</th>\n",
       "      <td>2025/08/26 1:50:18 PM AST</td>\n",
       "      <td>DC</td>\n",
       "      <td>2006-09-09</td>\n",
       "      <td>Melon Green</td>\n",
       "      <td>400</td>\n",
       "      <td>Finance</td>\n",
       "      <td>9</td>\n",
       "      <td>10</td>\n",
       "      <td>Yes</td>\n",
       "      <td>9</td>\n",
       "    </tr>\n",
       "  </tbody>\n",
       "</table>\n",
       "</div>"
      ],
      "text/plain": [
       "                   Timestamp  \\\n",
       "0  2025/08/26 1:03:40 PM AST   \n",
       "1  2025/08/26 1:48:49 PM AST   \n",
       "2  2025/08/26 1:49:32 PM AST   \n",
       "3  2025/08/26 1:50:09 PM AST   \n",
       "4  2025/08/26 1:50:18 PM AST   \n",
       "\n",
       "  First and Last Initials (eg. Taylor Weidman -> TW) When is your birthday?  \\\n",
       "0                                                 JC             2003-10-12   \n",
       "1                                                 TL             2003-06-06   \n",
       "2                                                 LT             2005-07-06   \n",
       "3                                                 KM             2004-10-04   \n",
       "4                                                 DC             2006-09-09   \n",
       "\n",
       "  What is your favorite color?  \\\n",
       "0                         Blue   \n",
       "1                         Blue   \n",
       "2                        Green   \n",
       "3                         Blue   \n",
       "4                  Melon Green   \n",
       "\n",
       "  Approximately how many miles away from Pittsburgh is your hometown?  \\\n",
       "0                                                400                    \n",
       "1                                                 16                    \n",
       "2                                                300                    \n",
       "3                                                300                    \n",
       "4                                                400                    \n",
       "\n",
       "  What is your (primary) major?  How much did you like your statistics class?  \\\n",
       "0                    Accounting                                             7   \n",
       "1                         Other                                             7   \n",
       "2                  Data Science                                             9   \n",
       "3              Computer Science                                             8   \n",
       "4                       Finance                                             9   \n",
       "\n",
       "   How excited are you for this class? Do you feel confident in Excel?  \\\n",
       "0                                    9                             Yes   \n",
       "1                                    7                              No   \n",
       "2                                    8                             Yes   \n",
       "3                                    9                             Yes   \n",
       "4                                   10                             Yes   \n",
       "\n",
       "   How confident do you feel in python?  \n",
       "0                                    10  \n",
       "1                                     5  \n",
       "2                                     9  \n",
       "3                                     8  \n",
       "4                                     9  "
      ]
     },
     "execution_count": 2,
     "metadata": {},
     "output_type": "execute_result"
    }
   ],
   "source": [
    "data = pd.read_csv(file_path + 'Fall_2025_Survey_raw.csv')\n",
    "data.head()"
   ]
  },
  {
   "cell_type": "code",
   "execution_count": 3,
   "metadata": {},
   "outputs": [],
   "source": [
    "data = pd.read_csv(file_path + 'Fall_2025_Survey_raw.csv')\n",
    "\n",
    "# Date\n",
    "data['When is your birthyear?'] = pd.to_datetime(data['When is your birthday?']).dt.year\n",
    "data['When is your birthmonth?'] = pd.to_datetime(data['When is your birthday?']).dt.month\n",
    "\n",
    "# Color\n",
    "color_mapping = {\n",
    "    # Standardize capitalization\n",
    "    'blue': 'Blue',\n",
    "    'purple': 'Purple', \n",
    "    'green': 'Green',\n",
    "    'red': 'Red',\n",
    "    'yellow': 'Yellow',\n",
    "    'pink': 'Pink',\n",
    "    'orange': 'Orange',\n",
    "    'black': 'Black',\n",
    "    \n",
    "    # Fix typos\n",
    "    'Greeen': 'Green',\n",
    "    \n",
    "    # Group light/dark variations with main color\n",
    "    'Light Blue': 'Blue',\n",
    "    'Dark blue': 'Blue',\n",
    "    'Navy blue': 'Blue', \n",
    "    'Navy Blue': 'Blue',\n",
    "    'Baby Blue': 'Blue',\n",
    "    \n",
    "    'Dark Green': 'Green',\n",
    "    'Dark green': 'Green', \n",
    "    'dark green': 'Green',\n",
    "    'Melon Green': 'Green',  # Assuming this is a green shade\n",
    "    \n",
    "    'Deep Red': 'Red',\n",
    "    \n",
    "    # Standardize other colors\n",
    "    'white': 'White',\n",
    "    'Grey': 'Gray',  # or keep as 'Grey' if you prefer\n",
    "    'Gold': 'Yellow',  # Gold is yellowish\n",
    "    \n",
    "    # Handle the complex answer - they said green as backup\n",
    "    'Black (if that doesn’t count then probably green)': 'Black',\n",
    "}\n",
    "data['What is your favorite color?'] = data['What is your favorite color?'].replace(color_mapping)\n",
    "\n",
    "# Distance\n",
    "data['Approximately how many miles away from Pittsburgh is your hometown?'] = data['Approximately how many miles away from Pittsburgh is your hometown?'].str.extract(r'(\\d+(?:\\.\\d+)?)', expand=False).astype(float)\n",
    "\n",
    "# Save\n",
    "data.to_csv(file_path + 'Fall_2025_Survey.csv')"
   ]
  },
  {
   "cell_type": "markdown",
   "metadata": {
    "id": "3irqE5bnQNtR"
   },
   "source": [
    "## Load The Data"
   ]
  },
  {
   "cell_type": "code",
   "execution_count": null,
   "metadata": {
    "colab": {
     "base_uri": "https://localhost:8080/",
     "height": 504
    },
    "executionInfo": {
     "elapsed": 106,
     "status": "ok",
     "timestamp": 1756142840330,
     "user": {
      "displayName": "Taylor Weidman",
      "userId": "16577002144276436003"
     },
     "user_tz": 240
    },
    "id": "yenQJR3qQPuY",
    "outputId": "00187cf6-d9c4-41e1-bbbf-3c161b349c01"
   },
   "outputs": [],
   "source": [
    "data = pd.read_csv(file_path + 'Fall_2025_Survey.csv')\n",
    "data.head()"
   ]
  },
  {
   "cell_type": "markdown",
   "metadata": {},
   "source": [
    "## Birthday"
   ]
  },
  {
   "cell_type": "code",
   "execution_count": null,
   "metadata": {},
   "outputs": [],
   "source": [
    "data = pd.read_csv(file_path + 'Fall_2025_Survey.csv')\n",
    "\n",
    "# Create the plot\n",
    "bins = np.arange(2000,2010,1)\n",
    "sns.histplot(data=data, x='year', bins=bins-0.5)\n",
    "plt.title('Count of Birthdays by Year')\n",
    "plt.xticks(bins)\n",
    "plt.ylabel('Year');"
   ]
  },
  {
   "cell_type": "markdown",
   "metadata": {},
   "source": [
    "## Favorite Color"
   ]
  },
  {
   "cell_type": "code",
   "execution_count": null,
   "metadata": {},
   "outputs": [],
   "source": [
    "data['What is your favorite color?'].value_counts()"
   ]
  },
  {
   "cell_type": "markdown",
   "metadata": {},
   "source": [
    "## Hometown Distance"
   ]
  },
  {
   "cell_type": "code",
   "execution_count": null,
   "metadata": {
    "colab": {
     "base_uri": "https://localhost:8080/",
     "height": 449
    },
    "executionInfo": {
     "elapsed": 140,
     "status": "ok",
     "timestamp": 1756144193157,
     "user": {
      "displayName": "Taylor Weidman",
      "userId": "16577002144276436003"
     },
     "user_tz": 240
    },
    "id": "8a0aBEMyWKpd",
    "outputId": "238a1263-5d86-4cbc-cc2b-275c8185e659"
   },
   "outputs": [],
   "source": [
    "data['Approximately how many miles away from Pittsburgh is your hometown?'].value_counts()"
   ]
  },
  {
   "cell_type": "code",
   "execution_count": null,
   "metadata": {
    "colab": {
     "base_uri": "https://localhost:8080/",
     "height": 449
    },
    "executionInfo": {
     "elapsed": 199,
     "status": "ok",
     "timestamp": 1756144276024,
     "user": {
      "displayName": "Taylor Weidman",
      "userId": "16577002144276436003"
     },
     "user_tz": 240
    },
    "id": "NwGrPI0aWr7a",
    "outputId": "02196dd7-f329-4a39-f9f5-07ee2a5b0383"
   },
   "outputs": [],
   "source": [
    "sns.histplot(x='Approximately how many miles away from Pittsburgh is your hometown?', data=data);"
   ]
  },
  {
   "cell_type": "markdown",
   "metadata": {},
   "source": [
    "## Primary Major?"
   ]
  },
  {
   "cell_type": "code",
   "execution_count": null,
   "metadata": {
    "colab": {
     "base_uri": "https://localhost:8080/",
     "height": 401
    },
    "executionInfo": {
     "elapsed": 843,
     "status": "ok",
     "timestamp": 1756143384656,
     "user": {
      "displayName": "Taylor Weidman",
      "userId": "16577002144276436003"
     },
     "user_tz": 240
    },
    "id": "WGkpWET3cKwW",
    "outputId": "109d16ad-bf25-4166-ffe2-0233b3ba6c63"
   },
   "outputs": [],
   "source": [
    "data['What is your (primary) major?'].value_counts()"
   ]
  },
  {
   "cell_type": "code",
   "execution_count": null,
   "metadata": {},
   "outputs": [],
   "source": [
    "order = data['What is your (primary) major?'].value_counts().index\n",
    "sns.countplot(data=data, y='What is your (primary) major?', order=order);"
   ]
  },
  {
   "cell_type": "markdown",
   "metadata": {},
   "source": [
    "## Statistics"
   ]
  },
  {
   "cell_type": "code",
   "execution_count": null,
   "metadata": {
    "colab": {
     "base_uri": "https://localhost:8080/",
     "height": 430
    },
    "executionInfo": {
     "elapsed": 826,
     "status": "ok",
     "timestamp": 1736900577541,
     "user": {
      "displayName": "Taylor Weidman",
      "userId": "16577002144276436003"
     },
     "user_tz": 300
    },
    "id": "vtZRXs2OcR_A",
    "outputId": "632b5184-cc5c-4b25-b23c-77158c539dfe"
   },
   "outputs": [],
   "source": [
    "sns.histplot(x='How much did you like your statistics class?', data=data, bins=range(0,11,1))"
   ]
  },
  {
   "cell_type": "markdown",
   "metadata": {},
   "source": [
    "## Statistics and Economic Data Analysis"
   ]
  },
  {
   "cell_type": "code",
   "execution_count": null,
   "metadata": {},
   "outputs": [],
   "source": [
    "sns.scatterplot(data=data, x='How much did you like your statistics class?', y='How excited are you for this class?')"
   ]
  },
  {
   "cell_type": "code",
   "execution_count": null,
   "metadata": {},
   "outputs": [],
   "source": [
    "x_jitter = data['How much did you like your statistics class?'] + np.random.normal(0, 0.1, len(data))\n",
    "y_jitter = data['How excited are you for this class?'] + np.random.normal(0, 0.1, len(data))\n",
    "\n",
    "sns.scatterplot(x=x_jitter, y=y_jitter, alpha=0.7)\n",
    "plt.xlabel('How much did you like your statistics class?')\n",
    "plt.ylabel('How excited are you for this class?')"
   ]
  },
  {
   "cell_type": "markdown",
   "metadata": {},
   "source": [
    "## Economic Data and Excel"
   ]
  },
  {
   "cell_type": "code",
   "execution_count": null,
   "metadata": {},
   "outputs": [],
   "source": [
    "sns.countplot(data=data, y='Do you feel confident in Excel?')"
   ]
  },
  {
   "cell_type": "code",
   "execution_count": null,
   "metadata": {},
   "outputs": [],
   "source": [
    "# Boxplot for summary\n",
    "sns.boxplot(data=data, y='Do you feel confident in Excel?', \n",
    "            x='How excited are you for this class?')\n",
    "\n",
    "# Stripplot with manual x jitter\n",
    "x_jittered = data['How excited are you for this class?'] + np.random.normal(0, 0.1, len(data))\n",
    "sns.stripplot(y=data['Do you feel confident in Excel?'], \n",
    "              x=x_jittered,\n",
    "              color='firebrick',\n",
    "              alpha=0.3, s=10)"
   ]
  },
  {
   "cell_type": "markdown",
   "metadata": {},
   "source": [
    "## Economic Data and Python"
   ]
  },
  {
   "cell_type": "code",
   "execution_count": null,
   "metadata": {},
   "outputs": [],
   "source": [
    "data['How confident do you feel in python?'].hist()"
   ]
  },
  {
   "cell_type": "code",
   "execution_count": null,
   "metadata": {},
   "outputs": [],
   "source": [
    "x_jitter = data['How confident do you feel in python?'] + np.random.normal(0, 0.2, len(data))\n",
    "y_jitter = data['How excited are you for this class?'] + np.random.normal(0, 0.2, len(data))\n",
    "\n",
    "sns.scatterplot(x=x_jitter, y=y_jitter, alpha=0.7)\n",
    "plt.xlabel('How confident do you feel in python?')\n",
    "plt.ylabel('How excited are you for this class?')"
   ]
  }
 ],
 "metadata": {
  "colab": {
   "provenance": [
    {
     "file_id": "1lGR7ZaAI68Jx5tDIfNrNFGPwpbg6BVAz",
     "timestamp": 1756142373514
    }
   ]
  },
  "kernelspec": {
   "display_name": "Python 3 (ipykernel)",
   "language": "python",
   "name": "python3"
  },
  "language_info": {
   "codemirror_mode": {
    "name": "ipython",
    "version": 3
   },
   "file_extension": ".py",
   "mimetype": "text/x-python",
   "name": "python",
   "nbconvert_exporter": "python",
   "pygments_lexer": "ipython3",
   "version": "3.11.8"
  }
 },
 "nbformat": 4,
 "nbformat_minor": 4
}
