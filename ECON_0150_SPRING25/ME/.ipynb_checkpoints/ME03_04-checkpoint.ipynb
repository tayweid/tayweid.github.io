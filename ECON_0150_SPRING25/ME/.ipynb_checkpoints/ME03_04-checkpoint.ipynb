{
 "cells": [
  {
   "cell_type": "code",
   "execution_count": 1,
   "metadata": {},
   "outputs": [
    {
     "ename": "ModuleNotFoundError",
     "evalue": "No module named 'Weidman_Figures'",
     "output_type": "error",
     "traceback": [
      "\u001b[0;31m---------------------------------------------------------------------------\u001b[0m",
      "\u001b[0;31mModuleNotFoundError\u001b[0m                       Traceback (most recent call last)",
      "Cell \u001b[0;32mIn[1], line 1\u001b[0m\n\u001b[0;32m----> 1\u001b[0m \u001b[38;5;28;01mfrom\u001b[39;00m \u001b[38;5;21;01mWeidman_Figures\u001b[39;00m \u001b[38;5;28;01mimport\u001b[39;00m \u001b[38;5;241m*\u001b[39m\n\u001b[1;32m      3\u001b[0m fig, ax \u001b[38;5;241m=\u001b[39m Weid_Fig(height\u001b[38;5;241m=\u001b[39m\u001b[38;5;241m6\u001b[39m, widths\u001b[38;5;241m=\u001b[39m\u001b[38;5;241m6\u001b[39m, fontsize\u001b[38;5;241m=\u001b[39m\u001b[38;5;241m24\u001b[39m)\n\u001b[1;32m      5\u001b[0m data \u001b[38;5;241m=\u001b[39m {\n\u001b[1;32m      6\u001b[0m     \u001b[38;5;124m'\u001b[39m\u001b[38;5;124mcountry\u001b[39m\u001b[38;5;124m'\u001b[39m: [\n\u001b[1;32m      7\u001b[0m         \u001b[38;5;124m'\u001b[39m\u001b[38;5;124mNiger\u001b[39m\u001b[38;5;124m'\u001b[39m, \u001b[38;5;124m'\u001b[39m\u001b[38;5;124mIndia\u001b[39m\u001b[38;5;124m'\u001b[39m, \u001b[38;5;124m'\u001b[39m\u001b[38;5;124mIndonesia\u001b[39m\u001b[38;5;124m'\u001b[39m, \u001b[38;5;124m'\u001b[39m\u001b[38;5;124mChina\u001b[39m\u001b[38;5;124m'\u001b[39m, \u001b[38;5;124m'\u001b[39m\u001b[38;5;124mBrazil\u001b[39m\u001b[38;5;124m'\u001b[39m, \n\u001b[0;32m   (...)\u001b[0m\n\u001b[1;32m     20\u001b[0m     ]\n\u001b[1;32m     21\u001b[0m }\n",
      "\u001b[0;31mModuleNotFoundError\u001b[0m: No module named 'Weidman_Figures'"
     ]
    }
   ],
   "source": [
    "from Weidman_Figures import *\n",
    "\n",
    "fig, ax = Weid_Fig(height=6, widths=6, fontsize=24)\n",
    "\n",
    "data = {\n",
    "    'country': [\n",
    "        'Niger', 'India', 'Indonesia', 'China', 'Brazil', \n",
    "        'Russia', 'Poland', 'Spain', 'Japan', 'Switzerland',\n",
    "        'United States', 'Luxembourg', 'Qatar', 'Singapore'\n",
    "    ],\n",
    "    'gdp_per_capita': [\n",
    "        550, 2500, 4500, 12000, 9000,\n",
    "        12200, 18000, 30000, 40000, 85000,\n",
    "        65000, 118000, 97000, 72000\n",
    "    ],\n",
    "    'life_expectancy': [\n",
    "        63, 69, 72, 77, 76,\n",
    "        73, 79, 84, 85, 84,\n",
    "        79, 83, 80, 84\n",
    "    ]\n",
    "}\n",
    "\n",
    "plt.scatter(data['gdp_per_capita'], data['life_expectancy'], color='white', edgecolors='grey', alpha=0.7, s=50)\n",
    "\n",
    "plt.xlabel('GDP (trillion $)', loc='right')\n",
    "plt.ylabel('Production (billion kg)')\n",
    "plt.tight_layout()\n",
    "plt.savefig('ME03_04_Q1.png')"
   ]
  }
 ],
 "metadata": {
  "kernelspec": {
   "display_name": "Python 3 (ipykernel)",
   "language": "python",
   "name": "python3"
  },
  "language_info": {
   "codemirror_mode": {
    "name": "ipython",
    "version": 3
   },
   "file_extension": ".py",
   "mimetype": "text/x-python",
   "name": "python",
   "nbconvert_exporter": "python",
   "pygments_lexer": "ipython3",
   "version": "3.11.8"
  }
 },
 "nbformat": 4,
 "nbformat_minor": 4
}
